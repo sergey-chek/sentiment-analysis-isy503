{
  "nbformat": 4,
  "nbformat_minor": 0,
  "metadata": {
    "colab": {
      "provenance": [],
      "gpuType": "T4"
    },
    "kernelspec": {
      "name": "python3",
      "display_name": "Python 3"
    },
    "language_info": {
      "name": "python"
    },
    "accelerator": "GPU",
    "widgets": {
      "application/vnd.jupyter.widget-state+json": {
        "6c3977898c954c21b0fc5e368bbfe484": {
          "model_module": "@jupyter-widgets/controls",
          "model_name": "HBoxModel",
          "model_module_version": "1.5.0",
          "state": {
            "_dom_classes": [],
            "_model_module": "@jupyter-widgets/controls",
            "_model_module_version": "1.5.0",
            "_model_name": "HBoxModel",
            "_view_count": null,
            "_view_module": "@jupyter-widgets/controls",
            "_view_module_version": "1.5.0",
            "_view_name": "HBoxView",
            "box_style": "",
            "children": [
              "IPY_MODEL_c5292a75ecb64995a4b8b6f6e0d56bc1",
              "IPY_MODEL_0052398248364921a552bedb6cb3f71f",
              "IPY_MODEL_723a8f6968d14416b592c6d785304f2b"
            ],
            "layout": "IPY_MODEL_9916c4e9fe0d4b1590660819d13c188b"
          }
        },
        "c5292a75ecb64995a4b8b6f6e0d56bc1": {
          "model_module": "@jupyter-widgets/controls",
          "model_name": "HTMLModel",
          "model_module_version": "1.5.0",
          "state": {
            "_dom_classes": [],
            "_model_module": "@jupyter-widgets/controls",
            "_model_module_version": "1.5.0",
            "_model_name": "HTMLModel",
            "_view_count": null,
            "_view_module": "@jupyter-widgets/controls",
            "_view_module_version": "1.5.0",
            "_view_name": "HTMLView",
            "description": "",
            "description_tooltip": null,
            "layout": "IPY_MODEL_ec34228f103445ee8aadb25edcfad082",
            "placeholder": "​",
            "style": "IPY_MODEL_ed688407269e4c94a1547411d71d1676",
            "value": "config.json: 100%"
          }
        },
        "0052398248364921a552bedb6cb3f71f": {
          "model_module": "@jupyter-widgets/controls",
          "model_name": "FloatProgressModel",
          "model_module_version": "1.5.0",
          "state": {
            "_dom_classes": [],
            "_model_module": "@jupyter-widgets/controls",
            "_model_module_version": "1.5.0",
            "_model_name": "FloatProgressModel",
            "_view_count": null,
            "_view_module": "@jupyter-widgets/controls",
            "_view_module_version": "1.5.0",
            "_view_name": "ProgressView",
            "bar_style": "success",
            "description": "",
            "description_tooltip": null,
            "layout": "IPY_MODEL_ad307c1d4aa643eb8adcc4d6b9356b07",
            "max": 480,
            "min": 0,
            "orientation": "horizontal",
            "style": "IPY_MODEL_ee38f3f1d59f48dd91e05f30a08d5a50",
            "value": 480
          }
        },
        "723a8f6968d14416b592c6d785304f2b": {
          "model_module": "@jupyter-widgets/controls",
          "model_name": "HTMLModel",
          "model_module_version": "1.5.0",
          "state": {
            "_dom_classes": [],
            "_model_module": "@jupyter-widgets/controls",
            "_model_module_version": "1.5.0",
            "_model_name": "HTMLModel",
            "_view_count": null,
            "_view_module": "@jupyter-widgets/controls",
            "_view_module_version": "1.5.0",
            "_view_name": "HTMLView",
            "description": "",
            "description_tooltip": null,
            "layout": "IPY_MODEL_bc2c96a5066c403fb9a5b894b47c1ee0",
            "placeholder": "​",
            "style": "IPY_MODEL_67e64418ef97483094c846ee311720b5",
            "value": " 480/480 [00:00&lt;00:00, 7.76kB/s]"
          }
        },
        "9916c4e9fe0d4b1590660819d13c188b": {
          "model_module": "@jupyter-widgets/base",
          "model_name": "LayoutModel",
          "model_module_version": "1.2.0",
          "state": {
            "_model_module": "@jupyter-widgets/base",
            "_model_module_version": "1.2.0",
            "_model_name": "LayoutModel",
            "_view_count": null,
            "_view_module": "@jupyter-widgets/base",
            "_view_module_version": "1.2.0",
            "_view_name": "LayoutView",
            "align_content": null,
            "align_items": null,
            "align_self": null,
            "border": null,
            "bottom": null,
            "display": null,
            "flex": null,
            "flex_flow": null,
            "grid_area": null,
            "grid_auto_columns": null,
            "grid_auto_flow": null,
            "grid_auto_rows": null,
            "grid_column": null,
            "grid_gap": null,
            "grid_row": null,
            "grid_template_areas": null,
            "grid_template_columns": null,
            "grid_template_rows": null,
            "height": null,
            "justify_content": null,
            "justify_items": null,
            "left": null,
            "margin": null,
            "max_height": null,
            "max_width": null,
            "min_height": null,
            "min_width": null,
            "object_fit": null,
            "object_position": null,
            "order": null,
            "overflow": null,
            "overflow_x": null,
            "overflow_y": null,
            "padding": null,
            "right": null,
            "top": null,
            "visibility": null,
            "width": null
          }
        },
        "ec34228f103445ee8aadb25edcfad082": {
          "model_module": "@jupyter-widgets/base",
          "model_name": "LayoutModel",
          "model_module_version": "1.2.0",
          "state": {
            "_model_module": "@jupyter-widgets/base",
            "_model_module_version": "1.2.0",
            "_model_name": "LayoutModel",
            "_view_count": null,
            "_view_module": "@jupyter-widgets/base",
            "_view_module_version": "1.2.0",
            "_view_name": "LayoutView",
            "align_content": null,
            "align_items": null,
            "align_self": null,
            "border": null,
            "bottom": null,
            "display": null,
            "flex": null,
            "flex_flow": null,
            "grid_area": null,
            "grid_auto_columns": null,
            "grid_auto_flow": null,
            "grid_auto_rows": null,
            "grid_column": null,
            "grid_gap": null,
            "grid_row": null,
            "grid_template_areas": null,
            "grid_template_columns": null,
            "grid_template_rows": null,
            "height": null,
            "justify_content": null,
            "justify_items": null,
            "left": null,
            "margin": null,
            "max_height": null,
            "max_width": null,
            "min_height": null,
            "min_width": null,
            "object_fit": null,
            "object_position": null,
            "order": null,
            "overflow": null,
            "overflow_x": null,
            "overflow_y": null,
            "padding": null,
            "right": null,
            "top": null,
            "visibility": null,
            "width": null
          }
        },
        "ed688407269e4c94a1547411d71d1676": {
          "model_module": "@jupyter-widgets/controls",
          "model_name": "DescriptionStyleModel",
          "model_module_version": "1.5.0",
          "state": {
            "_model_module": "@jupyter-widgets/controls",
            "_model_module_version": "1.5.0",
            "_model_name": "DescriptionStyleModel",
            "_view_count": null,
            "_view_module": "@jupyter-widgets/base",
            "_view_module_version": "1.2.0",
            "_view_name": "StyleView",
            "description_width": ""
          }
        },
        "ad307c1d4aa643eb8adcc4d6b9356b07": {
          "model_module": "@jupyter-widgets/base",
          "model_name": "LayoutModel",
          "model_module_version": "1.2.0",
          "state": {
            "_model_module": "@jupyter-widgets/base",
            "_model_module_version": "1.2.0",
            "_model_name": "LayoutModel",
            "_view_count": null,
            "_view_module": "@jupyter-widgets/base",
            "_view_module_version": "1.2.0",
            "_view_name": "LayoutView",
            "align_content": null,
            "align_items": null,
            "align_self": null,
            "border": null,
            "bottom": null,
            "display": null,
            "flex": null,
            "flex_flow": null,
            "grid_area": null,
            "grid_auto_columns": null,
            "grid_auto_flow": null,
            "grid_auto_rows": null,
            "grid_column": null,
            "grid_gap": null,
            "grid_row": null,
            "grid_template_areas": null,
            "grid_template_columns": null,
            "grid_template_rows": null,
            "height": null,
            "justify_content": null,
            "justify_items": null,
            "left": null,
            "margin": null,
            "max_height": null,
            "max_width": null,
            "min_height": null,
            "min_width": null,
            "object_fit": null,
            "object_position": null,
            "order": null,
            "overflow": null,
            "overflow_x": null,
            "overflow_y": null,
            "padding": null,
            "right": null,
            "top": null,
            "visibility": null,
            "width": null
          }
        },
        "ee38f3f1d59f48dd91e05f30a08d5a50": {
          "model_module": "@jupyter-widgets/controls",
          "model_name": "ProgressStyleModel",
          "model_module_version": "1.5.0",
          "state": {
            "_model_module": "@jupyter-widgets/controls",
            "_model_module_version": "1.5.0",
            "_model_name": "ProgressStyleModel",
            "_view_count": null,
            "_view_module": "@jupyter-widgets/base",
            "_view_module_version": "1.2.0",
            "_view_name": "StyleView",
            "bar_color": null,
            "description_width": ""
          }
        },
        "bc2c96a5066c403fb9a5b894b47c1ee0": {
          "model_module": "@jupyter-widgets/base",
          "model_name": "LayoutModel",
          "model_module_version": "1.2.0",
          "state": {
            "_model_module": "@jupyter-widgets/base",
            "_model_module_version": "1.2.0",
            "_model_name": "LayoutModel",
            "_view_count": null,
            "_view_module": "@jupyter-widgets/base",
            "_view_module_version": "1.2.0",
            "_view_name": "LayoutView",
            "align_content": null,
            "align_items": null,
            "align_self": null,
            "border": null,
            "bottom": null,
            "display": null,
            "flex": null,
            "flex_flow": null,
            "grid_area": null,
            "grid_auto_columns": null,
            "grid_auto_flow": null,
            "grid_auto_rows": null,
            "grid_column": null,
            "grid_gap": null,
            "grid_row": null,
            "grid_template_areas": null,
            "grid_template_columns": null,
            "grid_template_rows": null,
            "height": null,
            "justify_content": null,
            "justify_items": null,
            "left": null,
            "margin": null,
            "max_height": null,
            "max_width": null,
            "min_height": null,
            "min_width": null,
            "object_fit": null,
            "object_position": null,
            "order": null,
            "overflow": null,
            "overflow_x": null,
            "overflow_y": null,
            "padding": null,
            "right": null,
            "top": null,
            "visibility": null,
            "width": null
          }
        },
        "67e64418ef97483094c846ee311720b5": {
          "model_module": "@jupyter-widgets/controls",
          "model_name": "DescriptionStyleModel",
          "model_module_version": "1.5.0",
          "state": {
            "_model_module": "@jupyter-widgets/controls",
            "_model_module_version": "1.5.0",
            "_model_name": "DescriptionStyleModel",
            "_view_count": null,
            "_view_module": "@jupyter-widgets/base",
            "_view_module_version": "1.2.0",
            "_view_name": "StyleView",
            "description_width": ""
          }
        },
        "d30d9be1f7d4489997ed51e66e822537": {
          "model_module": "@jupyter-widgets/controls",
          "model_name": "HBoxModel",
          "model_module_version": "1.5.0",
          "state": {
            "_dom_classes": [],
            "_model_module": "@jupyter-widgets/controls",
            "_model_module_version": "1.5.0",
            "_model_name": "HBoxModel",
            "_view_count": null,
            "_view_module": "@jupyter-widgets/controls",
            "_view_module_version": "1.5.0",
            "_view_name": "HBoxView",
            "box_style": "",
            "children": [
              "IPY_MODEL_cfa47d02d76a480a9ac7fd171bf36d16",
              "IPY_MODEL_d281e42bfa294085b29c563f5c0d3ba3",
              "IPY_MODEL_4625b9f2083c43e88ae93bafd1545bc4"
            ],
            "layout": "IPY_MODEL_b934d3412c4e40df9ed3cd73756d5af0"
          }
        },
        "cfa47d02d76a480a9ac7fd171bf36d16": {
          "model_module": "@jupyter-widgets/controls",
          "model_name": "HTMLModel",
          "model_module_version": "1.5.0",
          "state": {
            "_dom_classes": [],
            "_model_module": "@jupyter-widgets/controls",
            "_model_module_version": "1.5.0",
            "_model_name": "HTMLModel",
            "_view_count": null,
            "_view_module": "@jupyter-widgets/controls",
            "_view_module_version": "1.5.0",
            "_view_name": "HTMLView",
            "description": "",
            "description_tooltip": null,
            "layout": "IPY_MODEL_2e883f46849d48b79aa4e3193cb21efc",
            "placeholder": "​",
            "style": "IPY_MODEL_9a08bb26eef84be48c0ef0f51a51643f",
            "value": "model.safetensors: 100%"
          }
        },
        "d281e42bfa294085b29c563f5c0d3ba3": {
          "model_module": "@jupyter-widgets/controls",
          "model_name": "FloatProgressModel",
          "model_module_version": "1.5.0",
          "state": {
            "_dom_classes": [],
            "_model_module": "@jupyter-widgets/controls",
            "_model_module_version": "1.5.0",
            "_model_name": "FloatProgressModel",
            "_view_count": null,
            "_view_module": "@jupyter-widgets/controls",
            "_view_module_version": "1.5.0",
            "_view_name": "ProgressView",
            "bar_style": "success",
            "description": "",
            "description_tooltip": null,
            "layout": "IPY_MODEL_26774b8795cd4f9d8d9c0c138390d5f6",
            "max": 331055963,
            "min": 0,
            "orientation": "horizontal",
            "style": "IPY_MODEL_5aca782d14324d8c9e68cb517f43c698",
            "value": 331055963
          }
        },
        "4625b9f2083c43e88ae93bafd1545bc4": {
          "model_module": "@jupyter-widgets/controls",
          "model_name": "HTMLModel",
          "model_module_version": "1.5.0",
          "state": {
            "_dom_classes": [],
            "_model_module": "@jupyter-widgets/controls",
            "_model_module_version": "1.5.0",
            "_model_name": "HTMLModel",
            "_view_count": null,
            "_view_module": "@jupyter-widgets/controls",
            "_view_module_version": "1.5.0",
            "_view_name": "HTMLView",
            "description": "",
            "description_tooltip": null,
            "layout": "IPY_MODEL_0e5dafaa01e94ce1aae100d6d4b9cc3b",
            "placeholder": "​",
            "style": "IPY_MODEL_08c2d14d884e40dfae65baf1d67d69f1",
            "value": " 331M/331M [00:03&lt;00:00, 97.9MB/s]"
          }
        },
        "b934d3412c4e40df9ed3cd73756d5af0": {
          "model_module": "@jupyter-widgets/base",
          "model_name": "LayoutModel",
          "model_module_version": "1.2.0",
          "state": {
            "_model_module": "@jupyter-widgets/base",
            "_model_module_version": "1.2.0",
            "_model_name": "LayoutModel",
            "_view_count": null,
            "_view_module": "@jupyter-widgets/base",
            "_view_module_version": "1.2.0",
            "_view_name": "LayoutView",
            "align_content": null,
            "align_items": null,
            "align_self": null,
            "border": null,
            "bottom": null,
            "display": null,
            "flex": null,
            "flex_flow": null,
            "grid_area": null,
            "grid_auto_columns": null,
            "grid_auto_flow": null,
            "grid_auto_rows": null,
            "grid_column": null,
            "grid_gap": null,
            "grid_row": null,
            "grid_template_areas": null,
            "grid_template_columns": null,
            "grid_template_rows": null,
            "height": null,
            "justify_content": null,
            "justify_items": null,
            "left": null,
            "margin": null,
            "max_height": null,
            "max_width": null,
            "min_height": null,
            "min_width": null,
            "object_fit": null,
            "object_position": null,
            "order": null,
            "overflow": null,
            "overflow_x": null,
            "overflow_y": null,
            "padding": null,
            "right": null,
            "top": null,
            "visibility": null,
            "width": null
          }
        },
        "2e883f46849d48b79aa4e3193cb21efc": {
          "model_module": "@jupyter-widgets/base",
          "model_name": "LayoutModel",
          "model_module_version": "1.2.0",
          "state": {
            "_model_module": "@jupyter-widgets/base",
            "_model_module_version": "1.2.0",
            "_model_name": "LayoutModel",
            "_view_count": null,
            "_view_module": "@jupyter-widgets/base",
            "_view_module_version": "1.2.0",
            "_view_name": "LayoutView",
            "align_content": null,
            "align_items": null,
            "align_self": null,
            "border": null,
            "bottom": null,
            "display": null,
            "flex": null,
            "flex_flow": null,
            "grid_area": null,
            "grid_auto_columns": null,
            "grid_auto_flow": null,
            "grid_auto_rows": null,
            "grid_column": null,
            "grid_gap": null,
            "grid_row": null,
            "grid_template_areas": null,
            "grid_template_columns": null,
            "grid_template_rows": null,
            "height": null,
            "justify_content": null,
            "justify_items": null,
            "left": null,
            "margin": null,
            "max_height": null,
            "max_width": null,
            "min_height": null,
            "min_width": null,
            "object_fit": null,
            "object_position": null,
            "order": null,
            "overflow": null,
            "overflow_x": null,
            "overflow_y": null,
            "padding": null,
            "right": null,
            "top": null,
            "visibility": null,
            "width": null
          }
        },
        "9a08bb26eef84be48c0ef0f51a51643f": {
          "model_module": "@jupyter-widgets/controls",
          "model_name": "DescriptionStyleModel",
          "model_module_version": "1.5.0",
          "state": {
            "_model_module": "@jupyter-widgets/controls",
            "_model_module_version": "1.5.0",
            "_model_name": "DescriptionStyleModel",
            "_view_count": null,
            "_view_module": "@jupyter-widgets/base",
            "_view_module_version": "1.2.0",
            "_view_name": "StyleView",
            "description_width": ""
          }
        },
        "26774b8795cd4f9d8d9c0c138390d5f6": {
          "model_module": "@jupyter-widgets/base",
          "model_name": "LayoutModel",
          "model_module_version": "1.2.0",
          "state": {
            "_model_module": "@jupyter-widgets/base",
            "_model_module_version": "1.2.0",
            "_model_name": "LayoutModel",
            "_view_count": null,
            "_view_module": "@jupyter-widgets/base",
            "_view_module_version": "1.2.0",
            "_view_name": "LayoutView",
            "align_content": null,
            "align_items": null,
            "align_self": null,
            "border": null,
            "bottom": null,
            "display": null,
            "flex": null,
            "flex_flow": null,
            "grid_area": null,
            "grid_auto_columns": null,
            "grid_auto_flow": null,
            "grid_auto_rows": null,
            "grid_column": null,
            "grid_gap": null,
            "grid_row": null,
            "grid_template_areas": null,
            "grid_template_columns": null,
            "grid_template_rows": null,
            "height": null,
            "justify_content": null,
            "justify_items": null,
            "left": null,
            "margin": null,
            "max_height": null,
            "max_width": null,
            "min_height": null,
            "min_width": null,
            "object_fit": null,
            "object_position": null,
            "order": null,
            "overflow": null,
            "overflow_x": null,
            "overflow_y": null,
            "padding": null,
            "right": null,
            "top": null,
            "visibility": null,
            "width": null
          }
        },
        "5aca782d14324d8c9e68cb517f43c698": {
          "model_module": "@jupyter-widgets/controls",
          "model_name": "ProgressStyleModel",
          "model_module_version": "1.5.0",
          "state": {
            "_model_module": "@jupyter-widgets/controls",
            "_model_module_version": "1.5.0",
            "_model_name": "ProgressStyleModel",
            "_view_count": null,
            "_view_module": "@jupyter-widgets/base",
            "_view_module_version": "1.2.0",
            "_view_name": "StyleView",
            "bar_color": null,
            "description_width": ""
          }
        },
        "0e5dafaa01e94ce1aae100d6d4b9cc3b": {
          "model_module": "@jupyter-widgets/base",
          "model_name": "LayoutModel",
          "model_module_version": "1.2.0",
          "state": {
            "_model_module": "@jupyter-widgets/base",
            "_model_module_version": "1.2.0",
            "_model_name": "LayoutModel",
            "_view_count": null,
            "_view_module": "@jupyter-widgets/base",
            "_view_module_version": "1.2.0",
            "_view_name": "LayoutView",
            "align_content": null,
            "align_items": null,
            "align_self": null,
            "border": null,
            "bottom": null,
            "display": null,
            "flex": null,
            "flex_flow": null,
            "grid_area": null,
            "grid_auto_columns": null,
            "grid_auto_flow": null,
            "grid_auto_rows": null,
            "grid_column": null,
            "grid_gap": null,
            "grid_row": null,
            "grid_template_areas": null,
            "grid_template_columns": null,
            "grid_template_rows": null,
            "height": null,
            "justify_content": null,
            "justify_items": null,
            "left": null,
            "margin": null,
            "max_height": null,
            "max_width": null,
            "min_height": null,
            "min_width": null,
            "object_fit": null,
            "object_position": null,
            "order": null,
            "overflow": null,
            "overflow_x": null,
            "overflow_y": null,
            "padding": null,
            "right": null,
            "top": null,
            "visibility": null,
            "width": null
          }
        },
        "08c2d14d884e40dfae65baf1d67d69f1": {
          "model_module": "@jupyter-widgets/controls",
          "model_name": "DescriptionStyleModel",
          "model_module_version": "1.5.0",
          "state": {
            "_model_module": "@jupyter-widgets/controls",
            "_model_module_version": "1.5.0",
            "_model_name": "DescriptionStyleModel",
            "_view_count": null,
            "_view_module": "@jupyter-widgets/base",
            "_view_module_version": "1.2.0",
            "_view_name": "StyleView",
            "description_width": ""
          }
        }
      }
    }
  },
  "cells": [
    {
      "cell_type": "markdown",
      "source": [
        "Here is first step to convert review file to csv (example for one file)\n",
        "\n",
        "\n",
        "\n"
      ],
      "metadata": {
        "id": "zivOGBIkDvtL"
      }
    },
    {
      "cell_type": "code",
      "execution_count": null,
      "metadata": {
        "colab": {
          "base_uri": "https://localhost:8080/"
        },
        "id": "kPlMm9YdDba_",
        "outputId": "805ab070-6232-4f08-d2ce-e0e64f43da0f"
      },
      "outputs": [
        {
          "output_type": "stream",
          "name": "stdout",
          "text": [
            "CSV file 'dvdpos.csv' created successfully.\n"
          ]
        }
      ],
      "source": [
        "import csv\n",
        "import re\n",
        "import requests\n",
        "\n",
        "# Specify the input and output file paths\n",
        "input_url = 'https://github.com/Vovanch0/sentiment-analysis-isy503/raw/main/data/dvd_positive.review'\n",
        "output_file = 'dvd_positive.csv'\n",
        "\n",
        "# Download the content of the .review file from the URL\n",
        "response = requests.get(input_url)\n",
        "data = response.text\n",
        "\n",
        "\n",
        "# Split the data into individual reviews\n",
        "reviews = re.findall(r'<review>(.*?)</review>', data, re.DOTALL)\n",
        "\n",
        "# Prepare the CSV file headers\n",
        "headers = [\n",
        "    'unique_id', 'asin', 'product_name', 'product_type', 'helpful',\n",
        "    'rating', 'title', 'date', 'reviewer', 'reviewer_location', 'review_text'\n",
        "]\n",
        "\n",
        "\n",
        "# Open a CSV file for writing\n",
        "with open(output_file, 'w', newline='', encoding='utf-8') as csvfile:\n",
        "    writer = csv.DictWriter(csvfile, fieldnames=headers)\n",
        "    writer.writeheader()\n",
        "\n",
        "    # Iterate through each review and extract the fields\n",
        "    for review in reviews:\n",
        "        review_dict = {}\n",
        "        for header in headers:\n",
        "            pattern = f'<{header}>(.*?)</{header}>'\n",
        "            match = re.search(pattern, review, re.DOTALL)\n",
        "            review_dict[header] = match.group(1).strip() if match else ''\n",
        "\n",
        "        # Write the row to the CSV\n",
        "        writer.writerow(review_dict)\n",
        "\n",
        "print(f\"CSV file '{output_file}' created successfully.\")"
      ]
    },
    {
      "cell_type": "markdown",
      "source": [
        "Local save from virtual Google colab fs"
      ],
      "metadata": {
        "id": "0ZR_HB2cT1OB"
      }
    },
    {
      "cell_type": "code",
      "source": [
        "from google.colab import files\n",
        "files.download('dvd_positive.csv')"
      ],
      "metadata": {
        "id": "dEa40qhVRnfB"
      },
      "execution_count": null,
      "outputs": []
    },
    {
      "cell_type": "markdown",
      "source": [
        "Merge all csv file to one csv"
      ],
      "metadata": {
        "id": "N1mADoynUQqD"
      }
    },
    {
      "cell_type": "code",
      "source": [
        "import os\n",
        "import pandas as pd\n",
        "\n",
        "def merge_csv_files(folder_path, output_file):\n",
        "    # List to hold all the dataframes\n",
        "    all_dataframes = []\n",
        "\n",
        "    # Iterate over all files in the folder\n",
        "    for filename in os.listdir(folder_path):\n",
        "        if filename.endswith(\".csv\"):\n",
        "            csv_file = os.path.join(folder_path, filename)\n",
        "            # Read the CSV file into a DataFrame\n",
        "            df = pd.read_csv(csv_file)\n",
        "            all_dataframes.append(df)\n",
        "\n",
        "    # Concatenate all DataFrames\n",
        "    merged_df = pd.concat(all_dataframes, ignore_index=True)\n",
        "\n",
        "    # Write the merged DataFrame to a new CSV file\n",
        "    merged_df.to_csv(output_file, index=False)\n",
        "\n",
        "folder_path = \"C:/503/final\"  # Replace with your folder path\n",
        "output_file = \"C:/503/final/merged_output.csv\"    # Name of the output file\n",
        "\n",
        "merge_csv_files(folder_path, output_file)"
      ],
      "metadata": {
        "id": "GADoXbJ3UV6f"
      },
      "execution_count": null,
      "outputs": []
    },
    {
      "cell_type": "markdown",
      "source": [
        "After that, I have uploaded this file to github.\n",
        "\n",
        "Link\n",
        "https://github.com/Vovanch0/sentiment-analysis-isy503/raw/main/data/merged_output.csv\n"
      ],
      "metadata": {
        "id": "1FlQKXW2UhjW"
      }
    },
    {
      "cell_type": "code",
      "source": [
        "from matplotlib import pyplot as plt\n",
        "from sklearn.metrics import accuracy_score\n",
        "from sklearn.metrics import confusion_matrix\n",
        "from sklearn.model_selection import train_test_split\n",
        "from sklearn.feature_extraction.text import CountVectorizer\n",
        "import numpy as np\n",
        "import plotly.express as px\n",
        "\n",
        "import pandas as pd\n",
        "data = pd.read_csv('https://github.com/Vovanch0/sentiment-analysis-isy503/raw/main/data/merged_output.csv',\n",
        "                   sep=',', encoding='utf8')\n",
        "\n"
      ],
      "metadata": {
        "id": "aRi_jqRxWYmj"
      },
      "execution_count": null,
      "outputs": []
    },
    {
      "cell_type": "code",
      "source": [
        "print('Number of reviews', str(len(data)))"
      ],
      "metadata": {
        "colab": {
          "base_uri": "https://localhost:8080/"
        },
        "id": "DFWG6XFfSTeb",
        "outputId": "1a7255f7-c944-42d7-dd3e-ee0e171d62ab"
      },
      "execution_count": null,
      "outputs": [
        {
          "output_type": "stream",
          "name": "stdout",
          "text": [
            "Number of reviews 8000\n"
          ]
        }
      ]
    },
    {
      "cell_type": "code",
      "source": [
        "data.head(15)"
      ],
      "metadata": {
        "collapsed": true,
        "id": "_k-oo55KW4rz"
      },
      "execution_count": null,
      "outputs": []
    },
    {
      "cell_type": "markdown",
      "source": [
        "Encoding the words"
      ],
      "metadata": {
        "id": "dIWaihx2OERu"
      }
    },
    {
      "cell_type": "markdown",
      "source": [
        "Encode the labels for ‘positive’ and ‘negative’"
      ],
      "metadata": {
        "id": "q7CRuf6KSFVD"
      }
    },
    {
      "cell_type": "code",
      "source": [
        "# Create a new column called 'type'.\n",
        "# If the rating is greater than 3, then the type of review is positive (1),\n",
        "# otherwise it is negative (0)\n",
        "data['type'] = np.where(data['rating'] > 3, 1, 0)\n",
        "\n",
        "# Delete the unnecessary columns\n",
        "data.drop(['unique_id', 'asin', 'product_name', 'product_type', 'helpful',\n",
        "           'date', 'reviewer', 'reviewer_location'], axis=1, inplace=True)\n",
        "\n",
        "# Show the number of positive and negative reviews\n",
        "type_review = data['type'].value_counts()\n",
        "print(\"Number of positive reviews:\", type_review[1])\n",
        "print(\"Number of negative reviews:\", type_review[0])"
      ],
      "metadata": {
        "colab": {
          "base_uri": "https://localhost:8080/"
        },
        "id": "sSodiuRPQlaZ",
        "outputId": "7beba650-18ba-4eed-aca7-2f86c5e764ce"
      },
      "execution_count": null,
      "outputs": [
        {
          "output_type": "stream",
          "name": "stdout",
          "text": [
            "Number of positive reviews: 4000\n",
            "Number of negative reviews: 4000\n"
          ]
        }
      ]
    },
    {
      "cell_type": "code",
      "source": [
        "data.head(15)"
      ],
      "metadata": {
        "colab": {
          "base_uri": "https://localhost:8080/",
          "height": 780
        },
        "id": "X_0x04NLRYpF",
        "outputId": "1eab5589-836b-46ef-9f37-e4f9aace5d36"
      },
      "execution_count": null,
      "outputs": [
        {
          "output_type": "execute_result",
          "data": {
            "text/plain": [
              "    rating                                                  title  \\\n",
              "0      1.0                               Horrible book, horrible.   \n",
              "1      1.0                                shallow self-indulgence   \n",
              "2      1.0                               Horrible book, horrible.   \n",
              "3      1.0                                         Disappointment   \n",
              "4      2.0                                   A Disappointing Mess   \n",
              "5      2.0      Save your money, there are better books out there   \n",
              "6      1.0                              Thank you, but no, thanks   \n",
              "7      1.0                                            Unendurable   \n",
              "8      1.0                                           The Hard Way   \n",
              "9      2.0          Some good info among the political commercial   \n",
              "10     2.0  Interesting reading, but take it with a grain of salt   \n",
              "11     2.0                                      The Half-way mark   \n",
              "12     1.0  A book intended to deflect attention from Arab racism   \n",
              "13     1.0     Is This BOOK Made Of 100% American Products? Nope!   \n",
              "14     1.0                                  Bukowski's worst book   \n",
              "\n",
              "                                                                                                                                                                                                                                                  review_text  \\\n",
              "0   THis book was horrible.  If it was possible to rate it lower than one star i would have.  I am an avid reader and picked this book up after my mom had gotten it from a friend.  I read half of it, suffering from a headache the entire time, and the...   \n",
              "1   I like to use the Amazon reviews when purchasing books, especially alert for dissenting perceptions about higly rated items, which usually disuades me from a selection.  So I offer this review that seriously questions the popularity of this work ...   \n",
              "2   THis book was horrible.  If it was possible to rate it lower than one star i would have.  I am an avid reader and picked this book up after my mom had gotten it from a friend.  I read half of it, suffering from a headache the entire time, and the...   \n",
              "3   I'm not sure who's writing these reviews, but I read repitition after repitition after repitition, with a lot of confusing fluff. Asking hard questions to solve complex or simple issues. What's \"fierce\" about that? \\n\\nThe writing style and conte...   \n",
              "4   I picked up the first book in this series (The Eyre Affair) based purely on its premise and was left somewhat underwhelmed. Still, the potential for the series seemed so large that I went ahead and read this second one too, only to be even less e...   \n",
              "5   Not only do I disagree with his opinions, but some of his facts are blatently false.  On page 106 he refers to violence agains Native Americans by European settlers as \"isolated instances\" and not planned nor calculated.  Had to read it for a cla...   \n",
              "6   &quot;I have received your new book against the human race, and thank you for it. Never was such cleverness used in the design of making us all stupid. One longs, in reading your book, to walk on all fours. But as I have lost that habit for more ...   \n",
              "7   This book was on somebody's Amazon.com LISTMANIA for Sea Turtles, so I hunted it down.  It is only vaguely about sea turtles, in that it is set on an island in Georgia where sea turtles nest.  There is a sea turtle biologist introduced at the ver...   \n",
              "8   I am not sure whatever possessed me to buy this book.  Honestly, it was a complete waste of my time.  To quote a friend, it was not the best use of my entertainment dollar.  If you are a fan of pedestrian writing, lack-luster plots and hackneyed ...   \n",
              "9   When Professor Polk describes the sweep of history in Iraq, he is at his best, but the book often descends into a political diatribe that is neither appropriate nor grounded in the facts.  Much of the political ranting is supposition, marring wha...   \n",
              "10  This is a story of the lives of 5 people who attended college with the author during the early 1980s in post cultural revolution China.  The 5 people live relatively miserable lives, touched by official corruption and incompetence (with the excep...   \n",
              "11  This is the sixth book in the Left Behind series. It is also the first one in the series I did not finish in one sitting. It did not flow as well as the others, so as to lend itself to a complete reading in one evening. The book also spends a lot...   \n",
              "12  This book is essentially about how culture is used to promote the interest of stronger, imperial powers.  Said condemns intellectuals in the West who in his eyes are \"agents of exploitation\".  Yet Said himself is an agent of racism.  \\n\\nA Pan Ar...   \n",
              "13  Oh, yes - this is a very fine book... for me to poop on! \\n\\nIn other words, it's a JOKE book. It's just another one of a half dozen duds out there, all trying to slam whoever happens to be the #1 retailer at the time - this decade it's Wal-Mart....   \n",
              "14  Hands down this is Bukowski's single worst book.  Bought it when it first came out just before/after his death in 1994.  Having read just about everything the man had written, \"Pulp\" was a hugely disappointing epitaph.  If you've never read Bukow...   \n",
              "\n",
              "    type  \n",
              "0      0  \n",
              "1      0  \n",
              "2      0  \n",
              "3      0  \n",
              "4      0  \n",
              "5      0  \n",
              "6      0  \n",
              "7      0  \n",
              "8      0  \n",
              "9      0  \n",
              "10     0  \n",
              "11     0  \n",
              "12     0  \n",
              "13     0  \n",
              "14     0  "
            ],
            "text/html": [
              "\n",
              "  <div id=\"df-f4c1da6c-f15a-4beb-b906-1921d8407812\" class=\"colab-df-container\">\n",
              "    <div>\n",
              "<style scoped>\n",
              "    .dataframe tbody tr th:only-of-type {\n",
              "        vertical-align: middle;\n",
              "    }\n",
              "\n",
              "    .dataframe tbody tr th {\n",
              "        vertical-align: top;\n",
              "    }\n",
              "\n",
              "    .dataframe thead th {\n",
              "        text-align: right;\n",
              "    }\n",
              "</style>\n",
              "<table border=\"1\" class=\"dataframe\">\n",
              "  <thead>\n",
              "    <tr style=\"text-align: right;\">\n",
              "      <th></th>\n",
              "      <th>rating</th>\n",
              "      <th>title</th>\n",
              "      <th>review_text</th>\n",
              "      <th>type</th>\n",
              "    </tr>\n",
              "  </thead>\n",
              "  <tbody>\n",
              "    <tr>\n",
              "      <th>0</th>\n",
              "      <td>1.0</td>\n",
              "      <td>Horrible book, horrible.</td>\n",
              "      <td>THis book was horrible.  If it was possible to rate it lower than one star i would have.  I am an avid reader and picked this book up after my mom had gotten it from a friend.  I read half of it, suffering from a headache the entire time, and the...</td>\n",
              "      <td>0</td>\n",
              "    </tr>\n",
              "    <tr>\n",
              "      <th>1</th>\n",
              "      <td>1.0</td>\n",
              "      <td>shallow self-indulgence</td>\n",
              "      <td>I like to use the Amazon reviews when purchasing books, especially alert for dissenting perceptions about higly rated items, which usually disuades me from a selection.  So I offer this review that seriously questions the popularity of this work ...</td>\n",
              "      <td>0</td>\n",
              "    </tr>\n",
              "    <tr>\n",
              "      <th>2</th>\n",
              "      <td>1.0</td>\n",
              "      <td>Horrible book, horrible.</td>\n",
              "      <td>THis book was horrible.  If it was possible to rate it lower than one star i would have.  I am an avid reader and picked this book up after my mom had gotten it from a friend.  I read half of it, suffering from a headache the entire time, and the...</td>\n",
              "      <td>0</td>\n",
              "    </tr>\n",
              "    <tr>\n",
              "      <th>3</th>\n",
              "      <td>1.0</td>\n",
              "      <td>Disappointment</td>\n",
              "      <td>I'm not sure who's writing these reviews, but I read repitition after repitition after repitition, with a lot of confusing fluff. Asking hard questions to solve complex or simple issues. What's \"fierce\" about that? \\n\\nThe writing style and conte...</td>\n",
              "      <td>0</td>\n",
              "    </tr>\n",
              "    <tr>\n",
              "      <th>4</th>\n",
              "      <td>2.0</td>\n",
              "      <td>A Disappointing Mess</td>\n",
              "      <td>I picked up the first book in this series (The Eyre Affair) based purely on its premise and was left somewhat underwhelmed. Still, the potential for the series seemed so large that I went ahead and read this second one too, only to be even less e...</td>\n",
              "      <td>0</td>\n",
              "    </tr>\n",
              "    <tr>\n",
              "      <th>5</th>\n",
              "      <td>2.0</td>\n",
              "      <td>Save your money, there are better books out there</td>\n",
              "      <td>Not only do I disagree with his opinions, but some of his facts are blatently false.  On page 106 he refers to violence agains Native Americans by European settlers as \"isolated instances\" and not planned nor calculated.  Had to read it for a cla...</td>\n",
              "      <td>0</td>\n",
              "    </tr>\n",
              "    <tr>\n",
              "      <th>6</th>\n",
              "      <td>1.0</td>\n",
              "      <td>Thank you, but no, thanks</td>\n",
              "      <td>&amp;quot;I have received your new book against the human race, and thank you for it. Never was such cleverness used in the design of making us all stupid. One longs, in reading your book, to walk on all fours. But as I have lost that habit for more ...</td>\n",
              "      <td>0</td>\n",
              "    </tr>\n",
              "    <tr>\n",
              "      <th>7</th>\n",
              "      <td>1.0</td>\n",
              "      <td>Unendurable</td>\n",
              "      <td>This book was on somebody's Amazon.com LISTMANIA for Sea Turtles, so I hunted it down.  It is only vaguely about sea turtles, in that it is set on an island in Georgia where sea turtles nest.  There is a sea turtle biologist introduced at the ver...</td>\n",
              "      <td>0</td>\n",
              "    </tr>\n",
              "    <tr>\n",
              "      <th>8</th>\n",
              "      <td>1.0</td>\n",
              "      <td>The Hard Way</td>\n",
              "      <td>I am not sure whatever possessed me to buy this book.  Honestly, it was a complete waste of my time.  To quote a friend, it was not the best use of my entertainment dollar.  If you are a fan of pedestrian writing, lack-luster plots and hackneyed ...</td>\n",
              "      <td>0</td>\n",
              "    </tr>\n",
              "    <tr>\n",
              "      <th>9</th>\n",
              "      <td>2.0</td>\n",
              "      <td>Some good info among the political commercial</td>\n",
              "      <td>When Professor Polk describes the sweep of history in Iraq, he is at his best, but the book often descends into a political diatribe that is neither appropriate nor grounded in the facts.  Much of the political ranting is supposition, marring wha...</td>\n",
              "      <td>0</td>\n",
              "    </tr>\n",
              "    <tr>\n",
              "      <th>10</th>\n",
              "      <td>2.0</td>\n",
              "      <td>Interesting reading, but take it with a grain of salt</td>\n",
              "      <td>This is a story of the lives of 5 people who attended college with the author during the early 1980s in post cultural revolution China.  The 5 people live relatively miserable lives, touched by official corruption and incompetence (with the excep...</td>\n",
              "      <td>0</td>\n",
              "    </tr>\n",
              "    <tr>\n",
              "      <th>11</th>\n",
              "      <td>2.0</td>\n",
              "      <td>The Half-way mark</td>\n",
              "      <td>This is the sixth book in the Left Behind series. It is also the first one in the series I did not finish in one sitting. It did not flow as well as the others, so as to lend itself to a complete reading in one evening. The book also spends a lot...</td>\n",
              "      <td>0</td>\n",
              "    </tr>\n",
              "    <tr>\n",
              "      <th>12</th>\n",
              "      <td>1.0</td>\n",
              "      <td>A book intended to deflect attention from Arab racism</td>\n",
              "      <td>This book is essentially about how culture is used to promote the interest of stronger, imperial powers.  Said condemns intellectuals in the West who in his eyes are \"agents of exploitation\".  Yet Said himself is an agent of racism.  \\n\\nA Pan Ar...</td>\n",
              "      <td>0</td>\n",
              "    </tr>\n",
              "    <tr>\n",
              "      <th>13</th>\n",
              "      <td>1.0</td>\n",
              "      <td>Is This BOOK Made Of 100% American Products? Nope!</td>\n",
              "      <td>Oh, yes - this is a very fine book... for me to poop on! \\n\\nIn other words, it's a JOKE book. It's just another one of a half dozen duds out there, all trying to slam whoever happens to be the #1 retailer at the time - this decade it's Wal-Mart....</td>\n",
              "      <td>0</td>\n",
              "    </tr>\n",
              "    <tr>\n",
              "      <th>14</th>\n",
              "      <td>1.0</td>\n",
              "      <td>Bukowski's worst book</td>\n",
              "      <td>Hands down this is Bukowski's single worst book.  Bought it when it first came out just before/after his death in 1994.  Having read just about everything the man had written, \"Pulp\" was a hugely disappointing epitaph.  If you've never read Bukow...</td>\n",
              "      <td>0</td>\n",
              "    </tr>\n",
              "  </tbody>\n",
              "</table>\n",
              "</div>\n",
              "    <div class=\"colab-df-buttons\">\n",
              "\n",
              "  <div class=\"colab-df-container\">\n",
              "    <button class=\"colab-df-convert\" onclick=\"convertToInteractive('df-f4c1da6c-f15a-4beb-b906-1921d8407812')\"\n",
              "            title=\"Convert this dataframe to an interactive table.\"\n",
              "            style=\"display:none;\">\n",
              "\n",
              "  <svg xmlns=\"http://www.w3.org/2000/svg\" height=\"24px\" viewBox=\"0 -960 960 960\">\n",
              "    <path d=\"M120-120v-720h720v720H120Zm60-500h600v-160H180v160Zm220 220h160v-160H400v160Zm0 220h160v-160H400v160ZM180-400h160v-160H180v160Zm440 0h160v-160H620v160ZM180-180h160v-160H180v160Zm440 0h160v-160H620v160Z\"/>\n",
              "  </svg>\n",
              "    </button>\n",
              "\n",
              "  <style>\n",
              "    .colab-df-container {\n",
              "      display:flex;\n",
              "      gap: 12px;\n",
              "    }\n",
              "\n",
              "    .colab-df-convert {\n",
              "      background-color: #E8F0FE;\n",
              "      border: none;\n",
              "      border-radius: 50%;\n",
              "      cursor: pointer;\n",
              "      display: none;\n",
              "      fill: #1967D2;\n",
              "      height: 32px;\n",
              "      padding: 0 0 0 0;\n",
              "      width: 32px;\n",
              "    }\n",
              "\n",
              "    .colab-df-convert:hover {\n",
              "      background-color: #E2EBFA;\n",
              "      box-shadow: 0px 1px 2px rgba(60, 64, 67, 0.3), 0px 1px 3px 1px rgba(60, 64, 67, 0.15);\n",
              "      fill: #174EA6;\n",
              "    }\n",
              "\n",
              "    .colab-df-buttons div {\n",
              "      margin-bottom: 4px;\n",
              "    }\n",
              "\n",
              "    [theme=dark] .colab-df-convert {\n",
              "      background-color: #3B4455;\n",
              "      fill: #D2E3FC;\n",
              "    }\n",
              "\n",
              "    [theme=dark] .colab-df-convert:hover {\n",
              "      background-color: #434B5C;\n",
              "      box-shadow: 0px 1px 3px 1px rgba(0, 0, 0, 0.15);\n",
              "      filter: drop-shadow(0px 1px 2px rgba(0, 0, 0, 0.3));\n",
              "      fill: #FFFFFF;\n",
              "    }\n",
              "  </style>\n",
              "\n",
              "    <script>\n",
              "      const buttonEl =\n",
              "        document.querySelector('#df-f4c1da6c-f15a-4beb-b906-1921d8407812 button.colab-df-convert');\n",
              "      buttonEl.style.display =\n",
              "        google.colab.kernel.accessAllowed ? 'block' : 'none';\n",
              "\n",
              "      async function convertToInteractive(key) {\n",
              "        const element = document.querySelector('#df-f4c1da6c-f15a-4beb-b906-1921d8407812');\n",
              "        const dataTable =\n",
              "          await google.colab.kernel.invokeFunction('convertToInteractive',\n",
              "                                                    [key], {});\n",
              "        if (!dataTable) return;\n",
              "\n",
              "        const docLinkHtml = 'Like what you see? Visit the ' +\n",
              "          '<a target=\"_blank\" href=https://colab.research.google.com/notebooks/data_table.ipynb>data table notebook</a>'\n",
              "          + ' to learn more about interactive tables.';\n",
              "        element.innerHTML = '';\n",
              "        dataTable['output_type'] = 'display_data';\n",
              "        await google.colab.output.renderOutput(dataTable, element);\n",
              "        const docLink = document.createElement('div');\n",
              "        docLink.innerHTML = docLinkHtml;\n",
              "        element.appendChild(docLink);\n",
              "      }\n",
              "    </script>\n",
              "  </div>\n",
              "\n",
              "\n",
              "<div id=\"df-68d8d5fd-9a18-408d-9b0f-ea47dab73008\">\n",
              "  <button class=\"colab-df-quickchart\" onclick=\"quickchart('df-68d8d5fd-9a18-408d-9b0f-ea47dab73008')\"\n",
              "            title=\"Suggest charts\"\n",
              "            style=\"display:none;\">\n",
              "\n",
              "<svg xmlns=\"http://www.w3.org/2000/svg\" height=\"24px\"viewBox=\"0 0 24 24\"\n",
              "     width=\"24px\">\n",
              "    <g>\n",
              "        <path d=\"M19 3H5c-1.1 0-2 .9-2 2v14c0 1.1.9 2 2 2h14c1.1 0 2-.9 2-2V5c0-1.1-.9-2-2-2zM9 17H7v-7h2v7zm4 0h-2V7h2v10zm4 0h-2v-4h2v4z\"/>\n",
              "    </g>\n",
              "</svg>\n",
              "  </button>\n",
              "\n",
              "<style>\n",
              "  .colab-df-quickchart {\n",
              "      --bg-color: #E8F0FE;\n",
              "      --fill-color: #1967D2;\n",
              "      --hover-bg-color: #E2EBFA;\n",
              "      --hover-fill-color: #174EA6;\n",
              "      --disabled-fill-color: #AAA;\n",
              "      --disabled-bg-color: #DDD;\n",
              "  }\n",
              "\n",
              "  [theme=dark] .colab-df-quickchart {\n",
              "      --bg-color: #3B4455;\n",
              "      --fill-color: #D2E3FC;\n",
              "      --hover-bg-color: #434B5C;\n",
              "      --hover-fill-color: #FFFFFF;\n",
              "      --disabled-bg-color: #3B4455;\n",
              "      --disabled-fill-color: #666;\n",
              "  }\n",
              "\n",
              "  .colab-df-quickchart {\n",
              "    background-color: var(--bg-color);\n",
              "    border: none;\n",
              "    border-radius: 50%;\n",
              "    cursor: pointer;\n",
              "    display: none;\n",
              "    fill: var(--fill-color);\n",
              "    height: 32px;\n",
              "    padding: 0;\n",
              "    width: 32px;\n",
              "  }\n",
              "\n",
              "  .colab-df-quickchart:hover {\n",
              "    background-color: var(--hover-bg-color);\n",
              "    box-shadow: 0 1px 2px rgba(60, 64, 67, 0.3), 0 1px 3px 1px rgba(60, 64, 67, 0.15);\n",
              "    fill: var(--button-hover-fill-color);\n",
              "  }\n",
              "\n",
              "  .colab-df-quickchart-complete:disabled,\n",
              "  .colab-df-quickchart-complete:disabled:hover {\n",
              "    background-color: var(--disabled-bg-color);\n",
              "    fill: var(--disabled-fill-color);\n",
              "    box-shadow: none;\n",
              "  }\n",
              "\n",
              "  .colab-df-spinner {\n",
              "    border: 2px solid var(--fill-color);\n",
              "    border-color: transparent;\n",
              "    border-bottom-color: var(--fill-color);\n",
              "    animation:\n",
              "      spin 1s steps(1) infinite;\n",
              "  }\n",
              "\n",
              "  @keyframes spin {\n",
              "    0% {\n",
              "      border-color: transparent;\n",
              "      border-bottom-color: var(--fill-color);\n",
              "      border-left-color: var(--fill-color);\n",
              "    }\n",
              "    20% {\n",
              "      border-color: transparent;\n",
              "      border-left-color: var(--fill-color);\n",
              "      border-top-color: var(--fill-color);\n",
              "    }\n",
              "    30% {\n",
              "      border-color: transparent;\n",
              "      border-left-color: var(--fill-color);\n",
              "      border-top-color: var(--fill-color);\n",
              "      border-right-color: var(--fill-color);\n",
              "    }\n",
              "    40% {\n",
              "      border-color: transparent;\n",
              "      border-right-color: var(--fill-color);\n",
              "      border-top-color: var(--fill-color);\n",
              "    }\n",
              "    60% {\n",
              "      border-color: transparent;\n",
              "      border-right-color: var(--fill-color);\n",
              "    }\n",
              "    80% {\n",
              "      border-color: transparent;\n",
              "      border-right-color: var(--fill-color);\n",
              "      border-bottom-color: var(--fill-color);\n",
              "    }\n",
              "    90% {\n",
              "      border-color: transparent;\n",
              "      border-bottom-color: var(--fill-color);\n",
              "    }\n",
              "  }\n",
              "</style>\n",
              "\n",
              "  <script>\n",
              "    async function quickchart(key) {\n",
              "      const quickchartButtonEl =\n",
              "        document.querySelector('#' + key + ' button');\n",
              "      quickchartButtonEl.disabled = true;  // To prevent multiple clicks.\n",
              "      quickchartButtonEl.classList.add('colab-df-spinner');\n",
              "      try {\n",
              "        const charts = await google.colab.kernel.invokeFunction(\n",
              "            'suggestCharts', [key], {});\n",
              "      } catch (error) {\n",
              "        console.error('Error during call to suggestCharts:', error);\n",
              "      }\n",
              "      quickchartButtonEl.classList.remove('colab-df-spinner');\n",
              "      quickchartButtonEl.classList.add('colab-df-quickchart-complete');\n",
              "    }\n",
              "    (() => {\n",
              "      let quickchartButtonEl =\n",
              "        document.querySelector('#df-68d8d5fd-9a18-408d-9b0f-ea47dab73008 button');\n",
              "      quickchartButtonEl.style.display =\n",
              "        google.colab.kernel.accessAllowed ? 'block' : 'none';\n",
              "    })();\n",
              "  </script>\n",
              "</div>\n",
              "\n",
              "    </div>\n",
              "  </div>\n"
            ],
            "application/vnd.google.colaboratory.intrinsic+json": {
              "type": "dataframe",
              "variable_name": "data",
              "summary": "{\n  \"name\": \"data\",\n  \"rows\": 8000,\n  \"fields\": [\n    {\n      \"column\": \"rating\",\n      \"properties\": {\n        \"dtype\": \"number\",\n        \"std\": 1.7275981916924412,\n        \"min\": 1.0,\n        \"max\": 5.0,\n        \"num_unique_values\": 4,\n        \"samples\": [\n          2.0,\n          4.0,\n          1.0\n        ],\n        \"semantic_type\": \"\",\n        \"description\": \"\"\n      }\n    },\n    {\n      \"column\": \"title\",\n      \"properties\": {\n        \"dtype\": \"string\",\n        \"num_unique_values\": 7553,\n        \"samples\": [\n          \"Great reference guide\",\n          \"Irrational hatred with authoritative sounding documentation\",\n          \"Only For Those With Little or No Work Experience\"\n        ],\n        \"semantic_type\": \"\",\n        \"description\": \"\"\n      }\n    },\n    {\n      \"column\": \"review_text\",\n      \"properties\": {\n        \"dtype\": \"string\",\n        \"num_unique_values\": 7853,\n        \"samples\": [\n          \"The den of horrors that is the Magellan car bracket requires you to have this power cord. If you don't then you will be fighting to change batteries and remount your GPS and that is no fun at all.\\nI have used mine for over six months and it works without a hitch. A nice improvement would be a retractable cord facility so that you don't have excess cordage lying around your dashboard. Right now I loop the excess around the steering wheel but then again I never change the adjustment on the steering wheel so no problem with the wire getting caught up in the adjusting mechanism. Others may run into this problem. The alternative is a shorter wire but then it would make the power unit useless for some vehicles. A minor hitch but not earthshaking.\",\n          \"This is truly a no-brainer, excellent headphones at a great price, wonderful all around phones, would make a great gift also\",\n          \"This is a perfect machine for the office. It takes up very little space,is very simple to use, cleaning is a breeze.\\nYou can fill the water tank so that water is ready when you are for a cup of delicious coffee.\\nI purchased this coffee maker for my husband's office and for my wallet.\\nIn his building there is a coffee shop but at $[...] a cup and time away from the desk 1 half hour per cup this was an expensive habit.\\nThe Melitta paid for itself in a few days. You can't go wrong with this produc\"\n        ],\n        \"semantic_type\": \"\",\n        \"description\": \"\"\n      }\n    },\n    {\n      \"column\": \"type\",\n      \"properties\": {\n        \"dtype\": \"number\",\n        \"std\": 0,\n        \"min\": 0,\n        \"max\": 1,\n        \"num_unique_values\": 2,\n        \"samples\": [\n          1,\n          0\n        ],\n        \"semantic_type\": \"\",\n        \"description\": \"\"\n      }\n    }\n  ]\n}"
            }
          },
          "metadata": {},
          "execution_count": 32
        }
      ]
    },
    {
      "cell_type": "markdown",
      "source": [
        "Let's see unique values in the 'rating'"
      ],
      "metadata": {
        "id": "FbhRX3WSXQQs"
      }
    },
    {
      "cell_type": "code",
      "source": [
        "data['rating'].unique()"
      ],
      "metadata": {
        "colab": {
          "base_uri": "https://localhost:8080/"
        },
        "id": "FqMmLyOWXZ3m",
        "outputId": "f009e369-6d16-48c5-ba99-d8cfdb58da90"
      },
      "execution_count": null,
      "outputs": [
        {
          "output_type": "execute_result",
          "data": {
            "text/plain": [
              "array([1., 2., 5., 4.])"
            ]
          },
          "metadata": {},
          "execution_count": 31
        }
      ]
    },
    {
      "cell_type": "markdown",
      "source": [
        "**Clean data | Speller**\n",
        "\n",
        "\n",
        "1 Initialize the autocorrect object for English\n",
        "\n",
        "2 Apply the autocorrect function to each row in the review_text column, and stores the result in a new column review_text_correct.\n",
        "\n",
        "3 Save the cleaned data to a new CSV file cleaned_reviews.csv\n",
        "\n",
        "Proccessing time - around 55 minutes!!!"
      ],
      "metadata": {
        "id": "4Liis88zjQuj"
      }
    },
    {
      "cell_type": "code",
      "source": [
        "!pip install autocorrect\n",
        "from autocorrect import Speller\n",
        "\n",
        "# Set language to Eng\n",
        "spell = Speller(lang='en')\n",
        "\n",
        "# Apply autocorrect\n",
        "data['review_text_correct'] = data['review_text'].apply(spell)\n",
        "\n",
        "# Save the cleaned data to a CSV file\n",
        "output_file = 'cleaned_reviews.csv'\n",
        "data.to_csv(output_file, index=False, encoding='utf-8')\n",
        "\n",
        "print(f\"Cleaned data saved to '{output_file}'\")"
      ],
      "metadata": {
        "colab": {
          "base_uri": "https://localhost:8080/"
        },
        "id": "rZbO8wlqjakM",
        "outputId": "438f57ef-ad94-4eed-b194-1f66155ecca4"
      },
      "execution_count": null,
      "outputs": [
        {
          "output_type": "stream",
          "name": "stdout",
          "text": [
            "Requirement already satisfied: autocorrect in /usr/local/lib/python3.10/dist-packages (2.6.1)\n",
            "Cleaned data saved to 'cleaned_reviews.csv'\n"
          ]
        }
      ]
    },
    {
      "cell_type": "code",
      "source": [
        "from google.colab import files\n",
        "files.download(output_file)"
      ],
      "metadata": {
        "colab": {
          "base_uri": "https://localhost:8080/",
          "height": 17
        },
        "id": "MnEbDoxW-B-r",
        "outputId": "8f9b3b18-b32f-4440-a509-9a9da4693069"
      },
      "execution_count": null,
      "outputs": [
        {
          "output_type": "display_data",
          "data": {
            "text/plain": [
              "<IPython.core.display.Javascript object>"
            ],
            "application/javascript": [
              "\n",
              "    async function download(id, filename, size) {\n",
              "      if (!google.colab.kernel.accessAllowed) {\n",
              "        return;\n",
              "      }\n",
              "      const div = document.createElement('div');\n",
              "      const label = document.createElement('label');\n",
              "      label.textContent = `Downloading \"${filename}\": `;\n",
              "      div.appendChild(label);\n",
              "      const progress = document.createElement('progress');\n",
              "      progress.max = size;\n",
              "      div.appendChild(progress);\n",
              "      document.body.appendChild(div);\n",
              "\n",
              "      const buffers = [];\n",
              "      let downloaded = 0;\n",
              "\n",
              "      const channel = await google.colab.kernel.comms.open(id);\n",
              "      // Send a message to notify the kernel that we're ready.\n",
              "      channel.send({})\n",
              "\n",
              "      for await (const message of channel.messages) {\n",
              "        // Send a message to notify the kernel that we're ready.\n",
              "        channel.send({})\n",
              "        if (message.buffers) {\n",
              "          for (const buffer of message.buffers) {\n",
              "            buffers.push(buffer);\n",
              "            downloaded += buffer.byteLength;\n",
              "            progress.value = downloaded;\n",
              "          }\n",
              "        }\n",
              "      }\n",
              "      const blob = new Blob(buffers, {type: 'application/binary'});\n",
              "      const a = document.createElement('a');\n",
              "      a.href = window.URL.createObjectURL(blob);\n",
              "      a.download = filename;\n",
              "      div.appendChild(a);\n",
              "      a.click();\n",
              "      div.remove();\n",
              "    }\n",
              "  "
            ]
          },
          "metadata": {}
        },
        {
          "output_type": "display_data",
          "data": {
            "text/plain": [
              "<IPython.core.display.Javascript object>"
            ],
            "application/javascript": [
              "download(\"download_ceb06dec-8d56-4098-818e-2067f142a825\", \"cleaned_reviews.csv\", 12424378)"
            ]
          },
          "metadata": {}
        }
      ]
    },
    {
      "cell_type": "markdown",
      "source": [
        "As the processing time is too long, so I uploaded this processed file to Github"
      ],
      "metadata": {
        "id": "LDXU1EwlhmHd"
      }
    },
    {
      "cell_type": "code",
      "source": [
        "from matplotlib import pyplot as plt\n",
        "from sklearn.metrics import accuracy_score\n",
        "from sklearn.metrics import confusion_matrix\n",
        "from sklearn.model_selection import train_test_split\n",
        "from sklearn.feature_extraction.text import CountVectorizer\n",
        "import numpy as np\n",
        "import plotly.express as px\n",
        "\n",
        "import pandas as pd\n",
        "data = pd.read_csv('https://github.com/Vovanch0/sentiment-analysis-isy503/raw/main/model/import-data/cleaned_reviews.csv')\n",
        "\n",
        "data.head(3)"
      ],
      "metadata": {
        "colab": {
          "base_uri": "https://localhost:8080/",
          "height": 143
        },
        "id": "nJS7TZj_h64I",
        "outputId": "3002eaec-ee14-4dd7-ba2c-38f2a5dd44d7"
      },
      "execution_count": 3,
      "outputs": [
        {
          "output_type": "execute_result",
          "data": {
            "text/plain": [
              "   rating                     title  \\\n",
              "0     1.0  Horrible book, horrible.   \n",
              "1     1.0   shallow self-indulgence   \n",
              "2     1.0  Horrible book, horrible.   \n",
              "\n",
              "                                         review_text  type  \\\n",
              "0  THis book was horrible.  If it was possible to...     0   \n",
              "1  I like to use the Amazon reviews when purchasi...     0   \n",
              "2  THis book was horrible.  If it was possible to...     0   \n",
              "\n",
              "                                 review_text_correct  \n",
              "0  This book was horrible.  If it was possible to...  \n",
              "1  I like to use the Amazon reviews when purchasi...  \n",
              "2  This book was horrible.  If it was possible to...  "
            ],
            "text/html": [
              "\n",
              "  <div id=\"df-4d8dfe42-f61f-4377-a874-039e9dc25ae9\" class=\"colab-df-container\">\n",
              "    <div>\n",
              "<style scoped>\n",
              "    .dataframe tbody tr th:only-of-type {\n",
              "        vertical-align: middle;\n",
              "    }\n",
              "\n",
              "    .dataframe tbody tr th {\n",
              "        vertical-align: top;\n",
              "    }\n",
              "\n",
              "    .dataframe thead th {\n",
              "        text-align: right;\n",
              "    }\n",
              "</style>\n",
              "<table border=\"1\" class=\"dataframe\">\n",
              "  <thead>\n",
              "    <tr style=\"text-align: right;\">\n",
              "      <th></th>\n",
              "      <th>rating</th>\n",
              "      <th>title</th>\n",
              "      <th>review_text</th>\n",
              "      <th>type</th>\n",
              "      <th>review_text_correct</th>\n",
              "    </tr>\n",
              "  </thead>\n",
              "  <tbody>\n",
              "    <tr>\n",
              "      <th>0</th>\n",
              "      <td>1.0</td>\n",
              "      <td>Horrible book, horrible.</td>\n",
              "      <td>THis book was horrible.  If it was possible to...</td>\n",
              "      <td>0</td>\n",
              "      <td>This book was horrible.  If it was possible to...</td>\n",
              "    </tr>\n",
              "    <tr>\n",
              "      <th>1</th>\n",
              "      <td>1.0</td>\n",
              "      <td>shallow self-indulgence</td>\n",
              "      <td>I like to use the Amazon reviews when purchasi...</td>\n",
              "      <td>0</td>\n",
              "      <td>I like to use the Amazon reviews when purchasi...</td>\n",
              "    </tr>\n",
              "    <tr>\n",
              "      <th>2</th>\n",
              "      <td>1.0</td>\n",
              "      <td>Horrible book, horrible.</td>\n",
              "      <td>THis book was horrible.  If it was possible to...</td>\n",
              "      <td>0</td>\n",
              "      <td>This book was horrible.  If it was possible to...</td>\n",
              "    </tr>\n",
              "  </tbody>\n",
              "</table>\n",
              "</div>\n",
              "    <div class=\"colab-df-buttons\">\n",
              "\n",
              "  <div class=\"colab-df-container\">\n",
              "    <button class=\"colab-df-convert\" onclick=\"convertToInteractive('df-4d8dfe42-f61f-4377-a874-039e9dc25ae9')\"\n",
              "            title=\"Convert this dataframe to an interactive table.\"\n",
              "            style=\"display:none;\">\n",
              "\n",
              "  <svg xmlns=\"http://www.w3.org/2000/svg\" height=\"24px\" viewBox=\"0 -960 960 960\">\n",
              "    <path d=\"M120-120v-720h720v720H120Zm60-500h600v-160H180v160Zm220 220h160v-160H400v160Zm0 220h160v-160H400v160ZM180-400h160v-160H180v160Zm440 0h160v-160H620v160ZM180-180h160v-160H180v160Zm440 0h160v-160H620v160Z\"/>\n",
              "  </svg>\n",
              "    </button>\n",
              "\n",
              "  <style>\n",
              "    .colab-df-container {\n",
              "      display:flex;\n",
              "      gap: 12px;\n",
              "    }\n",
              "\n",
              "    .colab-df-convert {\n",
              "      background-color: #E8F0FE;\n",
              "      border: none;\n",
              "      border-radius: 50%;\n",
              "      cursor: pointer;\n",
              "      display: none;\n",
              "      fill: #1967D2;\n",
              "      height: 32px;\n",
              "      padding: 0 0 0 0;\n",
              "      width: 32px;\n",
              "    }\n",
              "\n",
              "    .colab-df-convert:hover {\n",
              "      background-color: #E2EBFA;\n",
              "      box-shadow: 0px 1px 2px rgba(60, 64, 67, 0.3), 0px 1px 3px 1px rgba(60, 64, 67, 0.15);\n",
              "      fill: #174EA6;\n",
              "    }\n",
              "\n",
              "    .colab-df-buttons div {\n",
              "      margin-bottom: 4px;\n",
              "    }\n",
              "\n",
              "    [theme=dark] .colab-df-convert {\n",
              "      background-color: #3B4455;\n",
              "      fill: #D2E3FC;\n",
              "    }\n",
              "\n",
              "    [theme=dark] .colab-df-convert:hover {\n",
              "      background-color: #434B5C;\n",
              "      box-shadow: 0px 1px 3px 1px rgba(0, 0, 0, 0.15);\n",
              "      filter: drop-shadow(0px 1px 2px rgba(0, 0, 0, 0.3));\n",
              "      fill: #FFFFFF;\n",
              "    }\n",
              "  </style>\n",
              "\n",
              "    <script>\n",
              "      const buttonEl =\n",
              "        document.querySelector('#df-4d8dfe42-f61f-4377-a874-039e9dc25ae9 button.colab-df-convert');\n",
              "      buttonEl.style.display =\n",
              "        google.colab.kernel.accessAllowed ? 'block' : 'none';\n",
              "\n",
              "      async function convertToInteractive(key) {\n",
              "        const element = document.querySelector('#df-4d8dfe42-f61f-4377-a874-039e9dc25ae9');\n",
              "        const dataTable =\n",
              "          await google.colab.kernel.invokeFunction('convertToInteractive',\n",
              "                                                    [key], {});\n",
              "        if (!dataTable) return;\n",
              "\n",
              "        const docLinkHtml = 'Like what you see? Visit the ' +\n",
              "          '<a target=\"_blank\" href=https://colab.research.google.com/notebooks/data_table.ipynb>data table notebook</a>'\n",
              "          + ' to learn more about interactive tables.';\n",
              "        element.innerHTML = '';\n",
              "        dataTable['output_type'] = 'display_data';\n",
              "        await google.colab.output.renderOutput(dataTable, element);\n",
              "        const docLink = document.createElement('div');\n",
              "        docLink.innerHTML = docLinkHtml;\n",
              "        element.appendChild(docLink);\n",
              "      }\n",
              "    </script>\n",
              "  </div>\n",
              "\n",
              "\n",
              "<div id=\"df-73d06950-98f7-4d73-92fe-3e22645c4a4c\">\n",
              "  <button class=\"colab-df-quickchart\" onclick=\"quickchart('df-73d06950-98f7-4d73-92fe-3e22645c4a4c')\"\n",
              "            title=\"Suggest charts\"\n",
              "            style=\"display:none;\">\n",
              "\n",
              "<svg xmlns=\"http://www.w3.org/2000/svg\" height=\"24px\"viewBox=\"0 0 24 24\"\n",
              "     width=\"24px\">\n",
              "    <g>\n",
              "        <path d=\"M19 3H5c-1.1 0-2 .9-2 2v14c0 1.1.9 2 2 2h14c1.1 0 2-.9 2-2V5c0-1.1-.9-2-2-2zM9 17H7v-7h2v7zm4 0h-2V7h2v10zm4 0h-2v-4h2v4z\"/>\n",
              "    </g>\n",
              "</svg>\n",
              "  </button>\n",
              "\n",
              "<style>\n",
              "  .colab-df-quickchart {\n",
              "      --bg-color: #E8F0FE;\n",
              "      --fill-color: #1967D2;\n",
              "      --hover-bg-color: #E2EBFA;\n",
              "      --hover-fill-color: #174EA6;\n",
              "      --disabled-fill-color: #AAA;\n",
              "      --disabled-bg-color: #DDD;\n",
              "  }\n",
              "\n",
              "  [theme=dark] .colab-df-quickchart {\n",
              "      --bg-color: #3B4455;\n",
              "      --fill-color: #D2E3FC;\n",
              "      --hover-bg-color: #434B5C;\n",
              "      --hover-fill-color: #FFFFFF;\n",
              "      --disabled-bg-color: #3B4455;\n",
              "      --disabled-fill-color: #666;\n",
              "  }\n",
              "\n",
              "  .colab-df-quickchart {\n",
              "    background-color: var(--bg-color);\n",
              "    border: none;\n",
              "    border-radius: 50%;\n",
              "    cursor: pointer;\n",
              "    display: none;\n",
              "    fill: var(--fill-color);\n",
              "    height: 32px;\n",
              "    padding: 0;\n",
              "    width: 32px;\n",
              "  }\n",
              "\n",
              "  .colab-df-quickchart:hover {\n",
              "    background-color: var(--hover-bg-color);\n",
              "    box-shadow: 0 1px 2px rgba(60, 64, 67, 0.3), 0 1px 3px 1px rgba(60, 64, 67, 0.15);\n",
              "    fill: var(--button-hover-fill-color);\n",
              "  }\n",
              "\n",
              "  .colab-df-quickchart-complete:disabled,\n",
              "  .colab-df-quickchart-complete:disabled:hover {\n",
              "    background-color: var(--disabled-bg-color);\n",
              "    fill: var(--disabled-fill-color);\n",
              "    box-shadow: none;\n",
              "  }\n",
              "\n",
              "  .colab-df-spinner {\n",
              "    border: 2px solid var(--fill-color);\n",
              "    border-color: transparent;\n",
              "    border-bottom-color: var(--fill-color);\n",
              "    animation:\n",
              "      spin 1s steps(1) infinite;\n",
              "  }\n",
              "\n",
              "  @keyframes spin {\n",
              "    0% {\n",
              "      border-color: transparent;\n",
              "      border-bottom-color: var(--fill-color);\n",
              "      border-left-color: var(--fill-color);\n",
              "    }\n",
              "    20% {\n",
              "      border-color: transparent;\n",
              "      border-left-color: var(--fill-color);\n",
              "      border-top-color: var(--fill-color);\n",
              "    }\n",
              "    30% {\n",
              "      border-color: transparent;\n",
              "      border-left-color: var(--fill-color);\n",
              "      border-top-color: var(--fill-color);\n",
              "      border-right-color: var(--fill-color);\n",
              "    }\n",
              "    40% {\n",
              "      border-color: transparent;\n",
              "      border-right-color: var(--fill-color);\n",
              "      border-top-color: var(--fill-color);\n",
              "    }\n",
              "    60% {\n",
              "      border-color: transparent;\n",
              "      border-right-color: var(--fill-color);\n",
              "    }\n",
              "    80% {\n",
              "      border-color: transparent;\n",
              "      border-right-color: var(--fill-color);\n",
              "      border-bottom-color: var(--fill-color);\n",
              "    }\n",
              "    90% {\n",
              "      border-color: transparent;\n",
              "      border-bottom-color: var(--fill-color);\n",
              "    }\n",
              "  }\n",
              "</style>\n",
              "\n",
              "  <script>\n",
              "    async function quickchart(key) {\n",
              "      const quickchartButtonEl =\n",
              "        document.querySelector('#' + key + ' button');\n",
              "      quickchartButtonEl.disabled = true;  // To prevent multiple clicks.\n",
              "      quickchartButtonEl.classList.add('colab-df-spinner');\n",
              "      try {\n",
              "        const charts = await google.colab.kernel.invokeFunction(\n",
              "            'suggestCharts', [key], {});\n",
              "      } catch (error) {\n",
              "        console.error('Error during call to suggestCharts:', error);\n",
              "      }\n",
              "      quickchartButtonEl.classList.remove('colab-df-spinner');\n",
              "      quickchartButtonEl.classList.add('colab-df-quickchart-complete');\n",
              "    }\n",
              "    (() => {\n",
              "      let quickchartButtonEl =\n",
              "        document.querySelector('#df-73d06950-98f7-4d73-92fe-3e22645c4a4c button');\n",
              "      quickchartButtonEl.style.display =\n",
              "        google.colab.kernel.accessAllowed ? 'block' : 'none';\n",
              "    })();\n",
              "  </script>\n",
              "</div>\n",
              "\n",
              "    </div>\n",
              "  </div>\n"
            ],
            "application/vnd.google.colaboratory.intrinsic+json": {
              "type": "dataframe",
              "variable_name": "data",
              "summary": "{\n  \"name\": \"data\",\n  \"rows\": 8000,\n  \"fields\": [\n    {\n      \"column\": \"rating\",\n      \"properties\": {\n        \"dtype\": \"number\",\n        \"std\": 1.7275981916924412,\n        \"min\": 1.0,\n        \"max\": 5.0,\n        \"num_unique_values\": 4,\n        \"samples\": [\n          2.0,\n          4.0,\n          1.0\n        ],\n        \"semantic_type\": \"\",\n        \"description\": \"\"\n      }\n    },\n    {\n      \"column\": \"title\",\n      \"properties\": {\n        \"dtype\": \"string\",\n        \"num_unique_values\": 7553,\n        \"samples\": [\n          \"Great reference guide\",\n          \"Irrational hatred with authoritative sounding documentation\",\n          \"Only For Those With Little or No Work Experience\"\n        ],\n        \"semantic_type\": \"\",\n        \"description\": \"\"\n      }\n    },\n    {\n      \"column\": \"review_text\",\n      \"properties\": {\n        \"dtype\": \"string\",\n        \"num_unique_values\": 7853,\n        \"samples\": [\n          \"The den of horrors that is the Magellan car bracket requires you to have this power cord. If you don't then you will be fighting to change batteries and remount your GPS and that is no fun at all.\\r\\nI have used mine for over six months and it works without a hitch. A nice improvement would be a retractable cord facility so that you don't have excess cordage lying around your dashboard. Right now I loop the excess around the steering wheel but then again I never change the adjustment on the steering wheel so no problem with the wire getting caught up in the adjusting mechanism. Others may run into this problem. The alternative is a shorter wire but then it would make the power unit useless for some vehicles. A minor hitch but not earthshaking.\",\n          \"This is truly a no-brainer, excellent headphones at a great price, wonderful all around phones, would make a great gift also\",\n          \"This is a perfect machine for the office. It takes up very little space,is very simple to use, cleaning is a breeze.\\r\\nYou can fill the water tank so that water is ready when you are for a cup of delicious coffee.\\r\\nI purchased this coffee maker for my husband's office and for my wallet.\\r\\nIn his building there is a coffee shop but at $[...] a cup and time away from the desk 1 half hour per cup this was an expensive habit.\\r\\nThe Melitta paid for itself in a few days. You can't go wrong with this produc\"\n        ],\n        \"semantic_type\": \"\",\n        \"description\": \"\"\n      }\n    },\n    {\n      \"column\": \"type\",\n      \"properties\": {\n        \"dtype\": \"number\",\n        \"std\": 0,\n        \"min\": 0,\n        \"max\": 1,\n        \"num_unique_values\": 2,\n        \"samples\": [\n          1,\n          0\n        ],\n        \"semantic_type\": \"\",\n        \"description\": \"\"\n      }\n    },\n    {\n      \"column\": \"review_text_correct\",\n      \"properties\": {\n        \"dtype\": \"string\",\n        \"num_unique_values\": 7853,\n        \"samples\": [\n          \"The den of horrors that is the Magellan car bracket requires you to have this power cord. If you don't then you will be fighting to change batteries and recount your PS and that is no fun at all.\\r\\nI have used mine for over six months and it works without a hitch. A nice improvement would be a retractable cord facility so that you don't have excess courage lying around your dashboard. Right now I loop the excess around the steering wheel but then again I never change the adjustment on the steering wheel so no problem with the wire getting caught up in the adjusting mechanism. Others may run into this problem. The alternative is a shorter wire but then it would make the power unit useless for some vehicles. A minor hitch but not earthshaking.\",\n          \"This is truly a no-brainer, excellent headphones at a great price, wonderful all around phones, would make a great gift also\"\n        ],\n        \"semantic_type\": \"\",\n        \"description\": \"\"\n      }\n    }\n  ]\n}"
            }
          },
          "metadata": {},
          "execution_count": 3
        }
      ]
    },
    {
      "cell_type": "code",
      "source": [
        "# Show a box plot of the review length\n",
        "\n",
        "# Calculate the review length\n",
        "data['review_length'] = data['review_text_correct'].str.split().apply(len)\n",
        "fig = px.box(data['review_length'])\n",
        "fig.show()"
      ],
      "metadata": {
        "colab": {
          "base_uri": "https://localhost:8080/",
          "height": 542
        },
        "id": "xdIDKYdpTCsC",
        "outputId": "214ff0fa-bcf1-458d-80c9-ea6d0bb4aa6f"
      },
      "execution_count": 4,
      "outputs": [
        {
          "output_type": "display_data",
          "data": {
            "text/html": [
              "<html>\n",
              "<head><meta charset=\"utf-8\" /></head>\n",
              "<body>\n",
              "    <div>            <script src=\"https://cdnjs.cloudflare.com/ajax/libs/mathjax/2.7.5/MathJax.js?config=TeX-AMS-MML_SVG\"></script><script type=\"text/javascript\">if (window.MathJax && window.MathJax.Hub && window.MathJax.Hub.Config) {window.MathJax.Hub.Config({SVG: {font: \"STIX-Web\"}});}</script>                <script type=\"text/javascript\">window.PlotlyConfig = {MathJaxConfig: 'local'};</script>\n",
              "        <script charset=\"utf-8\" src=\"https://cdn.plot.ly/plotly-2.24.1.min.js\"></script>                <div id=\"e1358e95-0eac-426c-80a1-2588a891a650\" class=\"plotly-graph-div\" style=\"height:525px; width:100%;\"></div>            <script type=\"text/javascript\">                                    window.PLOTLYENV=window.PLOTLYENV || {};                                    if (document.getElementById(\"e1358e95-0eac-426c-80a1-2588a891a650\")) {                    Plotly.newPlot(                        \"e1358e95-0eac-426c-80a1-2588a891a650\",                        [{\"alignmentgroup\":\"True\",\"hovertemplate\":\"variable=%{x}\\u003cbr\\u003evalue=%{y}\\u003cextra\\u003e\\u003c\\u002fextra\\u003e\",\"legendgroup\":\"\",\"marker\":{\"color\":\"#636efa\"},\"name\":\"\",\"notched\":false,\"offsetgroup\":\"\",\"orientation\":\"v\",\"showlegend\":false,\"x\":[\"review_length\",\"review_length\",\"review_length\",\"review_length\",\"review_length\",\"review_length\",\"review_length\",\"review_length\",\"review_length\",\"review_length\",\"review_length\",\"review_length\",\"review_length\",\"review_length\",\"review_length\",\"review_length\",\"review_length\",\"review_length\",\"review_length\",\"review_length\",\"review_length\",\"review_length\",\"review_length\",\"review_length\",\"review_length\",\"review_length\",\"review_length\",\"review_length\",\"review_length\",\"review_length\",\"review_length\",\"review_length\",\"review_length\",\"review_length\",\"review_length\",\"review_length\",\"review_length\",\"review_length\",\"review_length\",\"review_length\",\"review_length\",\"review_length\",\"review_length\",\"review_length\",\"review_length\",\"review_length\",\"review_length\",\"review_length\",\"review_length\",\"review_length\",\"review_length\",\"review_length\",\"review_length\",\"review_length\",\"review_length\",\"review_length\",\"review_length\",\"review_length\",\"review_length\",\"review_length\",\"review_length\",\"review_length\",\"review_length\",\"review_length\",\"review_length\",\"review_length\",\"review_length\",\"review_length\",\"review_length\",\"review_length\",\"review_length\",\"review_length\",\"review_length\",\"review_length\",\"review_length\",\"review_length\",\"review_length\",\"review_length\",\"review_length\",\"review_length\",\"review_length\",\"review_length\",\"review_length\",\"review_length\",\"review_length\",\"review_length\",\"review_length\",\"review_length\",\"review_length\",\"review_length\",\"review_length\",\"review_length\",\"review_length\",\"review_length\",\"review_length\",\"review_length\",\"review_length\",\"review_length\",\"review_length\",\"review_length\",\"review_length\",\"review_length\",\"review_length\",\"review_length\",\"review_length\",\"review_length\",\"review_length\",\"review_length\",\"review_length\",\"review_length\",\"review_length\",\"review_length\",\"review_length\",\"review_length\",\"review_length\",\"review_length\",\"review_length\",\"review_length\",\"review_length\",\"review_length\",\"review_length\",\"review_length\",\"review_length\",\"review_length\",\"review_length\",\"review_length\",\"review_length\",\"review_length\",\"review_length\",\"review_length\",\"review_length\",\"review_length\",\"review_length\",\"review_length\",\"review_length\",\"review_length\",\"review_length\",\"review_length\",\"review_length\",\"review_length\",\"review_length\",\"review_length\",\"review_length\",\"review_length\",\"review_length\",\"review_length\",\"review_length\",\"review_length\",\"review_length\",\"review_length\",\"review_length\",\"review_length\",\"review_length\",\"review_length\",\"review_length\",\"review_length\",\"review_length\",\"review_length\",\"review_length\",\"review_length\",\"review_length\",\"review_length\",\"review_length\",\"review_length\",\"review_length\",\"review_length\",\"review_length\",\"review_length\",\"review_length\",\"review_length\",\"review_length\",\"review_length\",\"review_length\",\"review_length\",\"review_length\",\"review_length\",\"review_length\",\"review_length\",\"review_length\",\"review_length\",\"review_length\",\"review_length\",\"review_length\",\"review_length\",\"review_length\",\"review_length\",\"review_length\",\"review_length\",\"review_length\",\"review_length\",\"review_length\",\"review_length\",\"review_length\",\"review_length\",\"review_length\",\"review_length\",\"review_length\",\"review_length\",\"review_length\",\"review_length\",\"review_length\",\"review_length\",\"review_length\",\"review_length\",\"review_length\",\"review_length\",\"review_length\",\"review_length\",\"review_length\",\"review_length\",\"review_length\",\"review_length\",\"review_length\",\"review_length\",\"review_length\",\"review_length\",\"review_length\",\"review_length\",\"review_length\",\"review_length\",\"review_length\",\"review_length\",\"review_length\",\"review_length\",\"review_length\",\"review_length\",\"review_length\",\"review_length\",\"review_length\",\"review_length\",\"review_length\",\"review_length\",\"review_length\",\"review_length\",\"review_length\",\"review_length\",\"review_length\",\"review_length\",\"review_length\",\"review_length\",\"review_length\",\"review_length\",\"review_length\",\"review_length\",\"review_length\",\"review_length\",\"review_length\",\"review_length\",\"review_length\",\"review_length\",\"review_length\",\"review_length\",\"review_length\",\"review_length\",\"review_length\",\"review_length\",\"review_length\",\"review_length\",\"review_length\",\"review_length\",\"review_length\",\"review_length\",\"review_length\",\"review_length\",\"review_length\",\"review_length\",\"review_length\",\"review_length\",\"review_length\",\"review_length\",\"review_length\",\"review_length\",\"review_length\",\"review_length\",\"review_length\",\"review_length\",\"review_length\",\"review_length\",\"review_length\",\"review_length\",\"review_length\",\"review_length\",\"review_length\",\"review_length\",\"review_length\",\"review_length\",\"review_length\",\"review_length\",\"review_length\",\"review_length\",\"review_length\",\"review_length\",\"review_length\",\"review_length\",\"review_length\",\"review_length\",\"review_length\",\"review_length\",\"review_length\",\"review_length\",\"review_length\",\"review_length\",\"review_length\",\"review_length\",\"review_length\",\"review_length\",\"review_length\",\"review_length\",\"review_length\",\"review_length\",\"review_length\",\"review_length\",\"review_length\",\"review_length\",\"review_length\",\"review_length\",\"review_length\",\"review_length\",\"review_length\",\"review_length\",\"review_length\",\"review_length\",\"review_length\",\"review_length\",\"review_length\",\"review_length\",\"review_length\",\"review_length\",\"review_length\",\"review_length\",\"review_length\",\"review_length\",\"review_length\",\"review_length\",\"review_length\",\"review_length\",\"review_length\",\"review_length\",\"review_length\",\"review_length\",\"review_length\",\"review_length\",\"review_length\",\"review_length\",\"review_length\",\"review_length\",\"review_length\",\"review_length\",\"review_length\",\"review_length\",\"review_length\",\"review_length\",\"review_length\",\"review_length\",\"review_length\",\"review_length\",\"review_length\",\"review_length\",\"review_length\",\"review_length\",\"review_length\",\"review_length\",\"review_length\",\"review_length\",\"review_length\",\"review_length\",\"review_length\",\"review_length\",\"review_length\",\"review_length\",\"review_length\",\"review_length\",\"review_length\",\"review_length\",\"review_length\",\"review_length\",\"review_length\",\"review_length\",\"review_length\",\"review_length\",\"review_length\",\"review_length\",\"review_length\",\"review_length\",\"review_length\",\"review_length\",\"review_length\",\"review_length\",\"review_length\",\"review_length\",\"review_length\",\"review_length\",\"review_length\",\"review_length\",\"review_length\",\"review_length\",\"review_length\",\"review_length\",\"review_length\",\"review_length\",\"review_length\",\"review_length\",\"review_length\",\"review_length\",\"review_length\",\"review_length\",\"review_length\",\"review_length\",\"review_length\",\"review_length\",\"review_length\",\"review_length\",\"review_length\",\"review_length\",\"review_length\",\"review_length\",\"review_length\",\"review_length\",\"review_length\",\"review_length\",\"review_length\",\"review_length\",\"review_length\",\"review_length\",\"review_length\",\"review_length\",\"review_length\",\"review_length\",\"review_length\",\"review_length\",\"review_length\",\"review_length\",\"review_length\",\"review_length\",\"review_length\",\"review_length\",\"review_length\",\"review_length\",\"review_length\",\"review_length\",\"review_length\",\"review_length\",\"review_length\",\"review_length\",\"review_length\",\"review_length\",\"review_length\",\"review_length\",\"review_length\",\"review_length\",\"review_length\",\"review_length\",\"review_length\",\"review_length\",\"review_length\",\"review_length\",\"review_length\",\"review_length\",\"review_length\",\"review_length\",\"review_length\",\"review_length\",\"review_length\",\"review_length\",\"review_length\",\"review_length\",\"review_length\",\"review_length\",\"review_length\",\"review_length\",\"review_length\",\"review_length\",\"review_length\",\"review_length\",\"review_length\",\"review_length\",\"review_length\",\"review_length\",\"review_length\",\"review_length\",\"review_length\",\"review_length\",\"review_length\",\"review_length\",\"review_length\",\"review_length\",\"review_length\",\"review_length\",\"review_length\",\"review_length\",\"review_length\",\"review_length\",\"review_length\",\"review_length\",\"review_length\",\"review_length\",\"review_length\",\"review_length\",\"review_length\",\"review_length\",\"review_length\",\"review_length\",\"review_length\",\"review_length\",\"review_length\",\"review_length\",\"review_length\",\"review_length\",\"review_length\",\"review_length\",\"review_length\",\"review_length\",\"review_length\",\"review_length\",\"review_length\",\"review_length\",\"review_length\",\"review_length\",\"review_length\",\"review_length\",\"review_length\",\"review_length\",\"review_length\",\"review_length\",\"review_length\",\"review_length\",\"review_length\",\"review_length\",\"review_length\",\"review_length\",\"review_length\",\"review_length\",\"review_length\",\"review_length\",\"review_length\",\"review_length\",\"review_length\",\"review_length\",\"review_length\",\"review_length\",\"review_length\",\"review_length\",\"review_length\",\"review_length\",\"review_length\",\"review_length\",\"review_length\",\"review_length\",\"review_length\",\"review_length\",\"review_length\",\"review_length\",\"review_length\",\"review_length\",\"review_length\",\"review_length\",\"review_length\",\"review_length\",\"review_length\",\"review_length\",\"review_length\",\"review_length\",\"review_length\",\"review_length\",\"review_length\",\"review_length\",\"review_length\",\"review_length\",\"review_length\",\"review_length\",\"review_length\",\"review_length\",\"review_length\",\"review_length\",\"review_length\",\"review_length\",\"review_length\",\"review_length\",\"review_length\",\"review_length\",\"review_length\",\"review_length\",\"review_length\",\"review_length\",\"review_length\",\"review_length\",\"review_length\",\"review_length\",\"review_length\",\"review_length\",\"review_length\",\"review_length\",\"review_length\",\"review_length\",\"review_length\",\"review_length\",\"review_length\",\"review_length\",\"review_length\",\"review_length\",\"review_length\",\"review_length\",\"review_length\",\"review_length\",\"review_length\",\"review_length\",\"review_length\",\"review_length\",\"review_length\",\"review_length\",\"review_length\",\"review_length\",\"review_length\",\"review_length\",\"review_length\",\"review_length\",\"review_length\",\"review_length\",\"review_length\",\"review_length\",\"review_length\",\"review_length\",\"review_length\",\"review_length\",\"review_length\",\"review_length\",\"review_length\",\"review_length\",\"review_length\",\"review_length\",\"review_length\",\"review_length\",\"review_length\",\"review_length\",\"review_length\",\"review_length\",\"review_length\",\"review_length\",\"review_length\",\"review_length\",\"review_length\",\"review_length\",\"review_length\",\"review_length\",\"review_length\",\"review_length\",\"review_length\",\"review_length\",\"review_length\",\"review_length\",\"review_length\",\"review_length\",\"review_length\",\"review_length\",\"review_length\",\"review_length\",\"review_length\",\"review_length\",\"review_length\",\"review_length\",\"review_length\",\"review_length\",\"review_length\",\"review_length\",\"review_length\",\"review_length\",\"review_length\",\"review_length\",\"review_length\",\"review_length\",\"review_length\",\"review_length\",\"review_length\",\"review_length\",\"review_length\",\"review_length\",\"review_length\",\"review_length\",\"review_length\",\"review_length\",\"review_length\",\"review_length\",\"review_length\",\"review_length\",\"review_length\",\"review_length\",\"review_length\",\"review_length\",\"review_length\",\"review_length\",\"review_length\",\"review_length\",\"review_length\",\"review_length\",\"review_length\",\"review_length\",\"review_length\",\"review_length\",\"review_length\",\"review_length\",\"review_length\",\"review_length\",\"review_length\",\"review_length\",\"review_length\",\"review_length\",\"review_length\",\"review_length\",\"review_length\",\"review_length\",\"review_length\",\"review_length\",\"review_length\",\"review_length\",\"review_length\",\"review_length\",\"review_length\",\"review_length\",\"review_length\",\"review_length\",\"review_length\",\"review_length\",\"review_length\",\"review_length\",\"review_length\",\"review_length\",\"review_length\",\"review_length\",\"review_length\",\"review_length\",\"review_length\",\"review_length\",\"review_length\",\"review_length\",\"review_length\",\"review_length\",\"review_length\",\"review_length\",\"review_length\",\"review_length\",\"review_length\",\"review_length\",\"review_length\",\"review_length\",\"review_length\",\"review_length\",\"review_length\",\"review_length\",\"review_length\",\"review_length\",\"review_length\",\"review_length\",\"review_length\",\"review_length\",\"review_length\",\"review_length\",\"review_length\",\"review_length\",\"review_length\",\"review_length\",\"review_length\",\"review_length\",\"review_length\",\"review_length\",\"review_length\",\"review_length\",\"review_length\",\"review_length\",\"review_length\",\"review_length\",\"review_length\",\"review_length\",\"review_length\",\"review_length\",\"review_length\",\"review_length\",\"review_length\",\"review_length\",\"review_length\",\"review_length\",\"review_length\",\"review_length\",\"review_length\",\"review_length\",\"review_length\",\"review_length\",\"review_length\",\"review_length\",\"review_length\",\"review_length\",\"review_length\",\"review_length\",\"review_length\",\"review_length\",\"review_length\",\"review_length\",\"review_length\",\"review_length\",\"review_length\",\"review_length\",\"review_length\",\"review_length\",\"review_length\",\"review_length\",\"review_length\",\"review_length\",\"review_length\",\"review_length\",\"review_length\",\"review_length\",\"review_length\",\"review_length\",\"review_length\",\"review_length\",\"review_length\",\"review_length\",\"review_length\",\"review_length\",\"review_length\",\"review_length\",\"review_length\",\"review_length\",\"review_length\",\"review_length\",\"review_length\",\"review_length\",\"review_length\",\"review_length\",\"review_length\",\"review_length\",\"review_length\",\"review_length\",\"review_length\",\"review_length\",\"review_length\",\"review_length\",\"review_length\",\"review_length\",\"review_length\",\"review_length\",\"review_length\",\"review_length\",\"review_length\",\"review_length\",\"review_length\",\"review_length\",\"review_length\",\"review_length\",\"review_length\",\"review_length\",\"review_length\",\"review_length\",\"review_length\",\"review_length\",\"review_length\",\"review_length\",\"review_length\",\"review_length\",\"review_length\",\"review_length\",\"review_length\",\"review_length\",\"review_length\",\"review_length\",\"review_length\",\"review_length\",\"review_length\",\"review_length\",\"review_length\",\"review_length\",\"review_length\",\"review_length\",\"review_length\",\"review_length\",\"review_length\",\"review_length\",\"review_length\",\"review_length\",\"review_length\",\"review_length\",\"review_length\",\"review_length\",\"review_length\",\"review_length\",\"review_length\",\"review_length\",\"review_length\",\"review_length\",\"review_length\",\"review_length\",\"review_length\",\"review_length\",\"review_length\",\"review_length\",\"review_length\",\"review_length\",\"review_length\",\"review_length\",\"review_length\",\"review_length\",\"review_length\",\"review_length\",\"review_length\",\"review_length\",\"review_length\",\"review_length\",\"review_length\",\"review_length\",\"review_length\",\"review_length\",\"review_length\",\"review_length\",\"review_length\",\"review_length\",\"review_length\",\"review_length\",\"review_length\",\"review_length\",\"review_length\",\"review_length\",\"review_length\",\"review_length\",\"review_length\",\"review_length\",\"review_length\",\"review_length\",\"review_length\",\"review_length\",\"review_length\",\"review_length\",\"review_length\",\"review_length\",\"review_length\",\"review_length\",\"review_length\",\"review_length\",\"review_length\",\"review_length\",\"review_length\",\"review_length\",\"review_length\",\"review_length\",\"review_length\",\"review_length\",\"review_length\",\"review_length\",\"review_length\",\"review_length\",\"review_length\",\"review_length\",\"review_length\",\"review_length\",\"review_length\",\"review_length\",\"review_length\",\"review_length\",\"review_length\",\"review_length\",\"review_length\",\"review_length\",\"review_length\",\"review_length\",\"review_length\",\"review_length\",\"review_length\",\"review_length\",\"review_length\",\"review_length\",\"review_length\",\"review_length\",\"review_length\",\"review_length\",\"review_length\",\"review_length\",\"review_length\",\"review_length\",\"review_length\",\"review_length\",\"review_length\",\"review_length\",\"review_length\",\"review_length\",\"review_length\",\"review_length\",\"review_length\",\"review_length\",\"review_length\",\"review_length\",\"review_length\",\"review_length\",\"review_length\",\"review_length\",\"review_length\",\"review_length\",\"review_length\",\"review_length\",\"review_length\",\"review_length\",\"review_length\",\"review_length\",\"review_length\",\"review_length\",\"review_length\",\"review_length\",\"review_length\",\"review_length\",\"review_length\",\"review_length\",\"review_length\",\"review_length\",\"review_length\",\"review_length\",\"review_length\",\"review_length\",\"review_length\",\"review_length\",\"review_length\",\"review_length\",\"review_length\",\"review_length\",\"review_length\",\"review_length\",\"review_length\",\"review_length\",\"review_length\",\"review_length\",\"review_length\",\"review_length\",\"review_length\",\"review_length\",\"review_length\",\"review_length\",\"review_length\",\"review_length\",\"review_length\",\"review_length\",\"review_length\",\"review_length\",\"review_length\",\"review_length\",\"review_length\",\"review_length\",\"review_length\",\"review_length\",\"review_length\",\"review_length\",\"review_length\",\"review_length\",\"review_length\",\"review_length\",\"review_length\",\"review_length\",\"review_length\",\"review_length\",\"review_length\",\"review_length\",\"review_length\",\"review_length\",\"review_length\",\"review_length\",\"review_length\",\"review_length\",\"review_length\",\"review_length\",\"review_length\",\"review_length\",\"review_length\",\"review_length\",\"review_length\",\"review_length\",\"review_length\",\"review_length\",\"review_length\",\"review_length\",\"review_length\",\"review_length\",\"review_length\",\"review_length\",\"review_length\",\"review_length\",\"review_length\",\"review_length\",\"review_length\",\"review_length\",\"review_length\",\"review_length\",\"review_length\",\"review_length\",\"review_length\",\"review_length\",\"review_length\",\"review_length\",\"review_length\",\"review_length\",\"review_length\",\"review_length\",\"review_length\",\"review_length\",\"review_length\",\"review_length\",\"review_length\",\"review_length\",\"review_length\",\"review_length\",\"review_length\",\"review_length\",\"review_length\",\"review_length\",\"review_length\",\"review_length\",\"review_length\",\"review_length\",\"review_length\",\"review_length\",\"review_length\",\"review_length\",\"review_length\",\"review_length\",\"review_length\",\"review_length\",\"review_length\",\"review_length\",\"review_length\",\"review_length\",\"review_length\",\"review_length\",\"review_length\",\"review_length\",\"review_length\",\"review_length\",\"review_length\",\"review_length\",\"review_length\",\"review_length\",\"review_length\",\"review_length\",\"review_length\",\"review_length\",\"review_length\",\"review_length\",\"review_length\",\"review_length\",\"review_length\",\"review_length\",\"review_length\",\"review_length\",\"review_length\",\"review_length\",\"review_length\",\"review_length\",\"review_length\",\"review_length\",\"review_length\",\"review_length\",\"review_length\",\"review_length\",\"review_length\",\"review_length\",\"review_length\",\"review_length\",\"review_length\",\"review_length\",\"review_length\",\"review_length\",\"review_length\",\"review_length\",\"review_length\",\"review_length\",\"review_length\",\"review_length\",\"review_length\",\"review_length\",\"review_length\",\"review_length\",\"review_length\",\"review_length\",\"review_length\",\"review_length\",\"review_length\",\"review_length\",\"review_length\",\"review_length\",\"review_length\",\"review_length\",\"review_length\",\"review_length\",\"review_length\",\"review_length\",\"review_length\",\"review_length\",\"review_length\",\"review_length\",\"review_length\",\"review_length\",\"review_length\",\"review_length\",\"review_length\",\"review_length\",\"review_length\",\"review_length\",\"review_length\",\"review_length\",\"review_length\",\"review_length\",\"review_length\",\"review_length\",\"review_length\",\"review_length\",\"review_length\",\"review_length\",\"review_length\",\"review_length\",\"review_length\",\"review_length\",\"review_length\",\"review_length\",\"review_length\",\"review_length\",\"review_length\",\"review_length\",\"review_length\",\"review_length\",\"review_length\",\"review_length\",\"review_length\",\"review_length\",\"review_length\",\"review_length\",\"review_length\",\"review_length\",\"review_length\",\"review_length\",\"review_length\",\"review_length\",\"review_length\",\"review_length\",\"review_length\",\"review_length\",\"review_length\",\"review_length\",\"review_length\",\"review_length\",\"review_length\",\"review_length\",\"review_length\",\"review_length\",\"review_length\",\"review_length\",\"review_length\",\"review_length\",\"review_length\",\"review_length\",\"review_length\",\"review_length\",\"review_length\",\"review_length\",\"review_length\",\"review_length\",\"review_length\",\"review_length\",\"review_length\",\"review_length\",\"review_length\",\"review_length\",\"review_length\",\"review_length\",\"review_length\",\"review_length\",\"review_length\",\"review_length\",\"review_length\",\"review_length\",\"review_length\",\"review_length\",\"review_length\",\"review_length\",\"review_length\",\"review_length\",\"review_length\",\"review_length\",\"review_length\",\"review_length\",\"review_length\",\"review_length\",\"review_length\",\"review_length\",\"review_length\",\"review_length\",\"review_length\",\"review_length\",\"review_length\",\"review_length\",\"review_length\",\"review_length\",\"review_length\",\"review_length\",\"review_length\",\"review_length\",\"review_length\",\"review_length\",\"review_length\",\"review_length\",\"review_length\",\"review_length\",\"review_length\",\"review_length\",\"review_length\",\"review_length\",\"review_length\",\"review_length\",\"review_length\",\"review_length\",\"review_length\",\"review_length\",\"review_length\",\"review_length\",\"review_length\",\"review_length\",\"review_length\",\"review_length\",\"review_length\",\"review_length\",\"review_length\",\"review_length\",\"review_length\",\"review_length\",\"review_length\",\"review_length\",\"review_length\",\"review_length\",\"review_length\",\"review_length\",\"review_length\",\"review_length\",\"review_length\",\"review_length\",\"review_length\",\"review_length\",\"review_length\",\"review_length\",\"review_length\",\"review_length\",\"review_length\",\"review_length\",\"review_length\",\"review_length\",\"review_length\",\"review_length\",\"review_length\",\"review_length\",\"review_length\",\"review_length\",\"review_length\",\"review_length\",\"review_length\",\"review_length\",\"review_length\",\"review_length\",\"review_length\",\"review_length\",\"review_length\",\"review_length\",\"review_length\",\"review_length\",\"review_length\",\"review_length\",\"review_length\",\"review_length\",\"review_length\",\"review_length\",\"review_length\",\"review_length\",\"review_length\",\"review_length\",\"review_length\",\"review_length\",\"review_length\",\"review_length\",\"review_length\",\"review_length\",\"review_length\",\"review_length\",\"review_length\",\"review_length\",\"review_length\",\"review_length\",\"review_length\",\"review_length\",\"review_length\",\"review_length\",\"review_length\",\"review_length\",\"review_length\",\"review_length\",\"review_length\",\"review_length\",\"review_length\",\"review_length\",\"review_length\",\"review_length\",\"review_length\",\"review_length\",\"review_length\",\"review_length\",\"review_length\",\"review_length\",\"review_length\",\"review_length\",\"review_length\",\"review_length\",\"review_length\",\"review_length\",\"review_length\",\"review_length\",\"review_length\",\"review_length\",\"review_length\",\"review_length\",\"review_length\",\"review_length\",\"review_length\",\"review_length\",\"review_length\",\"review_length\",\"review_length\",\"review_length\",\"review_length\",\"review_length\",\"review_length\",\"review_length\",\"review_length\",\"review_length\",\"review_length\",\"review_length\",\"review_length\",\"review_length\",\"review_length\",\"review_length\",\"review_length\",\"review_length\",\"review_length\",\"review_length\",\"review_length\",\"review_length\",\"review_length\",\"review_length\",\"review_length\",\"review_length\",\"review_length\",\"review_length\",\"review_length\",\"review_length\",\"review_length\",\"review_length\",\"review_length\",\"review_length\",\"review_length\",\"review_length\",\"review_length\",\"review_length\",\"review_length\",\"review_length\",\"review_length\",\"review_length\",\"review_length\",\"review_length\",\"review_length\",\"review_length\",\"review_length\",\"review_length\",\"review_length\",\"review_length\",\"review_length\",\"review_length\",\"review_length\",\"review_length\",\"review_length\",\"review_length\",\"review_length\",\"review_length\",\"review_length\",\"review_length\",\"review_length\",\"review_length\",\"review_length\",\"review_length\",\"review_length\",\"review_length\",\"review_length\",\"review_length\",\"review_length\",\"review_length\",\"review_length\",\"review_length\",\"review_length\",\"review_length\",\"review_length\",\"review_length\",\"review_length\",\"review_length\",\"review_length\",\"review_length\",\"review_length\",\"review_length\",\"review_length\",\"review_length\",\"review_length\",\"review_length\",\"review_length\",\"review_length\",\"review_length\",\"review_length\",\"review_length\",\"review_length\",\"review_length\",\"review_length\",\"review_length\",\"review_length\",\"review_length\",\"review_length\",\"review_length\",\"review_length\",\"review_length\",\"review_length\",\"review_length\",\"review_length\",\"review_length\",\"review_length\",\"review_length\",\"review_length\",\"review_length\",\"review_length\",\"review_length\",\"review_length\",\"review_length\",\"review_length\",\"review_length\",\"review_length\",\"review_length\",\"review_length\",\"review_length\",\"review_length\",\"review_length\",\"review_length\",\"review_length\",\"review_length\",\"review_length\",\"review_length\",\"review_length\",\"review_length\",\"review_length\",\"review_length\",\"review_length\",\"review_length\",\"review_length\",\"review_length\",\"review_length\",\"review_length\",\"review_length\",\"review_length\",\"review_length\",\"review_length\",\"review_length\",\"review_length\",\"review_length\",\"review_length\",\"review_length\",\"review_length\",\"review_length\",\"review_length\",\"review_length\",\"review_length\",\"review_length\",\"review_length\",\"review_length\",\"review_length\",\"review_length\",\"review_length\",\"review_length\",\"review_length\",\"review_length\",\"review_length\",\"review_length\",\"review_length\",\"review_length\",\"review_length\",\"review_length\",\"review_length\",\"review_length\",\"review_length\",\"review_length\",\"review_length\",\"review_length\",\"review_length\",\"review_length\",\"review_length\",\"review_length\",\"review_length\",\"review_length\",\"review_length\",\"review_length\",\"review_length\",\"review_length\",\"review_length\",\"review_length\",\"review_length\",\"review_length\",\"review_length\",\"review_length\",\"review_length\",\"review_length\",\"review_length\",\"review_length\",\"review_length\",\"review_length\",\"review_length\",\"review_length\",\"review_length\",\"review_length\",\"review_length\",\"review_length\",\"review_length\",\"review_length\",\"review_length\",\"review_length\",\"review_length\",\"review_length\",\"review_length\",\"review_length\",\"review_length\",\"review_length\",\"review_length\",\"review_length\",\"review_length\",\"review_length\",\"review_length\",\"review_length\",\"review_length\",\"review_length\",\"review_length\",\"review_length\",\"review_length\",\"review_length\",\"review_length\",\"review_length\",\"review_length\",\"review_length\",\"review_length\",\"review_length\",\"review_length\",\"review_length\",\"review_length\",\"review_length\",\"review_length\",\"review_length\",\"review_length\",\"review_length\",\"review_length\",\"review_length\",\"review_length\",\"review_length\",\"review_length\",\"review_length\",\"review_length\",\"review_length\",\"review_length\",\"review_length\",\"review_length\",\"review_length\",\"review_length\",\"review_length\",\"review_length\",\"review_length\",\"review_length\",\"review_length\",\"review_length\",\"review_length\",\"review_length\",\"review_length\",\"review_length\",\"review_length\",\"review_length\",\"review_length\",\"review_length\",\"review_length\",\"review_length\",\"review_length\",\"review_length\",\"review_length\",\"review_length\",\"review_length\",\"review_length\",\"review_length\",\"review_length\",\"review_length\",\"review_length\",\"review_length\",\"review_length\",\"review_length\",\"review_length\",\"review_length\",\"review_length\",\"review_length\",\"review_length\",\"review_length\",\"review_length\",\"review_length\",\"review_length\",\"review_length\",\"review_length\",\"review_length\",\"review_length\",\"review_length\",\"review_length\",\"review_length\",\"review_length\",\"review_length\",\"review_length\",\"review_length\",\"review_length\",\"review_length\",\"review_length\",\"review_length\",\"review_length\",\"review_length\",\"review_length\",\"review_length\",\"review_length\",\"review_length\",\"review_length\",\"review_length\",\"review_length\",\"review_length\",\"review_length\",\"review_length\",\"review_length\",\"review_length\",\"review_length\",\"review_length\",\"review_length\",\"review_length\",\"review_length\",\"review_length\",\"review_length\",\"review_length\",\"review_length\",\"review_length\",\"review_length\",\"review_length\",\"review_length\",\"review_length\",\"review_length\",\"review_length\",\"review_length\",\"review_length\",\"review_length\",\"review_length\",\"review_length\",\"review_length\",\"review_length\",\"review_length\",\"review_length\",\"review_length\",\"review_length\",\"review_length\",\"review_length\",\"review_length\",\"review_length\",\"review_length\",\"review_length\",\"review_length\",\"review_length\",\"review_length\",\"review_length\",\"review_length\",\"review_length\",\"review_length\",\"review_length\",\"review_length\",\"review_length\",\"review_length\",\"review_length\",\"review_length\",\"review_length\",\"review_length\",\"review_length\",\"review_length\",\"review_length\",\"review_length\",\"review_length\",\"review_length\",\"review_length\",\"review_length\",\"review_length\",\"review_length\",\"review_length\",\"review_length\",\"review_length\",\"review_length\",\"review_length\",\"review_length\",\"review_length\",\"review_length\",\"review_length\",\"review_length\",\"review_length\",\"review_length\",\"review_length\",\"review_length\",\"review_length\",\"review_length\",\"review_length\",\"review_length\",\"review_length\",\"review_length\",\"review_length\",\"review_length\",\"review_length\",\"review_length\",\"review_length\",\"review_length\",\"review_length\",\"review_length\",\"review_length\",\"review_length\",\"review_length\",\"review_length\",\"review_length\",\"review_length\",\"review_length\",\"review_length\",\"review_length\",\"review_length\",\"review_length\",\"review_length\",\"review_length\",\"review_length\",\"review_length\",\"review_length\",\"review_length\",\"review_length\",\"review_length\",\"review_length\",\"review_length\",\"review_length\",\"review_length\",\"review_length\",\"review_length\",\"review_length\",\"review_length\",\"review_length\",\"review_length\",\"review_length\",\"review_length\",\"review_length\",\"review_length\",\"review_length\",\"review_length\",\"review_length\",\"review_length\",\"review_length\",\"review_length\",\"review_length\",\"review_length\",\"review_length\",\"review_length\",\"review_length\",\"review_length\",\"review_length\",\"review_length\",\"review_length\",\"review_length\",\"review_length\",\"review_length\",\"review_length\",\"review_length\",\"review_length\",\"review_length\",\"review_length\",\"review_length\",\"review_length\",\"review_length\",\"review_length\",\"review_length\",\"review_length\",\"review_length\",\"review_length\",\"review_length\",\"review_length\",\"review_length\",\"review_length\",\"review_length\",\"review_length\",\"review_length\",\"review_length\",\"review_length\",\"review_length\",\"review_length\",\"review_length\",\"review_length\",\"review_length\",\"review_length\",\"review_length\",\"review_length\",\"review_length\",\"review_length\",\"review_length\",\"review_length\",\"review_length\",\"review_length\",\"review_length\",\"review_length\",\"review_length\",\"review_length\",\"review_length\",\"review_length\",\"review_length\",\"review_length\",\"review_length\",\"review_length\",\"review_length\",\"review_length\",\"review_length\",\"review_length\",\"review_length\",\"review_length\",\"review_length\",\"review_length\",\"review_length\",\"review_length\",\"review_length\",\"review_length\",\"review_length\",\"review_length\",\"review_length\",\"review_length\",\"review_length\",\"review_length\",\"review_length\",\"review_length\",\"review_length\",\"review_length\",\"review_length\",\"review_length\",\"review_length\",\"review_length\",\"review_length\",\"review_length\",\"review_length\",\"review_length\",\"review_length\",\"review_length\",\"review_length\",\"review_length\",\"review_length\",\"review_length\",\"review_length\",\"review_length\",\"review_length\",\"review_length\",\"review_length\",\"review_length\",\"review_length\",\"review_length\",\"review_length\",\"review_length\",\"review_length\",\"review_length\",\"review_length\",\"review_length\",\"review_length\",\"review_length\",\"review_length\",\"review_length\",\"review_length\",\"review_length\",\"review_length\",\"review_length\",\"review_length\",\"review_length\",\"review_length\",\"review_length\",\"review_length\",\"review_length\",\"review_length\",\"review_length\",\"review_length\",\"review_length\",\"review_length\",\"review_length\",\"review_length\",\"review_length\",\"review_length\",\"review_length\",\"review_length\",\"review_length\",\"review_length\",\"review_length\",\"review_length\",\"review_length\",\"review_length\",\"review_length\",\"review_length\",\"review_length\",\"review_length\",\"review_length\",\"review_length\",\"review_length\",\"review_length\",\"review_length\",\"review_length\",\"review_length\",\"review_length\",\"review_length\",\"review_length\",\"review_length\",\"review_length\",\"review_length\",\"review_length\",\"review_length\",\"review_length\",\"review_length\",\"review_length\",\"review_length\",\"review_length\",\"review_length\",\"review_length\",\"review_length\",\"review_length\",\"review_length\",\"review_length\",\"review_length\",\"review_length\",\"review_length\",\"review_length\",\"review_length\",\"review_length\",\"review_length\",\"review_length\",\"review_length\",\"review_length\",\"review_length\",\"review_length\",\"review_length\",\"review_length\",\"review_length\",\"review_length\",\"review_length\",\"review_length\",\"review_length\",\"review_length\",\"review_length\",\"review_length\",\"review_length\",\"review_length\",\"review_length\",\"review_length\",\"review_length\",\"review_length\",\"review_length\",\"review_length\",\"review_length\",\"review_length\",\"review_length\",\"review_length\",\"review_length\",\"review_length\",\"review_length\",\"review_length\",\"review_length\",\"review_length\",\"review_length\",\"review_length\",\"review_length\",\"review_length\",\"review_length\",\"review_length\",\"review_length\",\"review_length\",\"review_length\",\"review_length\",\"review_length\",\"review_length\",\"review_length\",\"review_length\",\"review_length\",\"review_length\",\"review_length\",\"review_length\",\"review_length\",\"review_length\",\"review_length\",\"review_length\",\"review_length\",\"review_length\",\"review_length\",\"review_length\",\"review_length\",\"review_length\",\"review_length\",\"review_length\",\"review_length\",\"review_length\",\"review_length\",\"review_length\",\"review_length\",\"review_length\",\"review_length\",\"review_length\",\"review_length\",\"review_length\",\"review_length\",\"review_length\",\"review_length\",\"review_length\",\"review_length\",\"review_length\",\"review_length\",\"review_length\",\"review_length\",\"review_length\",\"review_length\",\"review_length\",\"review_length\",\"review_length\",\"review_length\",\"review_length\",\"review_length\",\"review_length\",\"review_length\",\"review_length\",\"review_length\",\"review_length\",\"review_length\",\"review_length\",\"review_length\",\"review_length\",\"review_length\",\"review_length\",\"review_length\",\"review_length\",\"review_length\",\"review_length\",\"review_length\",\"review_length\",\"review_length\",\"review_length\",\"review_length\",\"review_length\",\"review_length\",\"review_length\",\"review_length\",\"review_length\",\"review_length\",\"review_length\",\"review_length\",\"review_length\",\"review_length\",\"review_length\",\"review_length\",\"review_length\",\"review_length\",\"review_length\",\"review_length\",\"review_length\",\"review_length\",\"review_length\",\"review_length\",\"review_length\",\"review_length\",\"review_length\",\"review_length\",\"review_length\",\"review_length\",\"review_length\",\"review_length\",\"review_length\",\"review_length\",\"review_length\",\"review_length\",\"review_length\",\"review_length\",\"review_length\",\"review_length\",\"review_length\",\"review_length\",\"review_length\",\"review_length\",\"review_length\",\"review_length\",\"review_length\",\"review_length\",\"review_length\",\"review_length\",\"review_length\",\"review_length\",\"review_length\",\"review_length\",\"review_length\",\"review_length\",\"review_length\",\"review_length\",\"review_length\",\"review_length\",\"review_length\",\"review_length\",\"review_length\",\"review_length\",\"review_length\",\"review_length\",\"review_length\",\"review_length\",\"review_length\",\"review_length\",\"review_length\",\"review_length\",\"review_length\",\"review_length\",\"review_length\",\"review_length\",\"review_length\",\"review_length\",\"review_length\",\"review_length\",\"review_length\",\"review_length\",\"review_length\",\"review_length\",\"review_length\",\"review_length\",\"review_length\",\"review_length\",\"review_length\",\"review_length\",\"review_length\",\"review_length\",\"review_length\",\"review_length\",\"review_length\",\"review_length\",\"review_length\",\"review_length\",\"review_length\",\"review_length\",\"review_length\",\"review_length\",\"review_length\",\"review_length\",\"review_length\",\"review_length\",\"review_length\",\"review_length\",\"review_length\",\"review_length\",\"review_length\",\"review_length\",\"review_length\",\"review_length\",\"review_length\",\"review_length\",\"review_length\",\"review_length\",\"review_length\",\"review_length\",\"review_length\",\"review_length\",\"review_length\",\"review_length\",\"review_length\",\"review_length\",\"review_length\",\"review_length\",\"review_length\",\"review_length\",\"review_length\",\"review_length\",\"review_length\",\"review_length\",\"review_length\",\"review_length\",\"review_length\",\"review_length\",\"review_length\",\"review_length\",\"review_length\",\"review_length\",\"review_length\",\"review_length\",\"review_length\",\"review_length\",\"review_length\",\"review_length\",\"review_length\",\"review_length\",\"review_length\",\"review_length\",\"review_length\",\"review_length\",\"review_length\",\"review_length\",\"review_length\",\"review_length\",\"review_length\",\"review_length\",\"review_length\",\"review_length\",\"review_length\",\"review_length\",\"review_length\",\"review_length\",\"review_length\",\"review_length\",\"review_length\",\"review_length\",\"review_length\",\"review_length\",\"review_length\",\"review_length\",\"review_length\",\"review_length\",\"review_length\",\"review_length\",\"review_length\",\"review_length\",\"review_length\",\"review_length\",\"review_length\",\"review_length\",\"review_length\",\"review_length\",\"review_length\",\"review_length\",\"review_length\",\"review_length\",\"review_length\",\"review_length\",\"review_length\",\"review_length\",\"review_length\",\"review_length\",\"review_length\",\"review_length\",\"review_length\",\"review_length\",\"review_length\",\"review_length\",\"review_length\",\"review_length\",\"review_length\",\"review_length\",\"review_length\",\"review_length\",\"review_length\",\"review_length\",\"review_length\",\"review_length\",\"review_length\",\"review_length\",\"review_length\",\"review_length\",\"review_length\",\"review_length\",\"review_length\",\"review_length\",\"review_length\",\"review_length\",\"review_length\",\"review_length\",\"review_length\",\"review_length\",\"review_length\",\"review_length\",\"review_length\",\"review_length\",\"review_length\",\"review_length\",\"review_length\",\"review_length\",\"review_length\",\"review_length\",\"review_length\",\"review_length\",\"review_length\",\"review_length\",\"review_length\",\"review_length\",\"review_length\",\"review_length\",\"review_length\",\"review_length\",\"review_length\",\"review_length\",\"review_length\",\"review_length\",\"review_length\",\"review_length\",\"review_length\",\"review_length\",\"review_length\",\"review_length\",\"review_length\",\"review_length\",\"review_length\",\"review_length\",\"review_length\",\"review_length\",\"review_length\",\"review_length\",\"review_length\",\"review_length\",\"review_length\",\"review_length\",\"review_length\",\"review_length\",\"review_length\",\"review_length\",\"review_length\",\"review_length\",\"review_length\",\"review_length\",\"review_length\",\"review_length\",\"review_length\",\"review_length\",\"review_length\",\"review_length\",\"review_length\",\"review_length\",\"review_length\",\"review_length\",\"review_length\",\"review_length\",\"review_length\",\"review_length\",\"review_length\",\"review_length\",\"review_length\",\"review_length\",\"review_length\",\"review_length\",\"review_length\",\"review_length\",\"review_length\",\"review_length\",\"review_length\",\"review_length\",\"review_length\",\"review_length\",\"review_length\",\"review_length\",\"review_length\",\"review_length\",\"review_length\",\"review_length\",\"review_length\",\"review_length\",\"review_length\",\"review_length\",\"review_length\",\"review_length\",\"review_length\",\"review_length\",\"review_length\",\"review_length\",\"review_length\",\"review_length\",\"review_length\",\"review_length\",\"review_length\",\"review_length\",\"review_length\",\"review_length\",\"review_length\",\"review_length\",\"review_length\",\"review_length\",\"review_length\",\"review_length\",\"review_length\",\"review_length\",\"review_length\",\"review_length\",\"review_length\",\"review_length\",\"review_length\",\"review_length\",\"review_length\",\"review_length\",\"review_length\",\"review_length\",\"review_length\",\"review_length\",\"review_length\",\"review_length\",\"review_length\",\"review_length\",\"review_length\",\"review_length\",\"review_length\",\"review_length\",\"review_length\",\"review_length\",\"review_length\",\"review_length\",\"review_length\",\"review_length\",\"review_length\",\"review_length\",\"review_length\",\"review_length\",\"review_length\",\"review_length\",\"review_length\",\"review_length\",\"review_length\",\"review_length\",\"review_length\",\"review_length\",\"review_length\",\"review_length\",\"review_length\",\"review_length\",\"review_length\",\"review_length\",\"review_length\",\"review_length\",\"review_length\",\"review_length\",\"review_length\",\"review_length\",\"review_length\",\"review_length\",\"review_length\",\"review_length\",\"review_length\",\"review_length\",\"review_length\",\"review_length\",\"review_length\",\"review_length\",\"review_length\",\"review_length\",\"review_length\",\"review_length\",\"review_length\",\"review_length\",\"review_length\",\"review_length\",\"review_length\",\"review_length\",\"review_length\",\"review_length\",\"review_length\",\"review_length\",\"review_length\",\"review_length\",\"review_length\",\"review_length\",\"review_length\",\"review_length\",\"review_length\",\"review_length\",\"review_length\",\"review_length\",\"review_length\",\"review_length\",\"review_length\",\"review_length\",\"review_length\",\"review_length\",\"review_length\",\"review_length\",\"review_length\",\"review_length\",\"review_length\",\"review_length\",\"review_length\",\"review_length\",\"review_length\",\"review_length\",\"review_length\",\"review_length\",\"review_length\",\"review_length\",\"review_length\",\"review_length\",\"review_length\",\"review_length\",\"review_length\",\"review_length\",\"review_length\",\"review_length\",\"review_length\",\"review_length\",\"review_length\",\"review_length\",\"review_length\",\"review_length\",\"review_length\",\"review_length\",\"review_length\",\"review_length\",\"review_length\",\"review_length\",\"review_length\",\"review_length\",\"review_length\",\"review_length\",\"review_length\",\"review_length\",\"review_length\",\"review_length\",\"review_length\",\"review_length\",\"review_length\",\"review_length\",\"review_length\",\"review_length\",\"review_length\",\"review_length\",\"review_length\",\"review_length\",\"review_length\",\"review_length\",\"review_length\",\"review_length\",\"review_length\",\"review_length\",\"review_length\",\"review_length\",\"review_length\",\"review_length\",\"review_length\",\"review_length\",\"review_length\",\"review_length\",\"review_length\",\"review_length\",\"review_length\",\"review_length\",\"review_length\",\"review_length\",\"review_length\",\"review_length\",\"review_length\",\"review_length\",\"review_length\",\"review_length\",\"review_length\",\"review_length\",\"review_length\",\"review_length\",\"review_length\",\"review_length\",\"review_length\",\"review_length\",\"review_length\",\"review_length\",\"review_length\",\"review_length\",\"review_length\",\"review_length\",\"review_length\",\"review_length\",\"review_length\",\"review_length\",\"review_length\",\"review_length\",\"review_length\",\"review_length\",\"review_length\",\"review_length\",\"review_length\",\"review_length\",\"review_length\",\"review_length\",\"review_length\",\"review_length\",\"review_length\",\"review_length\",\"review_length\",\"review_length\",\"review_length\",\"review_length\",\"review_length\",\"review_length\",\"review_length\",\"review_length\",\"review_length\",\"review_length\",\"review_length\",\"review_length\",\"review_length\",\"review_length\",\"review_length\",\"review_length\",\"review_length\",\"review_length\",\"review_length\",\"review_length\",\"review_length\",\"review_length\",\"review_length\",\"review_length\",\"review_length\",\"review_length\",\"review_length\",\"review_length\",\"review_length\",\"review_length\",\"review_length\",\"review_length\",\"review_length\",\"review_length\",\"review_length\",\"review_length\",\"review_length\",\"review_length\",\"review_length\",\"review_length\",\"review_length\",\"review_length\",\"review_length\",\"review_length\",\"review_length\",\"review_length\",\"review_length\",\"review_length\",\"review_length\",\"review_length\",\"review_length\",\"review_length\",\"review_length\",\"review_length\",\"review_length\",\"review_length\",\"review_length\",\"review_length\",\"review_length\",\"review_length\",\"review_length\",\"review_length\",\"review_length\",\"review_length\",\"review_length\",\"review_length\",\"review_length\",\"review_length\",\"review_length\",\"review_length\",\"review_length\",\"review_length\",\"review_length\",\"review_length\",\"review_length\",\"review_length\",\"review_length\",\"review_length\",\"review_length\",\"review_length\",\"review_length\",\"review_length\",\"review_length\",\"review_length\",\"review_length\",\"review_length\",\"review_length\",\"review_length\",\"review_length\",\"review_length\",\"review_length\",\"review_length\",\"review_length\",\"review_length\",\"review_length\",\"review_length\",\"review_length\",\"review_length\",\"review_length\",\"review_length\",\"review_length\",\"review_length\",\"review_length\",\"review_length\",\"review_length\",\"review_length\",\"review_length\",\"review_length\",\"review_length\",\"review_length\",\"review_length\",\"review_length\",\"review_length\",\"review_length\",\"review_length\",\"review_length\",\"review_length\",\"review_length\",\"review_length\",\"review_length\",\"review_length\",\"review_length\",\"review_length\",\"review_length\",\"review_length\",\"review_length\",\"review_length\",\"review_length\",\"review_length\",\"review_length\",\"review_length\",\"review_length\",\"review_length\",\"review_length\",\"review_length\",\"review_length\",\"review_length\",\"review_length\",\"review_length\",\"review_length\",\"review_length\",\"review_length\",\"review_length\",\"review_length\",\"review_length\",\"review_length\",\"review_length\",\"review_length\",\"review_length\",\"review_length\",\"review_length\",\"review_length\",\"review_length\",\"review_length\",\"review_length\",\"review_length\",\"review_length\",\"review_length\",\"review_length\",\"review_length\",\"review_length\",\"review_length\",\"review_length\",\"review_length\",\"review_length\",\"review_length\",\"review_length\",\"review_length\",\"review_length\",\"review_length\",\"review_length\",\"review_length\",\"review_length\",\"review_length\",\"review_length\",\"review_length\",\"review_length\",\"review_length\",\"review_length\",\"review_length\",\"review_length\",\"review_length\",\"review_length\",\"review_length\",\"review_length\",\"review_length\",\"review_length\",\"review_length\",\"review_length\",\"review_length\",\"review_length\",\"review_length\",\"review_length\",\"review_length\",\"review_length\",\"review_length\",\"review_length\",\"review_length\",\"review_length\",\"review_length\",\"review_length\",\"review_length\",\"review_length\",\"review_length\",\"review_length\",\"review_length\",\"review_length\",\"review_length\",\"review_length\",\"review_length\",\"review_length\",\"review_length\",\"review_length\",\"review_length\",\"review_length\",\"review_length\",\"review_length\",\"review_length\",\"review_length\",\"review_length\",\"review_length\",\"review_length\",\"review_length\",\"review_length\",\"review_length\",\"review_length\",\"review_length\",\"review_length\",\"review_length\",\"review_length\",\"review_length\",\"review_length\",\"review_length\",\"review_length\",\"review_length\",\"review_length\",\"review_length\",\"review_length\",\"review_length\",\"review_length\",\"review_length\",\"review_length\",\"review_length\",\"review_length\",\"review_length\",\"review_length\",\"review_length\",\"review_length\",\"review_length\",\"review_length\",\"review_length\",\"review_length\",\"review_length\",\"review_length\",\"review_length\",\"review_length\",\"review_length\",\"review_length\",\"review_length\",\"review_length\",\"review_length\",\"review_length\",\"review_length\",\"review_length\",\"review_length\",\"review_length\",\"review_length\",\"review_length\",\"review_length\",\"review_length\",\"review_length\",\"review_length\",\"review_length\",\"review_length\",\"review_length\",\"review_length\",\"review_length\",\"review_length\",\"review_length\",\"review_length\",\"review_length\",\"review_length\",\"review_length\",\"review_length\",\"review_length\",\"review_length\",\"review_length\",\"review_length\",\"review_length\",\"review_length\",\"review_length\",\"review_length\",\"review_length\",\"review_length\",\"review_length\",\"review_length\",\"review_length\",\"review_length\",\"review_length\",\"review_length\",\"review_length\",\"review_length\",\"review_length\",\"review_length\",\"review_length\",\"review_length\",\"review_length\",\"review_length\",\"review_length\",\"review_length\",\"review_length\",\"review_length\",\"review_length\",\"review_length\",\"review_length\",\"review_length\",\"review_length\",\"review_length\",\"review_length\",\"review_length\",\"review_length\",\"review_length\",\"review_length\",\"review_length\",\"review_length\",\"review_length\",\"review_length\",\"review_length\",\"review_length\",\"review_length\",\"review_length\",\"review_length\",\"review_length\",\"review_length\",\"review_length\",\"review_length\",\"review_length\",\"review_length\",\"review_length\",\"review_length\",\"review_length\",\"review_length\",\"review_length\",\"review_length\",\"review_length\",\"review_length\",\"review_length\",\"review_length\",\"review_length\",\"review_length\",\"review_length\",\"review_length\",\"review_length\",\"review_length\",\"review_length\",\"review_length\",\"review_length\",\"review_length\",\"review_length\",\"review_length\",\"review_length\",\"review_length\",\"review_length\",\"review_length\",\"review_length\",\"review_length\",\"review_length\",\"review_length\",\"review_length\",\"review_length\",\"review_length\",\"review_length\",\"review_length\",\"review_length\",\"review_length\",\"review_length\",\"review_length\",\"review_length\",\"review_length\",\"review_length\",\"review_length\",\"review_length\",\"review_length\",\"review_length\",\"review_length\",\"review_length\",\"review_length\",\"review_length\",\"review_length\",\"review_length\",\"review_length\",\"review_length\",\"review_length\",\"review_length\",\"review_length\",\"review_length\",\"review_length\",\"review_length\",\"review_length\",\"review_length\",\"review_length\",\"review_length\",\"review_length\",\"review_length\",\"review_length\",\"review_length\",\"review_length\",\"review_length\",\"review_length\",\"review_length\",\"review_length\",\"review_length\",\"review_length\",\"review_length\",\"review_length\",\"review_length\",\"review_length\",\"review_length\",\"review_length\",\"review_length\",\"review_length\",\"review_length\",\"review_length\",\"review_length\",\"review_length\",\"review_length\",\"review_length\",\"review_length\",\"review_length\",\"review_length\",\"review_length\",\"review_length\",\"review_length\",\"review_length\",\"review_length\",\"review_length\",\"review_length\",\"review_length\",\"review_length\",\"review_length\",\"review_length\",\"review_length\",\"review_length\",\"review_length\",\"review_length\",\"review_length\",\"review_length\",\"review_length\",\"review_length\",\"review_length\",\"review_length\",\"review_length\",\"review_length\",\"review_length\",\"review_length\",\"review_length\",\"review_length\",\"review_length\",\"review_length\",\"review_length\",\"review_length\",\"review_length\",\"review_length\",\"review_length\",\"review_length\",\"review_length\",\"review_length\",\"review_length\",\"review_length\",\"review_length\",\"review_length\",\"review_length\",\"review_length\",\"review_length\",\"review_length\",\"review_length\",\"review_length\",\"review_length\",\"review_length\",\"review_length\",\"review_length\",\"review_length\",\"review_length\",\"review_length\",\"review_length\",\"review_length\",\"review_length\",\"review_length\",\"review_length\",\"review_length\",\"review_length\",\"review_length\",\"review_length\",\"review_length\",\"review_length\",\"review_length\",\"review_length\",\"review_length\",\"review_length\",\"review_length\",\"review_length\",\"review_length\",\"review_length\",\"review_length\",\"review_length\",\"review_length\",\"review_length\",\"review_length\",\"review_length\",\"review_length\",\"review_length\",\"review_length\",\"review_length\",\"review_length\",\"review_length\",\"review_length\",\"review_length\",\"review_length\",\"review_length\",\"review_length\",\"review_length\",\"review_length\",\"review_length\",\"review_length\",\"review_length\",\"review_length\",\"review_length\",\"review_length\",\"review_length\",\"review_length\",\"review_length\",\"review_length\",\"review_length\",\"review_length\",\"review_length\",\"review_length\",\"review_length\",\"review_length\",\"review_length\",\"review_length\",\"review_length\",\"review_length\",\"review_length\",\"review_length\",\"review_length\",\"review_length\",\"review_length\",\"review_length\",\"review_length\",\"review_length\",\"review_length\",\"review_length\",\"review_length\",\"review_length\",\"review_length\",\"review_length\",\"review_length\",\"review_length\",\"review_length\",\"review_length\",\"review_length\",\"review_length\",\"review_length\",\"review_length\",\"review_length\",\"review_length\",\"review_length\",\"review_length\",\"review_length\",\"review_length\",\"review_length\",\"review_length\",\"review_length\",\"review_length\",\"review_length\",\"review_length\",\"review_length\",\"review_length\",\"review_length\",\"review_length\",\"review_length\",\"review_length\",\"review_length\",\"review_length\",\"review_length\",\"review_length\",\"review_length\",\"review_length\",\"review_length\",\"review_length\",\"review_length\",\"review_length\",\"review_length\",\"review_length\",\"review_length\",\"review_length\",\"review_length\",\"review_length\",\"review_length\",\"review_length\",\"review_length\",\"review_length\",\"review_length\",\"review_length\",\"review_length\",\"review_length\",\"review_length\",\"review_length\",\"review_length\",\"review_length\",\"review_length\",\"review_length\",\"review_length\",\"review_length\",\"review_length\",\"review_length\",\"review_length\",\"review_length\",\"review_length\",\"review_length\",\"review_length\",\"review_length\",\"review_length\",\"review_length\",\"review_length\",\"review_length\",\"review_length\",\"review_length\",\"review_length\",\"review_length\",\"review_length\",\"review_length\",\"review_length\",\"review_length\",\"review_length\",\"review_length\",\"review_length\",\"review_length\",\"review_length\",\"review_length\",\"review_length\",\"review_length\",\"review_length\",\"review_length\",\"review_length\",\"review_length\",\"review_length\",\"review_length\",\"review_length\",\"review_length\",\"review_length\",\"review_length\",\"review_length\",\"review_length\",\"review_length\",\"review_length\",\"review_length\",\"review_length\",\"review_length\",\"review_length\",\"review_length\",\"review_length\",\"review_length\",\"review_length\",\"review_length\",\"review_length\",\"review_length\",\"review_length\",\"review_length\",\"review_length\",\"review_length\",\"review_length\",\"review_length\",\"review_length\",\"review_length\",\"review_length\",\"review_length\",\"review_length\",\"review_length\",\"review_length\",\"review_length\",\"review_length\",\"review_length\",\"review_length\",\"review_length\",\"review_length\",\"review_length\",\"review_length\",\"review_length\",\"review_length\",\"review_length\",\"review_length\",\"review_length\",\"review_length\",\"review_length\",\"review_length\",\"review_length\",\"review_length\",\"review_length\",\"review_length\",\"review_length\",\"review_length\",\"review_length\",\"review_length\",\"review_length\",\"review_length\",\"review_length\",\"review_length\",\"review_length\",\"review_length\",\"review_length\",\"review_length\",\"review_length\",\"review_length\",\"review_length\",\"review_length\",\"review_length\",\"review_length\",\"review_length\",\"review_length\",\"review_length\",\"review_length\",\"review_length\",\"review_length\",\"review_length\",\"review_length\",\"review_length\",\"review_length\",\"review_length\",\"review_length\",\"review_length\",\"review_length\",\"review_length\",\"review_length\",\"review_length\",\"review_length\",\"review_length\",\"review_length\",\"review_length\",\"review_length\",\"review_length\",\"review_length\",\"review_length\",\"review_length\",\"review_length\",\"review_length\",\"review_length\",\"review_length\",\"review_length\",\"review_length\",\"review_length\",\"review_length\",\"review_length\",\"review_length\",\"review_length\",\"review_length\",\"review_length\",\"review_length\",\"review_length\",\"review_length\",\"review_length\",\"review_length\",\"review_length\",\"review_length\",\"review_length\",\"review_length\",\"review_length\",\"review_length\",\"review_length\",\"review_length\",\"review_length\",\"review_length\",\"review_length\",\"review_length\",\"review_length\",\"review_length\",\"review_length\",\"review_length\",\"review_length\",\"review_length\",\"review_length\",\"review_length\",\"review_length\",\"review_length\",\"review_length\",\"review_length\",\"review_length\",\"review_length\",\"review_length\",\"review_length\",\"review_length\",\"review_length\",\"review_length\",\"review_length\",\"review_length\",\"review_length\",\"review_length\",\"review_length\",\"review_length\",\"review_length\",\"review_length\",\"review_length\",\"review_length\",\"review_length\",\"review_length\",\"review_length\",\"review_length\",\"review_length\",\"review_length\",\"review_length\",\"review_length\",\"review_length\",\"review_length\",\"review_length\",\"review_length\",\"review_length\",\"review_length\",\"review_length\",\"review_length\",\"review_length\",\"review_length\",\"review_length\",\"review_length\",\"review_length\",\"review_length\",\"review_length\",\"review_length\",\"review_length\",\"review_length\",\"review_length\",\"review_length\",\"review_length\",\"review_length\",\"review_length\",\"review_length\",\"review_length\",\"review_length\",\"review_length\",\"review_length\",\"review_length\",\"review_length\",\"review_length\",\"review_length\",\"review_length\",\"review_length\",\"review_length\",\"review_length\",\"review_length\",\"review_length\",\"review_length\",\"review_length\",\"review_length\",\"review_length\",\"review_length\",\"review_length\",\"review_length\",\"review_length\",\"review_length\",\"review_length\",\"review_length\",\"review_length\",\"review_length\",\"review_length\",\"review_length\",\"review_length\",\"review_length\",\"review_length\",\"review_length\",\"review_length\",\"review_length\",\"review_length\",\"review_length\",\"review_length\",\"review_length\",\"review_length\",\"review_length\",\"review_length\",\"review_length\",\"review_length\",\"review_length\",\"review_length\",\"review_length\",\"review_length\",\"review_length\",\"review_length\",\"review_length\",\"review_length\",\"review_length\",\"review_length\",\"review_length\",\"review_length\",\"review_length\",\"review_length\",\"review_length\",\"review_length\",\"review_length\",\"review_length\",\"review_length\",\"review_length\",\"review_length\",\"review_length\",\"review_length\",\"review_length\",\"review_length\",\"review_length\",\"review_length\",\"review_length\",\"review_length\",\"review_length\",\"review_length\",\"review_length\",\"review_length\",\"review_length\",\"review_length\",\"review_length\",\"review_length\",\"review_length\",\"review_length\",\"review_length\",\"review_length\",\"review_length\",\"review_length\",\"review_length\",\"review_length\",\"review_length\",\"review_length\",\"review_length\",\"review_length\",\"review_length\",\"review_length\",\"review_length\",\"review_length\",\"review_length\",\"review_length\",\"review_length\",\"review_length\",\"review_length\",\"review_length\",\"review_length\",\"review_length\",\"review_length\",\"review_length\",\"review_length\",\"review_length\",\"review_length\",\"review_length\",\"review_length\",\"review_length\",\"review_length\",\"review_length\",\"review_length\",\"review_length\",\"review_length\",\"review_length\",\"review_length\",\"review_length\",\"review_length\",\"review_length\",\"review_length\",\"review_length\",\"review_length\",\"review_length\",\"review_length\",\"review_length\",\"review_length\",\"review_length\",\"review_length\",\"review_length\",\"review_length\",\"review_length\",\"review_length\",\"review_length\",\"review_length\",\"review_length\",\"review_length\",\"review_length\",\"review_length\",\"review_length\",\"review_length\",\"review_length\",\"review_length\",\"review_length\",\"review_length\",\"review_length\",\"review_length\",\"review_length\",\"review_length\",\"review_length\",\"review_length\",\"review_length\",\"review_length\",\"review_length\",\"review_length\",\"review_length\",\"review_length\",\"review_length\",\"review_length\",\"review_length\",\"review_length\",\"review_length\",\"review_length\",\"review_length\",\"review_length\",\"review_length\",\"review_length\",\"review_length\",\"review_length\",\"review_length\",\"review_length\",\"review_length\",\"review_length\",\"review_length\",\"review_length\",\"review_length\",\"review_length\",\"review_length\",\"review_length\",\"review_length\",\"review_length\",\"review_length\",\"review_length\",\"review_length\",\"review_length\",\"review_length\",\"review_length\",\"review_length\",\"review_length\",\"review_length\",\"review_length\",\"review_length\",\"review_length\",\"review_length\",\"review_length\",\"review_length\",\"review_length\",\"review_length\",\"review_length\",\"review_length\",\"review_length\",\"review_length\",\"review_length\",\"review_length\",\"review_length\",\"review_length\",\"review_length\",\"review_length\",\"review_length\",\"review_length\",\"review_length\",\"review_length\",\"review_length\",\"review_length\",\"review_length\",\"review_length\",\"review_length\",\"review_length\",\"review_length\",\"review_length\",\"review_length\",\"review_length\",\"review_length\",\"review_length\",\"review_length\",\"review_length\",\"review_length\",\"review_length\",\"review_length\",\"review_length\",\"review_length\",\"review_length\",\"review_length\",\"review_length\",\"review_length\",\"review_length\",\"review_length\",\"review_length\",\"review_length\",\"review_length\",\"review_length\",\"review_length\",\"review_length\",\"review_length\",\"review_length\",\"review_length\",\"review_length\",\"review_length\",\"review_length\",\"review_length\",\"review_length\",\"review_length\",\"review_length\",\"review_length\",\"review_length\",\"review_length\",\"review_length\",\"review_length\",\"review_length\",\"review_length\",\"review_length\",\"review_length\",\"review_length\",\"review_length\",\"review_length\",\"review_length\",\"review_length\",\"review_length\",\"review_length\",\"review_length\",\"review_length\",\"review_length\",\"review_length\",\"review_length\",\"review_length\",\"review_length\",\"review_length\",\"review_length\",\"review_length\",\"review_length\",\"review_length\",\"review_length\",\"review_length\",\"review_length\",\"review_length\",\"review_length\",\"review_length\",\"review_length\",\"review_length\",\"review_length\",\"review_length\",\"review_length\",\"review_length\",\"review_length\",\"review_length\",\"review_length\",\"review_length\",\"review_length\",\"review_length\",\"review_length\",\"review_length\",\"review_length\",\"review_length\",\"review_length\",\"review_length\",\"review_length\",\"review_length\",\"review_length\",\"review_length\",\"review_length\",\"review_length\",\"review_length\",\"review_length\",\"review_length\",\"review_length\",\"review_length\",\"review_length\",\"review_length\",\"review_length\",\"review_length\",\"review_length\",\"review_length\",\"review_length\",\"review_length\",\"review_length\",\"review_length\",\"review_length\",\"review_length\",\"review_length\",\"review_length\",\"review_length\",\"review_length\",\"review_length\",\"review_length\",\"review_length\",\"review_length\",\"review_length\",\"review_length\",\"review_length\",\"review_length\",\"review_length\",\"review_length\",\"review_length\",\"review_length\",\"review_length\",\"review_length\",\"review_length\",\"review_length\",\"review_length\",\"review_length\",\"review_length\",\"review_length\",\"review_length\",\"review_length\",\"review_length\",\"review_length\",\"review_length\",\"review_length\",\"review_length\",\"review_length\",\"review_length\",\"review_length\",\"review_length\",\"review_length\",\"review_length\",\"review_length\",\"review_length\",\"review_length\",\"review_length\",\"review_length\",\"review_length\",\"review_length\",\"review_length\",\"review_length\",\"review_length\",\"review_length\",\"review_length\",\"review_length\",\"review_length\",\"review_length\",\"review_length\",\"review_length\",\"review_length\",\"review_length\",\"review_length\",\"review_length\",\"review_length\",\"review_length\",\"review_length\",\"review_length\",\"review_length\",\"review_length\",\"review_length\",\"review_length\",\"review_length\",\"review_length\",\"review_length\",\"review_length\",\"review_length\",\"review_length\",\"review_length\",\"review_length\",\"review_length\",\"review_length\",\"review_length\",\"review_length\",\"review_length\",\"review_length\",\"review_length\",\"review_length\",\"review_length\",\"review_length\",\"review_length\",\"review_length\",\"review_length\",\"review_length\",\"review_length\",\"review_length\",\"review_length\",\"review_length\",\"review_length\",\"review_length\",\"review_length\",\"review_length\",\"review_length\",\"review_length\",\"review_length\",\"review_length\",\"review_length\",\"review_length\",\"review_length\",\"review_length\",\"review_length\",\"review_length\",\"review_length\",\"review_length\",\"review_length\",\"review_length\",\"review_length\",\"review_length\",\"review_length\",\"review_length\",\"review_length\",\"review_length\",\"review_length\",\"review_length\",\"review_length\",\"review_length\",\"review_length\",\"review_length\",\"review_length\",\"review_length\",\"review_length\",\"review_length\",\"review_length\",\"review_length\",\"review_length\",\"review_length\",\"review_length\",\"review_length\",\"review_length\",\"review_length\",\"review_length\",\"review_length\",\"review_length\",\"review_length\",\"review_length\",\"review_length\",\"review_length\",\"review_length\",\"review_length\",\"review_length\",\"review_length\",\"review_length\",\"review_length\",\"review_length\",\"review_length\",\"review_length\",\"review_length\",\"review_length\",\"review_length\",\"review_length\",\"review_length\",\"review_length\",\"review_length\",\"review_length\",\"review_length\",\"review_length\",\"review_length\",\"review_length\",\"review_length\",\"review_length\",\"review_length\",\"review_length\",\"review_length\",\"review_length\",\"review_length\",\"review_length\",\"review_length\",\"review_length\",\"review_length\",\"review_length\",\"review_length\",\"review_length\",\"review_length\",\"review_length\",\"review_length\",\"review_length\",\"review_length\",\"review_length\",\"review_length\",\"review_length\",\"review_length\",\"review_length\",\"review_length\",\"review_length\",\"review_length\",\"review_length\",\"review_length\",\"review_length\",\"review_length\",\"review_length\",\"review_length\",\"review_length\",\"review_length\",\"review_length\",\"review_length\",\"review_length\",\"review_length\",\"review_length\",\"review_length\",\"review_length\",\"review_length\",\"review_length\",\"review_length\",\"review_length\",\"review_length\",\"review_length\",\"review_length\",\"review_length\",\"review_length\",\"review_length\",\"review_length\",\"review_length\",\"review_length\",\"review_length\",\"review_length\",\"review_length\",\"review_length\",\"review_length\",\"review_length\",\"review_length\",\"review_length\",\"review_length\",\"review_length\",\"review_length\",\"review_length\",\"review_length\",\"review_length\",\"review_length\",\"review_length\",\"review_length\",\"review_length\",\"review_length\",\"review_length\",\"review_length\",\"review_length\",\"review_length\",\"review_length\",\"review_length\",\"review_length\",\"review_length\",\"review_length\",\"review_length\",\"review_length\",\"review_length\",\"review_length\",\"review_length\",\"review_length\",\"review_length\",\"review_length\",\"review_length\",\"review_length\",\"review_length\",\"review_length\",\"review_length\",\"review_length\",\"review_length\",\"review_length\",\"review_length\",\"review_length\",\"review_length\",\"review_length\",\"review_length\",\"review_length\",\"review_length\",\"review_length\",\"review_length\",\"review_length\",\"review_length\",\"review_length\",\"review_length\",\"review_length\",\"review_length\",\"review_length\",\"review_length\",\"review_length\",\"review_length\",\"review_length\",\"review_length\",\"review_length\",\"review_length\",\"review_length\",\"review_length\",\"review_length\",\"review_length\",\"review_length\",\"review_length\",\"review_length\",\"review_length\",\"review_length\",\"review_length\",\"review_length\",\"review_length\",\"review_length\",\"review_length\",\"review_length\",\"review_length\",\"review_length\",\"review_length\",\"review_length\",\"review_length\",\"review_length\",\"review_length\",\"review_length\",\"review_length\",\"review_length\",\"review_length\",\"review_length\",\"review_length\",\"review_length\",\"review_length\",\"review_length\",\"review_length\",\"review_length\",\"review_length\",\"review_length\",\"review_length\",\"review_length\",\"review_length\",\"review_length\",\"review_length\",\"review_length\",\"review_length\",\"review_length\",\"review_length\",\"review_length\",\"review_length\",\"review_length\",\"review_length\",\"review_length\",\"review_length\",\"review_length\",\"review_length\",\"review_length\",\"review_length\",\"review_length\",\"review_length\",\"review_length\",\"review_length\",\"review_length\",\"review_length\",\"review_length\",\"review_length\",\"review_length\",\"review_length\",\"review_length\",\"review_length\",\"review_length\",\"review_length\",\"review_length\",\"review_length\",\"review_length\",\"review_length\",\"review_length\",\"review_length\",\"review_length\",\"review_length\",\"review_length\",\"review_length\",\"review_length\",\"review_length\",\"review_length\",\"review_length\",\"review_length\",\"review_length\",\"review_length\",\"review_length\",\"review_length\",\"review_length\",\"review_length\",\"review_length\",\"review_length\",\"review_length\",\"review_length\",\"review_length\",\"review_length\",\"review_length\",\"review_length\",\"review_length\",\"review_length\",\"review_length\",\"review_length\",\"review_length\",\"review_length\",\"review_length\",\"review_length\",\"review_length\",\"review_length\",\"review_length\",\"review_length\",\"review_length\",\"review_length\",\"review_length\",\"review_length\",\"review_length\",\"review_length\",\"review_length\",\"review_length\",\"review_length\",\"review_length\",\"review_length\",\"review_length\",\"review_length\",\"review_length\",\"review_length\",\"review_length\",\"review_length\",\"review_length\",\"review_length\",\"review_length\",\"review_length\",\"review_length\",\"review_length\",\"review_length\",\"review_length\",\"review_length\",\"review_length\",\"review_length\",\"review_length\",\"review_length\",\"review_length\",\"review_length\",\"review_length\",\"review_length\",\"review_length\",\"review_length\",\"review_length\",\"review_length\",\"review_length\",\"review_length\",\"review_length\",\"review_length\",\"review_length\",\"review_length\",\"review_length\",\"review_length\",\"review_length\",\"review_length\",\"review_length\",\"review_length\",\"review_length\",\"review_length\",\"review_length\",\"review_length\",\"review_length\",\"review_length\",\"review_length\",\"review_length\",\"review_length\",\"review_length\",\"review_length\",\"review_length\",\"review_length\",\"review_length\",\"review_length\",\"review_length\",\"review_length\",\"review_length\",\"review_length\",\"review_length\",\"review_length\",\"review_length\",\"review_length\",\"review_length\",\"review_length\",\"review_length\",\"review_length\",\"review_length\",\"review_length\",\"review_length\",\"review_length\",\"review_length\",\"review_length\",\"review_length\",\"review_length\",\"review_length\",\"review_length\",\"review_length\",\"review_length\",\"review_length\",\"review_length\",\"review_length\",\"review_length\",\"review_length\",\"review_length\",\"review_length\",\"review_length\",\"review_length\",\"review_length\",\"review_length\",\"review_length\",\"review_length\",\"review_length\",\"review_length\",\"review_length\",\"review_length\",\"review_length\",\"review_length\",\"review_length\",\"review_length\",\"review_length\",\"review_length\",\"review_length\",\"review_length\",\"review_length\",\"review_length\",\"review_length\",\"review_length\",\"review_length\",\"review_length\",\"review_length\",\"review_length\",\"review_length\",\"review_length\",\"review_length\",\"review_length\",\"review_length\",\"review_length\",\"review_length\",\"review_length\",\"review_length\",\"review_length\",\"review_length\",\"review_length\",\"review_length\",\"review_length\",\"review_length\",\"review_length\",\"review_length\",\"review_length\",\"review_length\",\"review_length\",\"review_length\",\"review_length\",\"review_length\",\"review_length\",\"review_length\",\"review_length\",\"review_length\",\"review_length\",\"review_length\",\"review_length\",\"review_length\",\"review_length\",\"review_length\",\"review_length\",\"review_length\",\"review_length\",\"review_length\",\"review_length\",\"review_length\",\"review_length\",\"review_length\",\"review_length\",\"review_length\",\"review_length\",\"review_length\",\"review_length\",\"review_length\",\"review_length\",\"review_length\",\"review_length\",\"review_length\",\"review_length\",\"review_length\",\"review_length\",\"review_length\",\"review_length\",\"review_length\",\"review_length\",\"review_length\",\"review_length\",\"review_length\",\"review_length\",\"review_length\",\"review_length\",\"review_length\",\"review_length\",\"review_length\",\"review_length\",\"review_length\",\"review_length\",\"review_length\",\"review_length\",\"review_length\",\"review_length\",\"review_length\",\"review_length\",\"review_length\",\"review_length\",\"review_length\",\"review_length\",\"review_length\",\"review_length\",\"review_length\",\"review_length\",\"review_length\",\"review_length\",\"review_length\",\"review_length\",\"review_length\",\"review_length\",\"review_length\",\"review_length\",\"review_length\",\"review_length\",\"review_length\",\"review_length\",\"review_length\",\"review_length\",\"review_length\",\"review_length\",\"review_length\",\"review_length\",\"review_length\",\"review_length\",\"review_length\",\"review_length\",\"review_length\",\"review_length\",\"review_length\",\"review_length\",\"review_length\",\"review_length\",\"review_length\",\"review_length\",\"review_length\",\"review_length\",\"review_length\",\"review_length\",\"review_length\",\"review_length\",\"review_length\",\"review_length\",\"review_length\",\"review_length\",\"review_length\",\"review_length\",\"review_length\",\"review_length\",\"review_length\",\"review_length\",\"review_length\",\"review_length\",\"review_length\",\"review_length\",\"review_length\",\"review_length\",\"review_length\",\"review_length\",\"review_length\",\"review_length\",\"review_length\",\"review_length\",\"review_length\",\"review_length\",\"review_length\",\"review_length\",\"review_length\",\"review_length\",\"review_length\",\"review_length\",\"review_length\",\"review_length\",\"review_length\",\"review_length\",\"review_length\",\"review_length\",\"review_length\",\"review_length\",\"review_length\",\"review_length\",\"review_length\",\"review_length\",\"review_length\",\"review_length\",\"review_length\",\"review_length\",\"review_length\",\"review_length\",\"review_length\",\"review_length\",\"review_length\",\"review_length\",\"review_length\",\"review_length\",\"review_length\",\"review_length\",\"review_length\",\"review_length\",\"review_length\",\"review_length\",\"review_length\",\"review_length\",\"review_length\",\"review_length\",\"review_length\",\"review_length\",\"review_length\",\"review_length\",\"review_length\",\"review_length\",\"review_length\",\"review_length\",\"review_length\",\"review_length\",\"review_length\",\"review_length\",\"review_length\",\"review_length\",\"review_length\",\"review_length\",\"review_length\",\"review_length\",\"review_length\",\"review_length\",\"review_length\",\"review_length\",\"review_length\",\"review_length\",\"review_length\",\"review_length\",\"review_length\",\"review_length\",\"review_length\",\"review_length\",\"review_length\",\"review_length\",\"review_length\",\"review_length\",\"review_length\",\"review_length\",\"review_length\",\"review_length\",\"review_length\",\"review_length\",\"review_length\",\"review_length\",\"review_length\",\"review_length\",\"review_length\",\"review_length\",\"review_length\",\"review_length\",\"review_length\",\"review_length\",\"review_length\",\"review_length\",\"review_length\",\"review_length\",\"review_length\",\"review_length\",\"review_length\",\"review_length\",\"review_length\",\"review_length\",\"review_length\",\"review_length\",\"review_length\",\"review_length\",\"review_length\",\"review_length\",\"review_length\",\"review_length\",\"review_length\",\"review_length\",\"review_length\",\"review_length\",\"review_length\",\"review_length\",\"review_length\",\"review_length\",\"review_length\",\"review_length\",\"review_length\",\"review_length\",\"review_length\",\"review_length\",\"review_length\",\"review_length\",\"review_length\",\"review_length\",\"review_length\",\"review_length\",\"review_length\",\"review_length\",\"review_length\",\"review_length\",\"review_length\",\"review_length\",\"review_length\",\"review_length\",\"review_length\",\"review_length\",\"review_length\",\"review_length\",\"review_length\",\"review_length\",\"review_length\",\"review_length\",\"review_length\",\"review_length\",\"review_length\",\"review_length\",\"review_length\",\"review_length\",\"review_length\",\"review_length\",\"review_length\",\"review_length\",\"review_length\",\"review_length\",\"review_length\",\"review_length\",\"review_length\",\"review_length\",\"review_length\",\"review_length\",\"review_length\",\"review_length\",\"review_length\",\"review_length\",\"review_length\",\"review_length\",\"review_length\",\"review_length\",\"review_length\",\"review_length\",\"review_length\",\"review_length\",\"review_length\",\"review_length\",\"review_length\",\"review_length\",\"review_length\",\"review_length\",\"review_length\",\"review_length\",\"review_length\",\"review_length\",\"review_length\",\"review_length\",\"review_length\",\"review_length\",\"review_length\",\"review_length\",\"review_length\",\"review_length\",\"review_length\",\"review_length\",\"review_length\",\"review_length\",\"review_length\",\"review_length\",\"review_length\",\"review_length\",\"review_length\",\"review_length\",\"review_length\",\"review_length\",\"review_length\",\"review_length\",\"review_length\",\"review_length\",\"review_length\",\"review_length\",\"review_length\",\"review_length\",\"review_length\",\"review_length\",\"review_length\",\"review_length\",\"review_length\",\"review_length\",\"review_length\",\"review_length\",\"review_length\",\"review_length\",\"review_length\",\"review_length\",\"review_length\",\"review_length\",\"review_length\",\"review_length\",\"review_length\",\"review_length\",\"review_length\",\"review_length\",\"review_length\",\"review_length\",\"review_length\",\"review_length\",\"review_length\",\"review_length\",\"review_length\",\"review_length\",\"review_length\",\"review_length\",\"review_length\",\"review_length\",\"review_length\",\"review_length\",\"review_length\",\"review_length\",\"review_length\",\"review_length\",\"review_length\",\"review_length\",\"review_length\",\"review_length\",\"review_length\",\"review_length\",\"review_length\",\"review_length\",\"review_length\",\"review_length\",\"review_length\",\"review_length\",\"review_length\",\"review_length\",\"review_length\",\"review_length\",\"review_length\",\"review_length\",\"review_length\",\"review_length\",\"review_length\",\"review_length\",\"review_length\",\"review_length\",\"review_length\",\"review_length\",\"review_length\",\"review_length\",\"review_length\",\"review_length\",\"review_length\",\"review_length\",\"review_length\",\"review_length\",\"review_length\",\"review_length\",\"review_length\",\"review_length\",\"review_length\",\"review_length\",\"review_length\",\"review_length\",\"review_length\",\"review_length\",\"review_length\",\"review_length\",\"review_length\",\"review_length\",\"review_length\",\"review_length\",\"review_length\",\"review_length\",\"review_length\",\"review_length\",\"review_length\",\"review_length\",\"review_length\",\"review_length\",\"review_length\",\"review_length\",\"review_length\",\"review_length\",\"review_length\",\"review_length\",\"review_length\",\"review_length\",\"review_length\",\"review_length\",\"review_length\",\"review_length\",\"review_length\",\"review_length\",\"review_length\",\"review_length\",\"review_length\",\"review_length\",\"review_length\",\"review_length\",\"review_length\",\"review_length\",\"review_length\",\"review_length\",\"review_length\",\"review_length\",\"review_length\",\"review_length\",\"review_length\",\"review_length\",\"review_length\",\"review_length\",\"review_length\",\"review_length\",\"review_length\",\"review_length\",\"review_length\",\"review_length\",\"review_length\",\"review_length\",\"review_length\",\"review_length\",\"review_length\",\"review_length\",\"review_length\",\"review_length\",\"review_length\",\"review_length\",\"review_length\",\"review_length\",\"review_length\",\"review_length\",\"review_length\",\"review_length\",\"review_length\",\"review_length\",\"review_length\",\"review_length\",\"review_length\",\"review_length\",\"review_length\",\"review_length\",\"review_length\",\"review_length\",\"review_length\",\"review_length\",\"review_length\",\"review_length\",\"review_length\",\"review_length\",\"review_length\",\"review_length\",\"review_length\",\"review_length\",\"review_length\",\"review_length\",\"review_length\",\"review_length\",\"review_length\",\"review_length\",\"review_length\",\"review_length\",\"review_length\",\"review_length\",\"review_length\",\"review_length\",\"review_length\",\"review_length\",\"review_length\",\"review_length\",\"review_length\",\"review_length\",\"review_length\",\"review_length\",\"review_length\",\"review_length\",\"review_length\",\"review_length\",\"review_length\",\"review_length\",\"review_length\",\"review_length\",\"review_length\",\"review_length\",\"review_length\",\"review_length\",\"review_length\",\"review_length\",\"review_length\",\"review_length\",\"review_length\",\"review_length\",\"review_length\",\"review_length\",\"review_length\",\"review_length\",\"review_length\",\"review_length\",\"review_length\",\"review_length\",\"review_length\",\"review_length\",\"review_length\",\"review_length\",\"review_length\",\"review_length\",\"review_length\",\"review_length\",\"review_length\",\"review_length\",\"review_length\",\"review_length\",\"review_length\",\"review_length\",\"review_length\",\"review_length\",\"review_length\",\"review_length\",\"review_length\",\"review_length\",\"review_length\",\"review_length\",\"review_length\",\"review_length\",\"review_length\",\"review_length\",\"review_length\",\"review_length\",\"review_length\",\"review_length\",\"review_length\",\"review_length\",\"review_length\",\"review_length\",\"review_length\",\"review_length\",\"review_length\",\"review_length\",\"review_length\",\"review_length\",\"review_length\",\"review_length\",\"review_length\",\"review_length\",\"review_length\",\"review_length\",\"review_length\",\"review_length\",\"review_length\",\"review_length\",\"review_length\",\"review_length\",\"review_length\",\"review_length\",\"review_length\",\"review_length\",\"review_length\",\"review_length\",\"review_length\",\"review_length\",\"review_length\",\"review_length\",\"review_length\",\"review_length\",\"review_length\",\"review_length\",\"review_length\",\"review_length\",\"review_length\",\"review_length\",\"review_length\",\"review_length\",\"review_length\",\"review_length\",\"review_length\",\"review_length\",\"review_length\",\"review_length\",\"review_length\",\"review_length\",\"review_length\",\"review_length\",\"review_length\",\"review_length\",\"review_length\",\"review_length\",\"review_length\",\"review_length\",\"review_length\",\"review_length\",\"review_length\",\"review_length\",\"review_length\",\"review_length\",\"review_length\",\"review_length\",\"review_length\",\"review_length\",\"review_length\",\"review_length\",\"review_length\",\"review_length\",\"review_length\",\"review_length\",\"review_length\",\"review_length\",\"review_length\",\"review_length\",\"review_length\",\"review_length\",\"review_length\",\"review_length\",\"review_length\",\"review_length\",\"review_length\",\"review_length\",\"review_length\",\"review_length\",\"review_length\",\"review_length\",\"review_length\",\"review_length\",\"review_length\",\"review_length\",\"review_length\",\"review_length\",\"review_length\",\"review_length\",\"review_length\",\"review_length\",\"review_length\",\"review_length\",\"review_length\",\"review_length\",\"review_length\",\"review_length\",\"review_length\",\"review_length\",\"review_length\",\"review_length\",\"review_length\",\"review_length\",\"review_length\",\"review_length\",\"review_length\",\"review_length\",\"review_length\",\"review_length\",\"review_length\",\"review_length\",\"review_length\",\"review_length\",\"review_length\",\"review_length\",\"review_length\",\"review_length\",\"review_length\",\"review_length\",\"review_length\",\"review_length\",\"review_length\",\"review_length\",\"review_length\",\"review_length\",\"review_length\",\"review_length\",\"review_length\",\"review_length\",\"review_length\",\"review_length\",\"review_length\",\"review_length\",\"review_length\",\"review_length\",\"review_length\",\"review_length\",\"review_length\",\"review_length\",\"review_length\",\"review_length\",\"review_length\",\"review_length\",\"review_length\",\"review_length\",\"review_length\",\"review_length\",\"review_length\",\"review_length\",\"review_length\",\"review_length\",\"review_length\",\"review_length\",\"review_length\",\"review_length\",\"review_length\",\"review_length\",\"review_length\",\"review_length\",\"review_length\",\"review_length\",\"review_length\",\"review_length\",\"review_length\",\"review_length\",\"review_length\",\"review_length\",\"review_length\",\"review_length\",\"review_length\",\"review_length\",\"review_length\",\"review_length\",\"review_length\",\"review_length\",\"review_length\",\"review_length\",\"review_length\",\"review_length\",\"review_length\",\"review_length\",\"review_length\",\"review_length\",\"review_length\",\"review_length\",\"review_length\",\"review_length\",\"review_length\",\"review_length\",\"review_length\",\"review_length\",\"review_length\",\"review_length\",\"review_length\",\"review_length\",\"review_length\",\"review_length\",\"review_length\",\"review_length\",\"review_length\",\"review_length\",\"review_length\",\"review_length\",\"review_length\",\"review_length\",\"review_length\",\"review_length\",\"review_length\",\"review_length\",\"review_length\",\"review_length\",\"review_length\",\"review_length\",\"review_length\",\"review_length\",\"review_length\",\"review_length\",\"review_length\",\"review_length\",\"review_length\",\"review_length\",\"review_length\",\"review_length\",\"review_length\",\"review_length\",\"review_length\",\"review_length\",\"review_length\",\"review_length\",\"review_length\",\"review_length\",\"review_length\",\"review_length\",\"review_length\",\"review_length\",\"review_length\",\"review_length\",\"review_length\",\"review_length\",\"review_length\",\"review_length\",\"review_length\",\"review_length\",\"review_length\",\"review_length\",\"review_length\",\"review_length\",\"review_length\",\"review_length\",\"review_length\",\"review_length\",\"review_length\",\"review_length\",\"review_length\",\"review_length\",\"review_length\",\"review_length\",\"review_length\",\"review_length\",\"review_length\",\"review_length\",\"review_length\",\"review_length\",\"review_length\",\"review_length\",\"review_length\",\"review_length\",\"review_length\",\"review_length\",\"review_length\",\"review_length\",\"review_length\",\"review_length\",\"review_length\",\"review_length\",\"review_length\",\"review_length\",\"review_length\",\"review_length\",\"review_length\",\"review_length\",\"review_length\",\"review_length\",\"review_length\",\"review_length\",\"review_length\",\"review_length\",\"review_length\",\"review_length\",\"review_length\",\"review_length\",\"review_length\",\"review_length\",\"review_length\",\"review_length\",\"review_length\",\"review_length\",\"review_length\",\"review_length\",\"review_length\",\"review_length\",\"review_length\",\"review_length\",\"review_length\",\"review_length\",\"review_length\",\"review_length\",\"review_length\",\"review_length\",\"review_length\",\"review_length\",\"review_length\",\"review_length\",\"review_length\",\"review_length\",\"review_length\",\"review_length\",\"review_length\",\"review_length\",\"review_length\",\"review_length\",\"review_length\",\"review_length\",\"review_length\",\"review_length\",\"review_length\",\"review_length\",\"review_length\",\"review_length\",\"review_length\",\"review_length\",\"review_length\",\"review_length\",\"review_length\",\"review_length\",\"review_length\",\"review_length\",\"review_length\",\"review_length\",\"review_length\",\"review_length\",\"review_length\",\"review_length\",\"review_length\",\"review_length\",\"review_length\",\"review_length\",\"review_length\",\"review_length\",\"review_length\",\"review_length\",\"review_length\",\"review_length\",\"review_length\",\"review_length\",\"review_length\",\"review_length\",\"review_length\",\"review_length\",\"review_length\",\"review_length\",\"review_length\",\"review_length\",\"review_length\",\"review_length\",\"review_length\",\"review_length\",\"review_length\",\"review_length\",\"review_length\",\"review_length\",\"review_length\",\"review_length\",\"review_length\",\"review_length\",\"review_length\",\"review_length\",\"review_length\",\"review_length\",\"review_length\",\"review_length\",\"review_length\",\"review_length\",\"review_length\",\"review_length\",\"review_length\",\"review_length\",\"review_length\",\"review_length\",\"review_length\",\"review_length\",\"review_length\",\"review_length\",\"review_length\",\"review_length\",\"review_length\",\"review_length\",\"review_length\",\"review_length\",\"review_length\",\"review_length\",\"review_length\",\"review_length\",\"review_length\",\"review_length\",\"review_length\",\"review_length\",\"review_length\",\"review_length\",\"review_length\",\"review_length\",\"review_length\",\"review_length\",\"review_length\",\"review_length\",\"review_length\",\"review_length\",\"review_length\",\"review_length\",\"review_length\",\"review_length\",\"review_length\",\"review_length\",\"review_length\",\"review_length\",\"review_length\",\"review_length\",\"review_length\",\"review_length\",\"review_length\",\"review_length\",\"review_length\",\"review_length\",\"review_length\",\"review_length\",\"review_length\",\"review_length\",\"review_length\",\"review_length\",\"review_length\",\"review_length\",\"review_length\",\"review_length\",\"review_length\",\"review_length\",\"review_length\",\"review_length\",\"review_length\",\"review_length\",\"review_length\",\"review_length\",\"review_length\",\"review_length\",\"review_length\",\"review_length\",\"review_length\",\"review_length\",\"review_length\",\"review_length\",\"review_length\",\"review_length\",\"review_length\",\"review_length\",\"review_length\",\"review_length\",\"review_length\",\"review_length\",\"review_length\",\"review_length\",\"review_length\",\"review_length\",\"review_length\",\"review_length\",\"review_length\",\"review_length\",\"review_length\",\"review_length\",\"review_length\",\"review_length\",\"review_length\",\"review_length\",\"review_length\",\"review_length\",\"review_length\",\"review_length\",\"review_length\",\"review_length\",\"review_length\",\"review_length\",\"review_length\",\"review_length\",\"review_length\",\"review_length\",\"review_length\",\"review_length\",\"review_length\",\"review_length\",\"review_length\",\"review_length\",\"review_length\",\"review_length\",\"review_length\",\"review_length\",\"review_length\",\"review_length\",\"review_length\",\"review_length\",\"review_length\",\"review_length\",\"review_length\",\"review_length\",\"review_length\",\"review_length\",\"review_length\",\"review_length\",\"review_length\",\"review_length\",\"review_length\",\"review_length\",\"review_length\",\"review_length\",\"review_length\",\"review_length\",\"review_length\",\"review_length\",\"review_length\",\"review_length\",\"review_length\",\"review_length\",\"review_length\",\"review_length\",\"review_length\",\"review_length\",\"review_length\",\"review_length\",\"review_length\",\"review_length\",\"review_length\",\"review_length\",\"review_length\",\"review_length\",\"review_length\",\"review_length\",\"review_length\",\"review_length\",\"review_length\",\"review_length\",\"review_length\",\"review_length\",\"review_length\",\"review_length\",\"review_length\",\"review_length\",\"review_length\",\"review_length\",\"review_length\",\"review_length\",\"review_length\",\"review_length\",\"review_length\",\"review_length\",\"review_length\",\"review_length\",\"review_length\",\"review_length\",\"review_length\",\"review_length\",\"review_length\",\"review_length\",\"review_length\",\"review_length\",\"review_length\",\"review_length\",\"review_length\",\"review_length\",\"review_length\",\"review_length\",\"review_length\",\"review_length\",\"review_length\",\"review_length\",\"review_length\",\"review_length\",\"review_length\",\"review_length\",\"review_length\",\"review_length\",\"review_length\",\"review_length\",\"review_length\",\"review_length\",\"review_length\",\"review_length\",\"review_length\",\"review_length\",\"review_length\",\"review_length\",\"review_length\",\"review_length\",\"review_length\",\"review_length\",\"review_length\",\"review_length\",\"review_length\",\"review_length\",\"review_length\",\"review_length\",\"review_length\",\"review_length\",\"review_length\",\"review_length\",\"review_length\",\"review_length\",\"review_length\",\"review_length\",\"review_length\",\"review_length\",\"review_length\",\"review_length\",\"review_length\",\"review_length\",\"review_length\",\"review_length\",\"review_length\",\"review_length\",\"review_length\",\"review_length\",\"review_length\",\"review_length\",\"review_length\",\"review_length\",\"review_length\",\"review_length\",\"review_length\",\"review_length\",\"review_length\",\"review_length\",\"review_length\",\"review_length\",\"review_length\",\"review_length\",\"review_length\",\"review_length\",\"review_length\",\"review_length\",\"review_length\",\"review_length\",\"review_length\",\"review_length\",\"review_length\",\"review_length\",\"review_length\",\"review_length\",\"review_length\",\"review_length\",\"review_length\",\"review_length\",\"review_length\",\"review_length\",\"review_length\",\"review_length\",\"review_length\",\"review_length\",\"review_length\",\"review_length\",\"review_length\",\"review_length\",\"review_length\",\"review_length\",\"review_length\",\"review_length\",\"review_length\",\"review_length\",\"review_length\",\"review_length\",\"review_length\",\"review_length\",\"review_length\",\"review_length\",\"review_length\",\"review_length\",\"review_length\",\"review_length\",\"review_length\",\"review_length\",\"review_length\",\"review_length\",\"review_length\",\"review_length\",\"review_length\",\"review_length\",\"review_length\",\"review_length\",\"review_length\",\"review_length\",\"review_length\",\"review_length\",\"review_length\",\"review_length\",\"review_length\",\"review_length\",\"review_length\",\"review_length\",\"review_length\",\"review_length\",\"review_length\",\"review_length\",\"review_length\",\"review_length\",\"review_length\",\"review_length\",\"review_length\",\"review_length\",\"review_length\",\"review_length\",\"review_length\",\"review_length\",\"review_length\",\"review_length\",\"review_length\",\"review_length\",\"review_length\",\"review_length\",\"review_length\",\"review_length\",\"review_length\",\"review_length\",\"review_length\",\"review_length\",\"review_length\",\"review_length\",\"review_length\",\"review_length\",\"review_length\",\"review_length\",\"review_length\",\"review_length\",\"review_length\",\"review_length\",\"review_length\",\"review_length\",\"review_length\",\"review_length\",\"review_length\",\"review_length\",\"review_length\",\"review_length\",\"review_length\",\"review_length\",\"review_length\",\"review_length\",\"review_length\",\"review_length\",\"review_length\",\"review_length\",\"review_length\",\"review_length\",\"review_length\",\"review_length\",\"review_length\",\"review_length\",\"review_length\",\"review_length\",\"review_length\",\"review_length\",\"review_length\",\"review_length\",\"review_length\",\"review_length\",\"review_length\",\"review_length\",\"review_length\",\"review_length\",\"review_length\",\"review_length\",\"review_length\",\"review_length\",\"review_length\",\"review_length\",\"review_length\",\"review_length\",\"review_length\",\"review_length\",\"review_length\",\"review_length\",\"review_length\",\"review_length\",\"review_length\",\"review_length\",\"review_length\",\"review_length\",\"review_length\",\"review_length\",\"review_length\",\"review_length\",\"review_length\",\"review_length\",\"review_length\",\"review_length\",\"review_length\",\"review_length\",\"review_length\",\"review_length\",\"review_length\",\"review_length\",\"review_length\",\"review_length\",\"review_length\",\"review_length\",\"review_length\",\"review_length\",\"review_length\",\"review_length\",\"review_length\",\"review_length\",\"review_length\",\"review_length\",\"review_length\",\"review_length\",\"review_length\",\"review_length\",\"review_length\",\"review_length\",\"review_length\",\"review_length\",\"review_length\",\"review_length\",\"review_length\",\"review_length\",\"review_length\",\"review_length\",\"review_length\",\"review_length\",\"review_length\",\"review_length\",\"review_length\",\"review_length\",\"review_length\",\"review_length\",\"review_length\",\"review_length\",\"review_length\",\"review_length\",\"review_length\",\"review_length\",\"review_length\",\"review_length\",\"review_length\",\"review_length\",\"review_length\",\"review_length\",\"review_length\",\"review_length\",\"review_length\",\"review_length\",\"review_length\",\"review_length\",\"review_length\",\"review_length\",\"review_length\",\"review_length\",\"review_length\",\"review_length\",\"review_length\",\"review_length\",\"review_length\",\"review_length\",\"review_length\",\"review_length\",\"review_length\",\"review_length\",\"review_length\",\"review_length\",\"review_length\",\"review_length\",\"review_length\",\"review_length\",\"review_length\",\"review_length\",\"review_length\",\"review_length\",\"review_length\",\"review_length\",\"review_length\",\"review_length\",\"review_length\",\"review_length\",\"review_length\",\"review_length\",\"review_length\",\"review_length\",\"review_length\",\"review_length\",\"review_length\",\"review_length\",\"review_length\",\"review_length\",\"review_length\",\"review_length\",\"review_length\",\"review_length\",\"review_length\",\"review_length\",\"review_length\",\"review_length\",\"review_length\",\"review_length\",\"review_length\",\"review_length\",\"review_length\",\"review_length\",\"review_length\",\"review_length\",\"review_length\",\"review_length\",\"review_length\",\"review_length\",\"review_length\",\"review_length\",\"review_length\",\"review_length\",\"review_length\",\"review_length\",\"review_length\",\"review_length\",\"review_length\",\"review_length\",\"review_length\",\"review_length\",\"review_length\",\"review_length\",\"review_length\",\"review_length\",\"review_length\",\"review_length\",\"review_length\",\"review_length\",\"review_length\",\"review_length\",\"review_length\",\"review_length\",\"review_length\",\"review_length\",\"review_length\",\"review_length\",\"review_length\",\"review_length\",\"review_length\",\"review_length\",\"review_length\",\"review_length\",\"review_length\",\"review_length\",\"review_length\",\"review_length\",\"review_length\",\"review_length\",\"review_length\",\"review_length\",\"review_length\",\"review_length\",\"review_length\",\"review_length\",\"review_length\",\"review_length\",\"review_length\",\"review_length\",\"review_length\",\"review_length\",\"review_length\",\"review_length\",\"review_length\",\"review_length\",\"review_length\",\"review_length\",\"review_length\",\"review_length\",\"review_length\",\"review_length\",\"review_length\",\"review_length\",\"review_length\",\"review_length\",\"review_length\",\"review_length\",\"review_length\",\"review_length\",\"review_length\",\"review_length\",\"review_length\",\"review_length\",\"review_length\",\"review_length\",\"review_length\",\"review_length\",\"review_length\",\"review_length\",\"review_length\",\"review_length\",\"review_length\",\"review_length\",\"review_length\",\"review_length\",\"review_length\",\"review_length\",\"review_length\",\"review_length\",\"review_length\",\"review_length\",\"review_length\",\"review_length\",\"review_length\",\"review_length\",\"review_length\",\"review_length\",\"review_length\",\"review_length\",\"review_length\",\"review_length\",\"review_length\",\"review_length\",\"review_length\",\"review_length\",\"review_length\",\"review_length\",\"review_length\",\"review_length\",\"review_length\",\"review_length\",\"review_length\",\"review_length\",\"review_length\",\"review_length\",\"review_length\",\"review_length\",\"review_length\",\"review_length\",\"review_length\",\"review_length\",\"review_length\",\"review_length\",\"review_length\",\"review_length\",\"review_length\",\"review_length\",\"review_length\",\"review_length\",\"review_length\",\"review_length\",\"review_length\",\"review_length\",\"review_length\",\"review_length\",\"review_length\",\"review_length\",\"review_length\",\"review_length\",\"review_length\",\"review_length\",\"review_length\",\"review_length\",\"review_length\",\"review_length\",\"review_length\",\"review_length\",\"review_length\",\"review_length\",\"review_length\",\"review_length\",\"review_length\",\"review_length\",\"review_length\",\"review_length\",\"review_length\",\"review_length\",\"review_length\",\"review_length\",\"review_length\",\"review_length\",\"review_length\",\"review_length\",\"review_length\",\"review_length\",\"review_length\",\"review_length\",\"review_length\",\"review_length\",\"review_length\",\"review_length\",\"review_length\",\"review_length\",\"review_length\",\"review_length\",\"review_length\",\"review_length\",\"review_length\",\"review_length\",\"review_length\",\"review_length\",\"review_length\",\"review_length\",\"review_length\",\"review_length\",\"review_length\",\"review_length\",\"review_length\",\"review_length\",\"review_length\",\"review_length\",\"review_length\",\"review_length\",\"review_length\",\"review_length\",\"review_length\",\"review_length\",\"review_length\",\"review_length\",\"review_length\",\"review_length\",\"review_length\",\"review_length\",\"review_length\",\"review_length\",\"review_length\",\"review_length\",\"review_length\",\"review_length\",\"review_length\",\"review_length\",\"review_length\",\"review_length\",\"review_length\",\"review_length\",\"review_length\",\"review_length\",\"review_length\",\"review_length\",\"review_length\",\"review_length\",\"review_length\",\"review_length\",\"review_length\",\"review_length\",\"review_length\",\"review_length\",\"review_length\",\"review_length\",\"review_length\",\"review_length\",\"review_length\",\"review_length\",\"review_length\",\"review_length\",\"review_length\",\"review_length\",\"review_length\",\"review_length\",\"review_length\",\"review_length\",\"review_length\",\"review_length\",\"review_length\",\"review_length\",\"review_length\",\"review_length\",\"review_length\",\"review_length\",\"review_length\",\"review_length\",\"review_length\",\"review_length\",\"review_length\",\"review_length\",\"review_length\",\"review_length\",\"review_length\",\"review_length\",\"review_length\",\"review_length\",\"review_length\",\"review_length\",\"review_length\",\"review_length\",\"review_length\",\"review_length\",\"review_length\",\"review_length\",\"review_length\",\"review_length\",\"review_length\",\"review_length\",\"review_length\",\"review_length\",\"review_length\",\"review_length\",\"review_length\",\"review_length\",\"review_length\",\"review_length\",\"review_length\",\"review_length\",\"review_length\",\"review_length\",\"review_length\",\"review_length\",\"review_length\",\"review_length\",\"review_length\",\"review_length\",\"review_length\",\"review_length\",\"review_length\",\"review_length\",\"review_length\",\"review_length\",\"review_length\",\"review_length\",\"review_length\",\"review_length\",\"review_length\",\"review_length\",\"review_length\",\"review_length\",\"review_length\",\"review_length\",\"review_length\",\"review_length\",\"review_length\",\"review_length\",\"review_length\",\"review_length\",\"review_length\",\"review_length\",\"review_length\",\"review_length\",\"review_length\",\"review_length\",\"review_length\",\"review_length\",\"review_length\",\"review_length\",\"review_length\",\"review_length\",\"review_length\",\"review_length\",\"review_length\",\"review_length\",\"review_length\",\"review_length\",\"review_length\",\"review_length\",\"review_length\",\"review_length\",\"review_length\",\"review_length\",\"review_length\",\"review_length\",\"review_length\",\"review_length\",\"review_length\",\"review_length\",\"review_length\",\"review_length\",\"review_length\",\"review_length\",\"review_length\",\"review_length\",\"review_length\",\"review_length\",\"review_length\",\"review_length\",\"review_length\",\"review_length\",\"review_length\",\"review_length\",\"review_length\",\"review_length\",\"review_length\",\"review_length\",\"review_length\",\"review_length\",\"review_length\",\"review_length\",\"review_length\",\"review_length\",\"review_length\",\"review_length\",\"review_length\",\"review_length\",\"review_length\",\"review_length\",\"review_length\",\"review_length\",\"review_length\",\"review_length\",\"review_length\",\"review_length\",\"review_length\",\"review_length\",\"review_length\",\"review_length\",\"review_length\",\"review_length\",\"review_length\",\"review_length\",\"review_length\",\"review_length\",\"review_length\",\"review_length\",\"review_length\",\"review_length\",\"review_length\",\"review_length\",\"review_length\",\"review_length\",\"review_length\",\"review_length\",\"review_length\",\"review_length\",\"review_length\",\"review_length\",\"review_length\",\"review_length\",\"review_length\",\"review_length\",\"review_length\",\"review_length\",\"review_length\",\"review_length\",\"review_length\",\"review_length\",\"review_length\",\"review_length\",\"review_length\",\"review_length\",\"review_length\",\"review_length\",\"review_length\",\"review_length\",\"review_length\",\"review_length\",\"review_length\",\"review_length\",\"review_length\",\"review_length\",\"review_length\",\"review_length\",\"review_length\",\"review_length\",\"review_length\",\"review_length\",\"review_length\",\"review_length\",\"review_length\",\"review_length\",\"review_length\",\"review_length\",\"review_length\",\"review_length\",\"review_length\",\"review_length\",\"review_length\",\"review_length\",\"review_length\",\"review_length\",\"review_length\",\"review_length\",\"review_length\",\"review_length\",\"review_length\",\"review_length\",\"review_length\",\"review_length\",\"review_length\",\"review_length\",\"review_length\",\"review_length\",\"review_length\",\"review_length\",\"review_length\",\"review_length\",\"review_length\",\"review_length\",\"review_length\",\"review_length\",\"review_length\",\"review_length\",\"review_length\",\"review_length\",\"review_length\",\"review_length\",\"review_length\",\"review_length\",\"review_length\",\"review_length\",\"review_length\",\"review_length\",\"review_length\",\"review_length\",\"review_length\",\"review_length\",\"review_length\",\"review_length\",\"review_length\",\"review_length\",\"review_length\",\"review_length\",\"review_length\",\"review_length\",\"review_length\",\"review_length\",\"review_length\",\"review_length\",\"review_length\",\"review_length\",\"review_length\",\"review_length\",\"review_length\",\"review_length\",\"review_length\",\"review_length\",\"review_length\",\"review_length\",\"review_length\",\"review_length\",\"review_length\",\"review_length\",\"review_length\",\"review_length\",\"review_length\",\"review_length\",\"review_length\",\"review_length\",\"review_length\",\"review_length\",\"review_length\",\"review_length\",\"review_length\",\"review_length\",\"review_length\",\"review_length\",\"review_length\",\"review_length\",\"review_length\",\"review_length\",\"review_length\",\"review_length\",\"review_length\",\"review_length\",\"review_length\",\"review_length\",\"review_length\",\"review_length\",\"review_length\",\"review_length\",\"review_length\",\"review_length\",\"review_length\",\"review_length\",\"review_length\",\"review_length\",\"review_length\",\"review_length\",\"review_length\",\"review_length\",\"review_length\",\"review_length\",\"review_length\",\"review_length\",\"review_length\",\"review_length\",\"review_length\",\"review_length\",\"review_length\",\"review_length\",\"review_length\",\"review_length\",\"review_length\",\"review_length\",\"review_length\",\"review_length\",\"review_length\",\"review_length\",\"review_length\",\"review_length\",\"review_length\",\"review_length\",\"review_length\",\"review_length\",\"review_length\",\"review_length\",\"review_length\",\"review_length\",\"review_length\",\"review_length\",\"review_length\",\"review_length\",\"review_length\",\"review_length\",\"review_length\",\"review_length\",\"review_length\",\"review_length\",\"review_length\",\"review_length\",\"review_length\",\"review_length\",\"review_length\",\"review_length\",\"review_length\",\"review_length\",\"review_length\",\"review_length\",\"review_length\",\"review_length\",\"review_length\",\"review_length\",\"review_length\",\"review_length\",\"review_length\",\"review_length\",\"review_length\",\"review_length\",\"review_length\",\"review_length\",\"review_length\",\"review_length\",\"review_length\",\"review_length\",\"review_length\",\"review_length\",\"review_length\",\"review_length\",\"review_length\",\"review_length\",\"review_length\",\"review_length\",\"review_length\",\"review_length\",\"review_length\",\"review_length\",\"review_length\",\"review_length\",\"review_length\",\"review_length\",\"review_length\",\"review_length\",\"review_length\",\"review_length\",\"review_length\",\"review_length\",\"review_length\",\"review_length\",\"review_length\",\"review_length\",\"review_length\",\"review_length\",\"review_length\",\"review_length\",\"review_length\",\"review_length\",\"review_length\",\"review_length\",\"review_length\",\"review_length\",\"review_length\",\"review_length\",\"review_length\",\"review_length\",\"review_length\",\"review_length\",\"review_length\",\"review_length\",\"review_length\",\"review_length\",\"review_length\",\"review_length\",\"review_length\",\"review_length\",\"review_length\",\"review_length\",\"review_length\",\"review_length\",\"review_length\",\"review_length\",\"review_length\",\"review_length\",\"review_length\",\"review_length\",\"review_length\",\"review_length\",\"review_length\",\"review_length\",\"review_length\",\"review_length\",\"review_length\",\"review_length\",\"review_length\",\"review_length\",\"review_length\",\"review_length\",\"review_length\",\"review_length\",\"review_length\",\"review_length\",\"review_length\",\"review_length\",\"review_length\",\"review_length\",\"review_length\",\"review_length\",\"review_length\",\"review_length\",\"review_length\",\"review_length\",\"review_length\",\"review_length\",\"review_length\",\"review_length\",\"review_length\",\"review_length\",\"review_length\",\"review_length\",\"review_length\",\"review_length\",\"review_length\",\"review_length\",\"review_length\",\"review_length\",\"review_length\",\"review_length\",\"review_length\",\"review_length\",\"review_length\",\"review_length\",\"review_length\",\"review_length\",\"review_length\",\"review_length\",\"review_length\",\"review_length\",\"review_length\",\"review_length\",\"review_length\",\"review_length\",\"review_length\",\"review_length\",\"review_length\",\"review_length\",\"review_length\",\"review_length\",\"review_length\",\"review_length\",\"review_length\",\"review_length\",\"review_length\",\"review_length\",\"review_length\",\"review_length\",\"review_length\",\"review_length\",\"review_length\",\"review_length\",\"review_length\",\"review_length\",\"review_length\",\"review_length\",\"review_length\",\"review_length\",\"review_length\",\"review_length\",\"review_length\",\"review_length\",\"review_length\",\"review_length\",\"review_length\",\"review_length\",\"review_length\",\"review_length\",\"review_length\",\"review_length\",\"review_length\",\"review_length\",\"review_length\",\"review_length\",\"review_length\",\"review_length\",\"review_length\",\"review_length\",\"review_length\",\"review_length\",\"review_length\",\"review_length\",\"review_length\",\"review_length\",\"review_length\",\"review_length\",\"review_length\",\"review_length\",\"review_length\",\"review_length\",\"review_length\",\"review_length\",\"review_length\",\"review_length\",\"review_length\",\"review_length\",\"review_length\",\"review_length\",\"review_length\",\"review_length\",\"review_length\",\"review_length\",\"review_length\",\"review_length\",\"review_length\",\"review_length\",\"review_length\",\"review_length\",\"review_length\",\"review_length\",\"review_length\",\"review_length\",\"review_length\",\"review_length\",\"review_length\",\"review_length\",\"review_length\",\"review_length\",\"review_length\",\"review_length\",\"review_length\",\"review_length\",\"review_length\",\"review_length\",\"review_length\",\"review_length\",\"review_length\",\"review_length\",\"review_length\",\"review_length\",\"review_length\",\"review_length\",\"review_length\",\"review_length\",\"review_length\",\"review_length\",\"review_length\",\"review_length\",\"review_length\",\"review_length\",\"review_length\",\"review_length\",\"review_length\",\"review_length\",\"review_length\",\"review_length\",\"review_length\",\"review_length\",\"review_length\",\"review_length\",\"review_length\",\"review_length\",\"review_length\",\"review_length\",\"review_length\",\"review_length\",\"review_length\",\"review_length\",\"review_length\",\"review_length\",\"review_length\",\"review_length\",\"review_length\",\"review_length\",\"review_length\",\"review_length\",\"review_length\",\"review_length\",\"review_length\",\"review_length\",\"review_length\",\"review_length\",\"review_length\",\"review_length\",\"review_length\",\"review_length\",\"review_length\",\"review_length\",\"review_length\",\"review_length\",\"review_length\",\"review_length\",\"review_length\",\"review_length\",\"review_length\",\"review_length\",\"review_length\",\"review_length\",\"review_length\",\"review_length\",\"review_length\",\"review_length\",\"review_length\",\"review_length\",\"review_length\",\"review_length\",\"review_length\",\"review_length\",\"review_length\",\"review_length\",\"review_length\",\"review_length\",\"review_length\",\"review_length\",\"review_length\",\"review_length\",\"review_length\",\"review_length\",\"review_length\",\"review_length\",\"review_length\",\"review_length\",\"review_length\",\"review_length\",\"review_length\",\"review_length\",\"review_length\",\"review_length\",\"review_length\",\"review_length\",\"review_length\",\"review_length\",\"review_length\",\"review_length\",\"review_length\",\"review_length\",\"review_length\",\"review_length\",\"review_length\",\"review_length\",\"review_length\",\"review_length\",\"review_length\",\"review_length\",\"review_length\",\"review_length\",\"review_length\",\"review_length\",\"review_length\",\"review_length\",\"review_length\",\"review_length\",\"review_length\",\"review_length\",\"review_length\",\"review_length\",\"review_length\",\"review_length\",\"review_length\",\"review_length\",\"review_length\",\"review_length\",\"review_length\",\"review_length\",\"review_length\",\"review_length\",\"review_length\",\"review_length\",\"review_length\",\"review_length\",\"review_length\",\"review_length\",\"review_length\",\"review_length\",\"review_length\",\"review_length\",\"review_length\",\"review_length\",\"review_length\",\"review_length\",\"review_length\",\"review_length\",\"review_length\",\"review_length\",\"review_length\",\"review_length\",\"review_length\",\"review_length\",\"review_length\",\"review_length\",\"review_length\",\"review_length\",\"review_length\",\"review_length\",\"review_length\",\"review_length\",\"review_length\",\"review_length\",\"review_length\",\"review_length\",\"review_length\",\"review_length\",\"review_length\",\"review_length\",\"review_length\",\"review_length\",\"review_length\",\"review_length\",\"review_length\",\"review_length\",\"review_length\",\"review_length\",\"review_length\",\"review_length\",\"review_length\",\"review_length\",\"review_length\",\"review_length\",\"review_length\",\"review_length\",\"review_length\",\"review_length\",\"review_length\",\"review_length\",\"review_length\",\"review_length\",\"review_length\",\"review_length\",\"review_length\",\"review_length\",\"review_length\",\"review_length\",\"review_length\",\"review_length\",\"review_length\",\"review_length\",\"review_length\",\"review_length\",\"review_length\",\"review_length\",\"review_length\",\"review_length\",\"review_length\",\"review_length\",\"review_length\",\"review_length\",\"review_length\",\"review_length\",\"review_length\",\"review_length\",\"review_length\",\"review_length\",\"review_length\",\"review_length\",\"review_length\",\"review_length\",\"review_length\",\"review_length\",\"review_length\",\"review_length\",\"review_length\",\"review_length\",\"review_length\",\"review_length\",\"review_length\",\"review_length\",\"review_length\",\"review_length\",\"review_length\",\"review_length\",\"review_length\",\"review_length\",\"review_length\",\"review_length\",\"review_length\",\"review_length\",\"review_length\",\"review_length\",\"review_length\",\"review_length\",\"review_length\",\"review_length\",\"review_length\",\"review_length\",\"review_length\",\"review_length\",\"review_length\",\"review_length\",\"review_length\",\"review_length\",\"review_length\",\"review_length\",\"review_length\",\"review_length\",\"review_length\",\"review_length\",\"review_length\",\"review_length\",\"review_length\",\"review_length\",\"review_length\",\"review_length\",\"review_length\",\"review_length\",\"review_length\",\"review_length\",\"review_length\",\"review_length\",\"review_length\",\"review_length\",\"review_length\",\"review_length\",\"review_length\",\"review_length\",\"review_length\",\"review_length\",\"review_length\",\"review_length\",\"review_length\",\"review_length\",\"review_length\",\"review_length\",\"review_length\",\"review_length\",\"review_length\",\"review_length\",\"review_length\",\"review_length\",\"review_length\",\"review_length\",\"review_length\",\"review_length\",\"review_length\",\"review_length\",\"review_length\",\"review_length\",\"review_length\",\"review_length\",\"review_length\",\"review_length\",\"review_length\",\"review_length\",\"review_length\",\"review_length\",\"review_length\",\"review_length\",\"review_length\",\"review_length\",\"review_length\",\"review_length\",\"review_length\",\"review_length\",\"review_length\",\"review_length\",\"review_length\",\"review_length\",\"review_length\",\"review_length\",\"review_length\",\"review_length\",\"review_length\",\"review_length\",\"review_length\",\"review_length\",\"review_length\",\"review_length\",\"review_length\",\"review_length\",\"review_length\",\"review_length\",\"review_length\",\"review_length\",\"review_length\",\"review_length\",\"review_length\",\"review_length\",\"review_length\",\"review_length\",\"review_length\",\"review_length\",\"review_length\",\"review_length\",\"review_length\",\"review_length\",\"review_length\",\"review_length\",\"review_length\",\"review_length\",\"review_length\",\"review_length\",\"review_length\",\"review_length\",\"review_length\",\"review_length\",\"review_length\",\"review_length\",\"review_length\",\"review_length\",\"review_length\",\"review_length\",\"review_length\",\"review_length\",\"review_length\",\"review_length\",\"review_length\",\"review_length\",\"review_length\",\"review_length\",\"review_length\",\"review_length\",\"review_length\",\"review_length\",\"review_length\",\"review_length\",\"review_length\",\"review_length\",\"review_length\",\"review_length\",\"review_length\",\"review_length\",\"review_length\",\"review_length\",\"review_length\",\"review_length\",\"review_length\",\"review_length\",\"review_length\",\"review_length\",\"review_length\",\"review_length\",\"review_length\",\"review_length\",\"review_length\",\"review_length\",\"review_length\",\"review_length\",\"review_length\",\"review_length\",\"review_length\",\"review_length\",\"review_length\",\"review_length\",\"review_length\",\"review_length\",\"review_length\",\"review_length\",\"review_length\",\"review_length\",\"review_length\",\"review_length\",\"review_length\",\"review_length\",\"review_length\",\"review_length\",\"review_length\",\"review_length\",\"review_length\",\"review_length\",\"review_length\",\"review_length\",\"review_length\",\"review_length\",\"review_length\",\"review_length\",\"review_length\",\"review_length\",\"review_length\",\"review_length\",\"review_length\",\"review_length\",\"review_length\",\"review_length\",\"review_length\",\"review_length\",\"review_length\",\"review_length\",\"review_length\",\"review_length\",\"review_length\",\"review_length\",\"review_length\",\"review_length\",\"review_length\",\"review_length\",\"review_length\",\"review_length\",\"review_length\",\"review_length\",\"review_length\",\"review_length\",\"review_length\",\"review_length\",\"review_length\",\"review_length\",\"review_length\",\"review_length\",\"review_length\",\"review_length\",\"review_length\",\"review_length\",\"review_length\",\"review_length\",\"review_length\",\"review_length\",\"review_length\",\"review_length\",\"review_length\",\"review_length\",\"review_length\",\"review_length\",\"review_length\",\"review_length\",\"review_length\",\"review_length\",\"review_length\",\"review_length\",\"review_length\",\"review_length\",\"review_length\",\"review_length\",\"review_length\",\"review_length\",\"review_length\",\"review_length\",\"review_length\",\"review_length\",\"review_length\",\"review_length\",\"review_length\",\"review_length\",\"review_length\",\"review_length\",\"review_length\",\"review_length\",\"review_length\",\"review_length\",\"review_length\",\"review_length\",\"review_length\",\"review_length\",\"review_length\",\"review_length\",\"review_length\",\"review_length\",\"review_length\",\"review_length\",\"review_length\",\"review_length\",\"review_length\",\"review_length\",\"review_length\",\"review_length\",\"review_length\",\"review_length\",\"review_length\",\"review_length\",\"review_length\",\"review_length\",\"review_length\",\"review_length\",\"review_length\",\"review_length\",\"review_length\",\"review_length\",\"review_length\",\"review_length\",\"review_length\",\"review_length\",\"review_length\",\"review_length\",\"review_length\",\"review_length\",\"review_length\",\"review_length\",\"review_length\",\"review_length\",\"review_length\",\"review_length\",\"review_length\",\"review_length\",\"review_length\",\"review_length\",\"review_length\",\"review_length\",\"review_length\",\"review_length\",\"review_length\",\"review_length\",\"review_length\",\"review_length\",\"review_length\",\"review_length\",\"review_length\",\"review_length\",\"review_length\",\"review_length\",\"review_length\",\"review_length\",\"review_length\",\"review_length\",\"review_length\",\"review_length\",\"review_length\",\"review_length\",\"review_length\",\"review_length\",\"review_length\",\"review_length\",\"review_length\",\"review_length\",\"review_length\",\"review_length\",\"review_length\",\"review_length\",\"review_length\",\"review_length\",\"review_length\",\"review_length\",\"review_length\",\"review_length\",\"review_length\",\"review_length\",\"review_length\",\"review_length\",\"review_length\",\"review_length\",\"review_length\",\"review_length\",\"review_length\",\"review_length\",\"review_length\",\"review_length\",\"review_length\",\"review_length\",\"review_length\",\"review_length\",\"review_length\",\"review_length\",\"review_length\",\"review_length\",\"review_length\",\"review_length\",\"review_length\",\"review_length\",\"review_length\",\"review_length\",\"review_length\",\"review_length\",\"review_length\",\"review_length\",\"review_length\",\"review_length\",\"review_length\",\"review_length\",\"review_length\",\"review_length\",\"review_length\",\"review_length\",\"review_length\",\"review_length\",\"review_length\",\"review_length\",\"review_length\",\"review_length\",\"review_length\",\"review_length\",\"review_length\",\"review_length\",\"review_length\",\"review_length\",\"review_length\",\"review_length\",\"review_length\",\"review_length\",\"review_length\",\"review_length\",\"review_length\",\"review_length\",\"review_length\",\"review_length\",\"review_length\",\"review_length\",\"review_length\",\"review_length\",\"review_length\",\"review_length\",\"review_length\",\"review_length\",\"review_length\",\"review_length\",\"review_length\",\"review_length\",\"review_length\",\"review_length\",\"review_length\",\"review_length\",\"review_length\",\"review_length\",\"review_length\",\"review_length\",\"review_length\",\"review_length\",\"review_length\",\"review_length\",\"review_length\",\"review_length\",\"review_length\",\"review_length\",\"review_length\",\"review_length\",\"review_length\",\"review_length\",\"review_length\",\"review_length\",\"review_length\",\"review_length\",\"review_length\",\"review_length\",\"review_length\",\"review_length\",\"review_length\",\"review_length\",\"review_length\",\"review_length\",\"review_length\",\"review_length\",\"review_length\",\"review_length\",\"review_length\",\"review_length\",\"review_length\",\"review_length\",\"review_length\",\"review_length\",\"review_length\",\"review_length\",\"review_length\",\"review_length\",\"review_length\",\"review_length\",\"review_length\",\"review_length\",\"review_length\",\"review_length\",\"review_length\",\"review_length\",\"review_length\",\"review_length\",\"review_length\",\"review_length\",\"review_length\",\"review_length\",\"review_length\",\"review_length\",\"review_length\",\"review_length\",\"review_length\",\"review_length\",\"review_length\",\"review_length\",\"review_length\",\"review_length\",\"review_length\",\"review_length\",\"review_length\",\"review_length\",\"review_length\",\"review_length\",\"review_length\",\"review_length\",\"review_length\",\"review_length\",\"review_length\",\"review_length\",\"review_length\",\"review_length\",\"review_length\",\"review_length\",\"review_length\",\"review_length\",\"review_length\",\"review_length\",\"review_length\",\"review_length\",\"review_length\",\"review_length\",\"review_length\",\"review_length\",\"review_length\",\"review_length\",\"review_length\",\"review_length\",\"review_length\",\"review_length\",\"review_length\",\"review_length\",\"review_length\",\"review_length\",\"review_length\",\"review_length\",\"review_length\",\"review_length\",\"review_length\",\"review_length\",\"review_length\",\"review_length\",\"review_length\",\"review_length\",\"review_length\",\"review_length\",\"review_length\",\"review_length\",\"review_length\",\"review_length\",\"review_length\",\"review_length\",\"review_length\",\"review_length\",\"review_length\",\"review_length\",\"review_length\",\"review_length\",\"review_length\",\"review_length\",\"review_length\",\"review_length\",\"review_length\",\"review_length\",\"review_length\",\"review_length\",\"review_length\",\"review_length\",\"review_length\",\"review_length\",\"review_length\",\"review_length\",\"review_length\",\"review_length\",\"review_length\",\"review_length\",\"review_length\",\"review_length\",\"review_length\",\"review_length\",\"review_length\",\"review_length\",\"review_length\",\"review_length\",\"review_length\",\"review_length\",\"review_length\",\"review_length\",\"review_length\",\"review_length\",\"review_length\",\"review_length\",\"review_length\",\"review_length\",\"review_length\",\"review_length\",\"review_length\",\"review_length\",\"review_length\",\"review_length\",\"review_length\",\"review_length\",\"review_length\",\"review_length\",\"review_length\",\"review_length\",\"review_length\",\"review_length\",\"review_length\",\"review_length\",\"review_length\",\"review_length\",\"review_length\",\"review_length\",\"review_length\",\"review_length\",\"review_length\",\"review_length\",\"review_length\",\"review_length\",\"review_length\",\"review_length\",\"review_length\",\"review_length\",\"review_length\",\"review_length\",\"review_length\",\"review_length\",\"review_length\",\"review_length\",\"review_length\",\"review_length\",\"review_length\",\"review_length\",\"review_length\",\"review_length\",\"review_length\",\"review_length\",\"review_length\",\"review_length\",\"review_length\",\"review_length\",\"review_length\",\"review_length\",\"review_length\",\"review_length\",\"review_length\",\"review_length\",\"review_length\",\"review_length\",\"review_length\",\"review_length\",\"review_length\",\"review_length\",\"review_length\",\"review_length\",\"review_length\",\"review_length\",\"review_length\",\"review_length\",\"review_length\",\"review_length\",\"review_length\",\"review_length\",\"review_length\",\"review_length\",\"review_length\",\"review_length\",\"review_length\",\"review_length\",\"review_length\",\"review_length\",\"review_length\",\"review_length\",\"review_length\",\"review_length\",\"review_length\",\"review_length\",\"review_length\",\"review_length\",\"review_length\",\"review_length\",\"review_length\",\"review_length\",\"review_length\",\"review_length\",\"review_length\",\"review_length\",\"review_length\",\"review_length\",\"review_length\",\"review_length\",\"review_length\",\"review_length\",\"review_length\",\"review_length\",\"review_length\",\"review_length\",\"review_length\",\"review_length\",\"review_length\",\"review_length\",\"review_length\",\"review_length\",\"review_length\",\"review_length\",\"review_length\",\"review_length\",\"review_length\",\"review_length\",\"review_length\",\"review_length\",\"review_length\",\"review_length\",\"review_length\",\"review_length\",\"review_length\",\"review_length\",\"review_length\",\"review_length\",\"review_length\",\"review_length\",\"review_length\",\"review_length\",\"review_length\",\"review_length\",\"review_length\",\"review_length\",\"review_length\",\"review_length\",\"review_length\",\"review_length\",\"review_length\",\"review_length\",\"review_length\",\"review_length\",\"review_length\",\"review_length\",\"review_length\",\"review_length\",\"review_length\",\"review_length\",\"review_length\",\"review_length\",\"review_length\",\"review_length\",\"review_length\",\"review_length\",\"review_length\",\"review_length\",\"review_length\",\"review_length\",\"review_length\",\"review_length\",\"review_length\",\"review_length\",\"review_length\",\"review_length\",\"review_length\",\"review_length\",\"review_length\",\"review_length\",\"review_length\",\"review_length\",\"review_length\",\"review_length\",\"review_length\",\"review_length\",\"review_length\",\"review_length\",\"review_length\",\"review_length\",\"review_length\",\"review_length\",\"review_length\",\"review_length\",\"review_length\",\"review_length\",\"review_length\",\"review_length\",\"review_length\",\"review_length\",\"review_length\",\"review_length\",\"review_length\",\"review_length\",\"review_length\",\"review_length\",\"review_length\",\"review_length\",\"review_length\",\"review_length\",\"review_length\",\"review_length\",\"review_length\",\"review_length\",\"review_length\",\"review_length\",\"review_length\",\"review_length\",\"review_length\",\"review_length\",\"review_length\",\"review_length\",\"review_length\",\"review_length\",\"review_length\",\"review_length\",\"review_length\",\"review_length\",\"review_length\",\"review_length\",\"review_length\",\"review_length\",\"review_length\",\"review_length\",\"review_length\",\"review_length\",\"review_length\",\"review_length\",\"review_length\",\"review_length\",\"review_length\",\"review_length\",\"review_length\",\"review_length\",\"review_length\",\"review_length\",\"review_length\",\"review_length\",\"review_length\",\"review_length\",\"review_length\",\"review_length\",\"review_length\",\"review_length\",\"review_length\",\"review_length\",\"review_length\",\"review_length\",\"review_length\",\"review_length\",\"review_length\",\"review_length\",\"review_length\",\"review_length\",\"review_length\",\"review_length\",\"review_length\",\"review_length\",\"review_length\",\"review_length\",\"review_length\",\"review_length\",\"review_length\",\"review_length\",\"review_length\",\"review_length\",\"review_length\",\"review_length\",\"review_length\",\"review_length\",\"review_length\",\"review_length\",\"review_length\",\"review_length\",\"review_length\",\"review_length\",\"review_length\",\"review_length\",\"review_length\",\"review_length\",\"review_length\",\"review_length\",\"review_length\",\"review_length\",\"review_length\",\"review_length\",\"review_length\",\"review_length\",\"review_length\",\"review_length\",\"review_length\",\"review_length\",\"review_length\",\"review_length\",\"review_length\",\"review_length\",\"review_length\",\"review_length\",\"review_length\",\"review_length\",\"review_length\",\"review_length\",\"review_length\",\"review_length\",\"review_length\",\"review_length\",\"review_length\",\"review_length\",\"review_length\",\"review_length\",\"review_length\",\"review_length\",\"review_length\",\"review_length\",\"review_length\",\"review_length\",\"review_length\",\"review_length\",\"review_length\",\"review_length\",\"review_length\",\"review_length\",\"review_length\",\"review_length\",\"review_length\",\"review_length\",\"review_length\",\"review_length\",\"review_length\",\"review_length\",\"review_length\",\"review_length\",\"review_length\",\"review_length\",\"review_length\",\"review_length\",\"review_length\",\"review_length\",\"review_length\",\"review_length\",\"review_length\",\"review_length\",\"review_length\",\"review_length\",\"review_length\",\"review_length\",\"review_length\",\"review_length\",\"review_length\",\"review_length\",\"review_length\",\"review_length\",\"review_length\",\"review_length\",\"review_length\",\"review_length\",\"review_length\",\"review_length\",\"review_length\",\"review_length\",\"review_length\",\"review_length\",\"review_length\",\"review_length\",\"review_length\",\"review_length\",\"review_length\",\"review_length\",\"review_length\",\"review_length\",\"review_length\",\"review_length\",\"review_length\",\"review_length\",\"review_length\",\"review_length\",\"review_length\",\"review_length\",\"review_length\",\"review_length\",\"review_length\",\"review_length\",\"review_length\",\"review_length\",\"review_length\",\"review_length\",\"review_length\",\"review_length\",\"review_length\",\"review_length\",\"review_length\",\"review_length\",\"review_length\",\"review_length\",\"review_length\",\"review_length\",\"review_length\",\"review_length\",\"review_length\",\"review_length\",\"review_length\",\"review_length\",\"review_length\",\"review_length\",\"review_length\",\"review_length\",\"review_length\",\"review_length\",\"review_length\",\"review_length\",\"review_length\",\"review_length\",\"review_length\",\"review_length\",\"review_length\",\"review_length\",\"review_length\",\"review_length\",\"review_length\",\"review_length\",\"review_length\",\"review_length\",\"review_length\",\"review_length\",\"review_length\",\"review_length\",\"review_length\",\"review_length\",\"review_length\",\"review_length\",\"review_length\",\"review_length\",\"review_length\",\"review_length\",\"review_length\",\"review_length\",\"review_length\",\"review_length\",\"review_length\",\"review_length\",\"review_length\",\"review_length\",\"review_length\",\"review_length\",\"review_length\",\"review_length\",\"review_length\",\"review_length\",\"review_length\",\"review_length\",\"review_length\",\"review_length\",\"review_length\",\"review_length\",\"review_length\",\"review_length\",\"review_length\",\"review_length\",\"review_length\",\"review_length\",\"review_length\",\"review_length\",\"review_length\",\"review_length\",\"review_length\",\"review_length\",\"review_length\",\"review_length\",\"review_length\",\"review_length\",\"review_length\"],\"x0\":\" \",\"xaxis\":\"x\",\"y\":[110,98,110,78,581,50,111,130,52,69,110,210,266,219,69,24,45,164,194,275,57,699,488,28,122,58,152,197,91,34,166,38,1127,192,168,95,97,71,79,50,103,43,162,77,133,56,23,185,83,74,84,67,385,12,90,38,215,142,91,157,84,1292,220,454,105,366,187,438,379,93,88,85,98,44,158,177,24,102,72,110,118,42,110,17,455,100,143,190,51,74,1161,54,108,163,104,165,86,96,216,281,521,84,56,77,102,134,39,274,87,293,256,10,416,260,72,67,447,94,72,268,446,269,70,88,8,142,853,123,218,92,293,36,191,118,105,76,126,216,237,177,75,184,88,118,74,111,209,434,95,56,42,533,108,120,75,70,49,53,99,31,24,110,55,549,94,145,255,55,123,73,163,309,118,117,177,208,16,159,103,107,480,38,19,46,537,74,101,66,57,22,462,243,98,23,97,133,69,249,119,92,25,762,81,52,38,29,209,401,136,71,31,62,146,55,131,47,106,27,109,242,833,363,23,222,131,385,58,408,164,109,43,233,58,13,23,284,91,99,34,394,31,75,30,165,85,180,91,401,184,114,236,101,108,162,162,63,266,44,25,179,123,196,103,40,58,28,77,465,343,88,63,234,377,76,59,86,84,19,185,39,458,53,40,76,121,159,52,140,293,24,146,377,248,88,160,408,47,27,54,60,118,30,243,103,205,32,496,24,327,51,35,81,59,973,81,104,366,25,221,134,124,50,177,23,533,93,84,226,41,188,95,107,145,142,185,706,379,322,99,93,85,35,265,159,139,138,26,200,174,630,225,101,190,72,98,50,33,58,75,299,239,23,231,112,101,3393,208,25,113,133,231,105,118,195,489,32,132,124,274,22,182,95,472,121,251,58,390,65,160,1524,103,234,392,11,178,70,282,55,35,174,470,252,59,99,43,2184,156,304,165,238,649,135,166,39,274,258,91,34,127,82,119,117,894,34,106,23,158,124,182,104,12,95,25,96,90,436,323,111,247,323,125,114,148,142,172,179,70,239,27,132,114,170,256,27,71,201,191,76,56,244,591,395,10,110,429,287,204,90,533,92,29,91,253,63,37,82,143,105,58,184,288,52,69,63,146,183,239,134,211,32,101,97,356,95,135,104,207,65,606,90,160,41,42,63,145,97,12,247,167,68,300,115,188,126,1126,113,57,162,973,248,69,266,78,45,197,191,570,102,158,120,79,189,141,79,354,519,186,60,130,43,56,68,62,57,56,615,162,109,446,91,341,189,123,42,71,46,58,100,587,92,139,36,309,134,85,99,111,334,116,53,99,723,288,382,308,135,159,48,181,11,82,42,70,101,222,94,291,302,250,432,363,704,130,95,216,100,156,33,122,150,105,230,230,31,301,32,44,87,58,19,121,92,53,137,78,91,325,65,194,69,121,66,147,92,80,164,39,81,31,202,113,179,163,73,180,614,55,67,237,366,93,652,673,141,112,156,235,462,120,165,186,105,144,89,157,42,236,27,269,341,366,20,131,87,85,48,177,136,166,114,23,128,39,79,115,414,234,462,241,89,96,536,548,97,21,440,447,225,110,83,58,101,87,138,416,531,140,52,43,249,99,13,102,287,103,300,104,25,293,117,96,46,80,739,232,224,254,52,29,367,95,22,149,199,61,77,108,61,120,154,296,496,156,105,166,84,65,174,281,161,32,47,387,261,39,25,57,230,106,186,55,414,555,258,145,506,121,31,38,74,85,109,153,27,150,50,199,281,134,30,1185,91,91,379,89,111,105,107,145,368,71,48,252,920,66,165,531,55,236,40,114,157,95,178,30,117,102,82,67,77,501,484,103,55,68,163,176,78,1191,40,1534,21,418,115,37,83,115,225,89,166,50,207,55,367,153,42,104,147,68,523,146,198,53,134,72,107,111,118,61,580,63,36,68,49,101,224,196,220,142,325,131,704,16,263,55,102,286,121,186,75,19,80,168,100,118,80,192,34,192,167,58,83,473,220,93,178,17,178,105,99,385,75,54,245,38,175,387,91,23,32,194,26,609,329,109,51,97,146,65,74,94,98,36,77,44,103,121,67,143,33,62,82,556,73,89,53,243,28,127,88,115,251,24,273,95,68,34,85,69,104,20,138,58,144,252,87,77,71,74,299,140,54,92,93,106,147,133,123,61,203,75,97,61,220,151,343,976,72,52,656,86,66,60,652,276,75,141,135,242,149,32,60,244,32,418,217,130,95,119,287,133,33,127,158,163,300,128,130,196,354,96,105,286,22,53,401,98,81,150,194,207,134,47,73,253,272,163,73,140,135,320,85,238,36,71,132,74,85,178,83,40,358,28,11,531,238,199,93,29,97,46,26,245,75,241,421,87,225,166,108,189,61,211,150,33,28,482,68,285,42,347,23,27,339,91,139,150,49,241,142,22,157,709,537,30,293,94,159,27,190,201,49,39,125,69,88,201,35,111,325,21,253,56,63,315,51,72,102,17,62,103,284,85,95,97,84,777,101,230,90,113,97,247,30,83,211,67,225,63,32,511,38,169,52,55,129,361,154,248,157,218,29,58,417,120,74,195,126,90,74,40,28,90,26,103,599,246,607,381,36,92,61,14,348,119,130,62,527,31,23,110,9,139,81,66,35,112,25,248,272,122,234,228,25,482,35,98,397,48,89,433,17,574,322,313,130,43,89,463,32,134,78,403,25,44,20,143,128,107,68,14,67,317,188,67,55,145,103,82,328,48,86,119,101,437,75,200,68,83,191,19,94,130,52,727,14,824,91,266,75,176,154,234,119,23,140,39,41,46,11,49,34,153,111,290,51,217,32,179,71,240,614,98,126,171,1,52,123,197,98,109,104,509,157,152,147,128,71,246,47,114,175,124,37,41,211,286,60,171,18,139,40,194,284,271,201,163,66,12,66,68,63,160,121,24,284,83,564,187,99,87,77,338,29,86,388,153,91,50,66,185,558,63,533,28,172,139,194,228,42,49,241,423,197,36,67,340,93,298,63,64,63,71,233,151,67,629,144,238,27,155,146,105,241,523,97,161,83,301,152,151,67,97,127,112,379,45,856,415,362,17,72,157,67,199,241,20,84,77,127,213,20,58,38,277,64,91,192,13,32,164,107,390,107,136,513,79,227,908,139,70,188,59,34,320,49,341,105,135,22,66,24,63,114,321,573,220,230,116,64,180,61,86,107,273,92,212,208,915,749,148,247,17,23,530,35,70,129,17,103,85,135,113,938,108,37,63,19,66,238,537,56,317,113,78,25,189,309,124,154,93,272,352,200,287,109,224,61,48,246,144,38,123,44,155,156,674,226,92,47,29,17,542,99,41,140,96,125,124,18,184,196,67,269,172,969,130,25,271,433,936,88,22,43,186,122,168,121,23,146,47,100,288,88,463,55,85,282,53,142,80,63,96,85,489,235,82,88,170,352,73,281,246,47,116,33,97,422,1155,151,554,49,77,102,95,196,198,301,206,88,72,89,801,71,113,150,467,62,51,46,292,55,161,417,33,87,62,454,97,257,951,117,90,426,184,111,138,31,144,255,4,44,249,64,150,22,317,30,144,104,46,71,408,31,67,426,410,49,244,51,90,50,200,110,46,232,70,220,201,275,43,133,52,29,62,276,90,491,119,107,170,250,173,114,106,140,303,247,111,85,59,262,57,220,191,139,17,266,29,396,48,485,187,54,138,64,95,43,132,134,30,31,63,116,68,496,76,109,363,112,55,241,399,99,191,282,104,191,748,63,181,180,80,91,196,129,236,34,197,60,180,114,221,116,161,85,93,59,415,19,74,778,163,90,65,31,78,148,495,161,208,98,73,45,185,116,88,75,76,26,201,116,70,103,334,80,144,184,349,150,32,74,331,36,32,41,250,69,141,128,108,89,47,81,182,148,62,95,475,63,555,433,177,203,89,53,52,62,121,114,121,242,237,166,434,59,149,335,299,116,102,86,131,70,266,38,63,45,134,78,40,267,410,446,33,51,166,33,33,42,107,441,94,275,194,429,240,133,66,541,94,321,60,64,99,461,48,51,111,270,319,260,55,130,105,34,234,198,197,406,672,23,244,491,72,468,75,19,57,700,66,627,58,85,173,360,174,150,81,85,534,140,18,370,256,339,74,66,112,47,281,117,76,21,363,34,35,102,27,154,69,106,26,197,232,82,205,100,46,33,148,144,338,312,215,55,41,56,479,524,96,31,111,136,143,105,30,26,82,32,231,109,103,107,796,190,37,25,125,114,22,65,188,207,79,34,22,326,102,16,100,30,328,113,117,20,68,64,198,43,62,131,116,290,530,43,349,140,329,39,47,716,442,622,62,176,716,92,21,148,502,64,90,38,219,98,182,277,165,220,163,26,56,37,117,336,77,30,548,48,85,202,60,121,71,143,1143,189,53,67,189,160,347,261,14,35,73,93,87,39,28,951,80,177,96,235,22,46,87,68,73,30,12,29,73,63,179,1004,50,68,820,66,75,44,47,76,192,86,133,181,25,61,427,11,25,89,167,295,120,37,40,105,293,91,205,35,83,230,165,40,86,69,40,150,233,269,319,182,28,377,182,170,127,124,157,225,77,383,59,19,308,641,206,132,142,197,56,178,811,61,69,56,78,332,245,42,158,130,414,138,401,116,49,181,157,92,101,49,126,128,96,61,60,160,294,64,62,626,68,61,53,108,21,161,55,536,108,182,98,326,459,45,89,60,97,272,159,156,154,94,81,99,170,59,53,19,117,82,411,128,95,52,54,58,88,272,71,55,50,881,40,11,153,442,213,167,87,210,30,261,63,96,210,65,79,130,235,116,261,73,815,102,400,351,124,40,163,50,54,459,266,386,95,53,33,38,133,476,43,64,29,236,1140,56,187,95,191,110,852,84,80,74,236,123,830,479,190,301,58,161,24,84,388,72,108,33,150,416,331,76,144,186,12,79,49,67,279,397,129,196,336,18,452,46,101,207,58,358,96,104,349,35,430,256,21,169,187,192,140,139,147,33,195,43,414,18,1000,128,297,272,167,40,245,273,404,45,61,60,94,49,7,30,136,374,58,109,218,300,45,124,234,326,154,239,166,102,178,227,111,161,159,183,67,137,446,707,399,75,436,60,57,64,115,109,222,27,115,179,92,39,185,21,89,216,71,71,86,265,126,111,64,291,252,196,90,65,154,67,68,40,263,82,34,266,76,362,67,21,128,364,67,108,74,146,71,82,23,93,49,69,127,101,79,50,114,93,95,156,72,107,1274,74,197,152,171,300,135,14,178,347,94,348,185,73,144,250,83,175,481,11,527,184,265,217,163,158,44,494,286,426,124,48,95,107,67,122,69,60,209,26,151,450,48,65,297,33,242,194,21,101,244,108,162,16,110,140,317,98,127,192,523,530,185,130,49,70,294,184,160,23,85,811,150,34,161,294,191,202,186,50,40,38,143,40,124,196,62,75,45,84,158,119,330,211,243,37,528,171,325,49,444,80,454,257,83,55,16,89,76,33,69,44,156,22,58,76,198,112,16,51,278,123,127,60,159,48,212,110,412,39,44,131,245,104,359,51,253,59,294,249,80,87,95,52,50,74,28,233,190,90,33,455,46,72,27,96,64,72,72,94,50,121,61,472,9,87,257,320,110,106,34,212,42,137,78,40,61,104,303,54,154,157,50,62,239,305,107,68,437,15,79,96,132,381,372,109,63,303,48,523,188,917,127,50,57,218,173,205,77,222,23,89,160,47,153,192,134,123,216,101,77,196,995,75,147,24,580,35,172,56,28,75,181,34,81,40,70,97,48,388,84,219,78,94,90,50,131,44,120,75,57,331,64,289,157,34,189,488,173,303,199,278,497,107,77,17,44,146,36,76,28,163,196,262,32,71,66,111,142,121,264,72,35,530,558,119,59,216,168,55,96,12,308,20,252,39,72,64,51,68,153,212,172,218,187,352,229,263,91,72,139,135,67,479,1150,190,41,94,30,392,24,66,133,190,89,18,61,138,98,101,151,281,111,69,172,191,136,641,61,120,83,82,82,58,16,42,213,106,75,232,446,264,150,122,92,491,28,149,318,122,122,59,102,61,112,276,355,92,16,126,54,41,35,214,191,66,165,151,126,72,151,80,50,254,162,25,178,109,145,118,185,47,126,203,109,108,8,219,24,47,59,332,86,9,333,49,82,157,129,75,240,254,11,189,11,34,12,35,87,19,114,24,122,84,174,39,93,39,122,791,254,96,44,101,136,122,66,25,85,95,98,471,89,147,37,169,102,181,390,133,41,250,118,41,228,43,127,113,95,181,49,83,17,31,298,133,260,258,47,781,53,198,98,166,305,55,124,88,223,401,255,58,65,23,110,20,147,63,234,290,107,153,113,87,125,29,32,79,38,154,184,128,94,605,39,14,314,92,55,121,359,51,155,21,61,149,164,86,117,66,126,519,390,90,119,73,188,16,134,68,40,422,171,170,38,124,80,139,47,84,275,386,50,29,107,51,113,68,156,123,37,81,62,107,41,52,113,23,121,98,148,75,34,477,95,95,57,41,343,964,135,249,25,65,74,34,114,79,153,18,146,91,251,54,194,210,80,66,31,34,118,64,142,147,109,90,56,18,51,179,149,370,22,225,30,40,119,30,636,111,138,255,321,60,34,97,42,141,91,18,34,257,163,140,372,1036,92,35,121,55,114,107,162,165,97,141,134,73,80,17,195,50,189,96,76,84,155,65,74,11,38,190,344,102,301,108,39,254,147,85,42,78,145,129,88,123,142,74,113,466,108,156,19,278,125,60,130,81,525,676,58,98,103,102,86,54,107,74,189,110,238,26,66,57,69,244,483,271,302,51,48,91,50,209,70,86,173,68,51,201,71,125,138,35,60,59,136,24,280,124,410,37,348,55,218,31,460,86,86,58,180,73,114,66,24,225,159,295,65,38,91,417,347,47,22,45,362,205,98,103,238,221,345,450,130,524,90,119,25,31,190,21,94,94,59,38,355,275,26,381,73,56,124,25,95,417,119,204,102,190,56,79,58,150,19,398,251,739,39,409,113,215,167,59,23,32,92,143,170,168,524,54,19,507,435,62,103,96,53,53,42,131,240,20,500,692,126,41,287,44,37,58,298,25,200,198,363,35,201,75,144,135,91,45,164,470,16,115,396,417,101,118,91,117,73,155,152,43,9,48,79,843,215,153,98,52,166,379,16,159,355,42,264,228,216,81,67,53,138,82,50,125,26,640,95,52,135,368,59,444,88,104,34,361,136,38,16,80,190,161,82,133,273,52,288,313,116,73,585,379,250,70,48,119,103,1249,82,384,27,21,42,65,76,14,290,130,94,441,222,55,166,70,87,119,105,47,266,42,430,256,331,267,92,41,91,70,41,806,60,98,148,155,15,418,314,65,354,48,502,289,180,281,139,438,39,66,206,103,50,38,94,35,92,112,109,161,133,68,28,21,58,136,455,128,81,150,183,40,27,38,212,341,264,131,241,42,39,99,13,824,550,100,30,44,16,23,54,614,262,16,444,72,278,490,158,167,129,31,84,390,155,480,680,132,90,205,144,74,76,172,200,181,243,405,111,440,177,123,42,136,45,58,418,107,92,388,52,177,451,213,69,63,206,56,40,98,137,60,202,79,115,67,770,51,99,80,67,77,165,41,496,27,43,426,42,127,70,156,666,44,211,87,45,312,338,292,47,283,393,18,26,117,121,279,92,439,545,185,42,158,105,35,27,465,42,205,198,136,52,107,91,71,197,178,261,369,271,45,25,323,71,1022,44,16,230,87,44,88,97,172,78,233,58,65,44,25,114,154,129,485,56,241,479,264,243,211,71,120,100,79,39,45,61,328,106,415,411,654,76,371,167,451,153,57,139,191,165,98,350,337,56,27,138,123,219,246,233,126,501,36,65,107,212,80,16,28,39,152,28,151,28,178,188,121,153,550,44,16,147,99,81,223,24,41,93,13,98,24,63,588,49,114,32,29,50,85,174,278,10,26,458,93,15,277,53,89,173,80,14,73,366,44,14,42,35,162,278,148,37,27,112,235,157,117,29,154,602,32,118,41,373,211,389,485,35,51,99,515,226,144,95,102,101,18,48,83,163,162,164,129,418,65,31,30,57,16,367,1313,238,102,66,51,254,86,61,106,36,384,28,902,44,65,24,92,43,134,113,371,101,607,79,68,105,350,66,17,18,366,83,119,31,14,74,42,112,67,44,115,312,96,37,361,99,53,61,32,91,33,44,52,183,311,142,257,169,82,31,52,48,82,535,110,18,11,1291,63,65,601,573,289,42,32,202,522,368,262,118,65,331,498,260,206,299,86,248,114,290,181,359,59,143,191,242,1024,119,50,29,184,140,44,145,14,25,274,276,545,244,126,127,40,19,39,134,50,74,215,45,494,28,137,40,53,22,80,130,530,198,21,314,420,167,1021,252,282,47,304,51,833,98,23,889,192,172,14,65,19,317,66,213,163,174,436,110,101,572,61,14,51,80,36,83,381,24,126,76,945,189,73,234,452,44,142,24,51,129,67,649,147,87,170,214,63,229,159,116,195,306,84,81,22,141,145,80,222,49,1464,199,275,92,740,515,263,99,67,348,16,392,51,24,96,32,303,80,318,181,129,174,594,85,60,40,25,61,63,358,134,67,132,22,29,77,150,107,16,99,65,65,109,15,730,476,267,99,945,271,43,26,513,70,356,33,26,58,175,187,175,186,316,56,94,382,161,690,87,125,246,200,30,187,1088,412,241,284,31,33,73,100,134,232,240,52,63,31,192,648,378,312,54,36,114,212,18,244,307,136,341,424,50,168,69,353,23,87,330,129,30,11,54,149,332,133,21,208,135,73,51,10,14,243,16,229,60,29,37,198,37,393,84,53,42,181,65,310,129,140,50,284,76,110,240,69,52,338,85,84,114,40,168,42,182,134,65,301,318,36,86,66,96,16,11,517,347,18,372,88,377,92,80,71,29,72,201,245,76,113,25,268,554,325,170,140,113,104,68,263,19,61,111,157,114,194,108,338,178,138,194,115,730,101,30,88,75,174,79,54,1249,143,88,17,99,97,198,80,367,29,654,24,52,100,321,111,52,72,19,102,87,68,79,82,45,84,115,37,92,180,35,241,18,59,137,66,38,31,29,141,25,86,232,168,172,134,69,59,9,151,30,19,76,56,123,256,49,54,145,57,106,24,42,53,456,57,115,92,98,126,165,16,22,97,118,95,69,59,50,202,92,154,337,130,216,78,147,258,67,64,411,33,36,308,109,187,38,64,56,14,177,29,85,22,111,92,96,91,90,98,19,262,103,93,18,30,35,79,102,228,78,44,60,178,28,94,130,92,59,72,75,20,52,42,47,148,71,126,82,125,23,97,260,125,100,760,122,90,130,47,303,155,95,300,24,21,80,234,178,157,28,56,128,24,87,44,33,60,107,39,101,72,36,260,34,52,68,227,43,17,176,56,30,97,49,129,390,226,51,27,68,118,187,104,67,46,215,196,89,143,255,119,130,188,81,98,24,141,19,76,43,47,40,142,57,8,215,142,21,34,64,60,377,94,46,26,61,446,129,135,219,74,24,5,40,151,35,148,143,109,169,99,437,226,678,266,58,598,48,71,35,48,126,152,49,141,49,177,172,112,140,31,29,72,110,92,45,99,53,69,69,200,139,23,122,65,91,54,361,128,51,94,46,229,49,173,32,10,43,18,231,52,61,64,99,41,105,196,95,137,320,144,117,56,194,17,83,134,174,53,66,164,75,111,347,68,125,116,125,113,69,146,179,78,32,33,252,217,184,169,128,85,131,52,43,138,79,70,45,88,55,145,86,525,67,54,56,44,161,67,229,95,388,54,69,244,156,135,31,42,137,34,185,127,106,49,202,32,48,108,166,25,126,30,101,118,30,20,27,71,269,285,117,152,45,178,56,109,332,131,40,75,87,71,106,252,35,78,143,70,226,151,75,38,89,60,92,25,40,57,43,123,139,84,134,271,219,564,63,383,114,94,75,22,51,296,204,68,62,21,63,146,20,102,29,56,29,156,134,98,125,174,37,51,25,95,57,35,185,94,111,98,47,105,197,196,91,150,114,70,107,87,76,7,30,64,64,79,92,172,104,17,175,119,78,45,162,71,98,16,165,115,31,97,61,160,35,194,65,73,53,97,49,40,106,243,81,124,141,41,72,272,54,85,439,124,192,34,158,24,181,81,19,199,93,296,48,66,183,42,61,245,150,31,196,73,15,126,77,78,402,95,158,43,223,148,241,106,349,122,77,114,246,28,130,24,149,92,51,124,67,76,71,64,77,22,152,54,34,102,72,136,103,64,27,82,62,39,168,83,115,312,148,97,139,36,69,58,25,89,223,141,30,69,36,168,93,96,84,473,58,139,316,42,142,91,49,24,98,32,71,372,108,75,90,41,34,95,47,87,35,73,193,66,71,88,141,538,150,152,61,254,170,63,430,106,23,346,128,526,103,65,57,140,113,46,211,198,88,144,311,152,135,61,162,85,71,48,130,95,80,112,99,58,129,69,87,125,125,163,188,108,106,44,10,138,22,51,80,41,28,31,68,113,109,97,25,88,62,178,52,52,87,110,57,40,105,100,69,61,48,119,60,71,178,183,52,46,258,88,43,42,93,53,71,68,40,174,292,163,108,60,60,57,95,91,151,76,76,46,156,55,133,277,16,179,92,35,42,66,26,96,178,107,110,293,111,117,26,47,87,102,48,140,551,78,23,300,36,39,102,88,15,347,104,128,47,142,19,17,85,25,196,51,16,33,153,189,76,93,117,139,55,177,51,60,96,136,152,100,20,74,101,85,100,103,213,151,160,155,188,55,380,49,101,18,20,67,293,35,128,42,46,19,125,51,41,185,71,125,108,144,286,174,31,98,150,38,112,81,41,33,109,38,56,73,219,87,43,64,24,16,22,37,64,19,34,349,141,33,155,123,188,36,293,92,68,200,89,168,97,42,53,10,62,923,109,105,63,94,72,707,24,103,101,74,17,105,49,124,124,107,64,142,85,135,142,125,64,60,30,46,72,118,39,137,72,82,48,82,59,56,34,19,35,76,54,250,28,88,132,72,34,20,22,347,96,444,194,22,57,68,144,26,65,20,68,25,48,101,72,94,264,22,85,159,98,71,91,23,26,420,81,105,55,136,163,42,89,118,93,105,103,22,58,129,134,44,42,161,90,82,70,115,30,118,33,56,228,186,271,13,20,47,55,78,249,123,93,101,118,220,358,72,75,50,26,161,233,108,105,34,102,211,138,51,83,42,30,113,108,142,13,308,161,55,14,505,85,60,79,55,62,92,13,118,102,23,122,32,100,119,21,68,123,94,73,50,62,64,58,21,37,15,66,61,52,48,35,15,88,46,6,53,23,11,14,41,19,87,15,46,115,21,28,143,66,46,50,68,98,597,349,115,28,94,48,119,38,272,25,294,28,13,30,266,143,104,108,58,20,24,47,78,42,70,103,45,21,35,111,20,11,27,58,14,280,19,53,347,19,37,169,126,75,263,161,42,51,480,210,26,111,13,40,95,20,32,219,97,48,101,132,21,404,15,45,118,62,40,66,43,89,453,29,107,40,19,39,19,38,18,48,104,35,54,41,250,42,266,18,14,54,34,292,35,507,109,63,127,9,38,83,78,38,26,133,48,219,66,67,81,78,153,65,55,28,41,21,277,43,125,337,20,20,45,69,125,200,16,208,298,213,38,75,40,36,132,72,201,127,115,43,47,228,162,29,188,225,122,13,248,108,29,30,120,166,366,68,35,32,17,14,16,206,155,29,124,185,348,110,19,46,83,104,310,168,52,27,27,57,163,75,125,16,48,109,36,9,87,31,54,117,52,17,227,47,70,175,208,18,42,53,248,10,61,20,81,145,239,129,160,68,116,293,67,20,46,73,231,89,18,18,38,43,475,131,270,47,223,44,18,138,93,14,180,38,38,100,43,116,61,44,51,217,76,127,185,64,308,18,85,73,123,273,61,38,289,193,69,220,36,393,571,560,26,81,50,253,38,9,56,41,131,70,591,33,43,40,46,134,22,99,50,64,45,99,99,99,41,57,205,148,67,734,176,195,106,29,40,212,420,27,31,646,278,117,198,153,175,21,65,14,19,70,73,229,18,104,21,162,433,67,49,75,71,15,19,49,57,43,183,132,19,64,216,238,563,20,376,88,52,24,52,516,33,57,57,99,22,78,136,108,58,34,60,120,44,117,148,251,52,194,35,116,80,195,123,68,21,134,148,25,15,97,97,22,24,78,106,17,39,19,140,19,55,36,44,36,83,167,39,110,116,18,45,177,559,118,239,70,81,187,56,59,56,100,112,63,32,38,63,53,74,215,25,23,76,28,85,13,73,74,470,17,70,15,58,352,60,58,205,488,24,185,58,37,48,68,14,40,29,118,504,81,391,28,36,174,1006,63,44,204,38,10,386,90,180,119,34,56,15,76,234,202,132,178,20,154,181,17,68,104,60,100,23,200,144,90,19,208,58,176,264,51,107,34,57,40,84,203,18,63,13,121,271,101,54,83,17,119,41,93,139,268,335,89,140,18,430,175,18,98,169,70,117,53,50,53,24,152,150,10,20,78,348,103,745,72,105,67,20,29,29,48,12,14,66,14,21,39,50,100,17,54,68,18,20,44,55,35,129,74,372,121,51,35,309,323,108,18,214,54,19,38,100,81,32,132,467,83,35,22,89,77,303,92,22,50,29,72,27,147,73,174,29,43,75,94,75,178,59,544,124,174,63,31,52,144,91,38,26,241,18,127,372,21,44,210,87,488,14,87,366,63,70,316,41,40,240,54,57,22,122,26,21,114,72,31,122,43,45,80,264,97,59,77,36,224,89,15,32,109,114,133,36,52,64,55,162,462,49,105,74,29,13,76,193,49,193,23,89,40,60,133,115,82,59,152,208,32,42,22,63,36,36,109,89,66,61,365,148,20,682,89,45,28,364,15,133,141,48,56,98,18,71,108,140,102,95,45,135,118,50,104,117,202,105,53,57,113,18,86,72,54,93,34,248,97,15,104,25,122,28,13,74,71,6,56,182,71,34,54,113,57,167,81,52,36,59,26,20,12,460,47,12,112,302,140,69,66,24,610,410,24,398,41,45,80,66,13,144,19,161,264,13,138,152,36,127,59,289,173,168,99,14,137,95,69,11,106,85,16,67,38,108,18,124,45,219,86,79,26,44,15,38,59,85,15,39,97,19,210,221,94,97,129,116,370,108,32,110,71,206,30,90,36,46,135,89,171,103,363,154,30,109,192,132,39,220,170,100,140,152,31,58,92,103,57,141,73,397,135,34,51,99,279,129,66,11,55,46,481,41,22,95,212,105,24,76,24,14,37,34,169,27,42,153,148,14,352,41,46,45,126,41,81,49,164,234,266,84,141,93,55,43,361,16,50,19,389,15,19,77,32,55,139,13,38,91,87,493,22,743,273,40,164,44,30,105,27,102,41,115,14,101,241,666,100,183,164,848,59,28,90,90,52,95,70,18,22,26,33,24,149,29,27,22,42,63,132,63,65,102,39,29,36,30,128,45,392,175,37,21,179,276,44,145,65,53,179,110,104,45,32,84,144,54,57,36,66,33,237,107,86,75,138,87,277,22,58,60,36,18,52,245,84,69,46,55,56,46,125,103,77,150,139,69,121,83,94,53,64,76,117,127,55,52,182,112,54,49,121,34,381,39,68,88,38,111,17,71,144,60,43,93,205,128,36,48,471,67,16,223,99,152,46,111,132,38,123,118,49,151,204,62,72,26,18,209,244,198,54,82,216,103,111,78,67,43,179,172,124,60,111,71,23,131,114,58,102,47,28,106,133,62,33,28,48,281,113,135,15,37,68,16,157,89,73,19,67,92,73,230,257,313,62,38,38,59,177,86,40,75,26,27,156,27,66,34,85,42,211,46,84,29,181,48,93,299,76,139,14,63,224,27,62,78,125,110,89,53,40,93,44,130,79,63,126,33,41,39,91,129,11,30,40,196,67,110,47,62,27,107,183,172,165,150,729,67,58,77,206,180,223,22,76,79,26,62,40,348,56,22,119,43,90,124,102,22,65,100,114,43,103,52,106,98,57,48,125,147,101,62,87,25,37,115,37,53,130,74,114,30,14,8,81,18,370,111,209,48,465,70,149,114,48,13,44,82,185,85,93,18,61,65,29,33,108,118,58,217,20,119,77,141,42,81,53,37,95,71,50,13,117,56,25,182,41,189,151,45,51,135,34,130,89,51,233,286,43,38,44,72,197,293,95,21,60,10,57,109,41,43,50,27,66,396,151,205,163,56,150,231,87,174,18,25,103,93,61,185,96,130,200,53,306,31,28,236,20,69,25,97,35,28,154,82,23,65,70,58,115,109,114,130,35,51,171,77,142,60,123,81,52,20,20,47,96,123,44,89,91,33,49,41,73,40,47,68,132,117,18,16,127,22,135,238,81,143,60,53,154,16,56,74,117,63,16,62,70,21,61,53,155,45,75,145,184,93,83,209,23,37,84,147,12,58,113,49,184,73,319,90,186,147,18,75,101,18,166,15,103,17,22,123,177,38,16,87,15,32,50,55,17,60,66,95,136,76,126,28,179,98,61,245,14,88,34,103,14,95,207,153,37,95,195,79,103,85,82,41,143,230,67,77,31,75,87,81,56,112,27,43,37,23,54,101,65,110,59,43,24,80,291,31,125,47,95,31,67,226,80,17,267,67,190,133,11,198,199,55,25,22,234,42,101,27,19,44,86,30,140,65,72,136,131,34,37,97,78,61,113,61,93,40,93,46,26,174,196,362,23,53,27,65,47,51,70,32,79,26,151,46,75,282,256,82,26,57,53,105,84,77,147,146,425,56,89,122,139,43,177,17,41,218,95,45,96,85,38,169,60,77,44,55,45,59,65,234,34,74,44,76,33,52,47,87,22,56,27,33,60,65,34,58,100,86,71,93,30,51,38,75,55,52,22,71,42,104,177,178,112,50,95,14,44,150,40,108,29,118,24,107,42,93,39,43,68,57,106,184,142,98,73,67,49,53,65,48,9,218,72,68,96,89,182,71,12,27,50,14,137,50,99,127,111,105,127,70,14,96,28,71,122,231,171,99,158,44,66,174,63,16,88,116,78,77,74,74,21,34,104,98,22,84,28,134,94,209,111,30,24,133,53,87,118,55,69,247,21,133,13,23,51,283,14,74,71,56,44,107,44,37,84,63,65,163,46,31,64,56,74,44,42,18,47,16,100,79,103,106,49,58,63,69,44,49,36,309,71,105,222,111,53,69,36,42,72,45,257,423,136,129,36,39,43,102,137,83,99,89,116,88,81,99,99,77,58,32,166,145,162,38,37,41,58,92,111,93,236,148,34,54,32,57,158,127,120,79,189,67,107,56,135,42,116,20,72,120,43,647,95,71,295,214,193,141,53,88,69,89,90,195,86,24,28,195,57,95,87,52,310,69,20,164,114,281,17,239,294,34,114,162,520,69,43,180,34,116,83,183,23,155,29,25,73,28,15,75,89,52,21,60,183,163,17,55,28,53,132,35,72,140,117,62,148,70,73,69,60,30,123,109,29,106,27,116,203,58,30,79,66,52,86,89,256,248,67,24,37,70,12,49,75,164,166,62,11,137,95,46,32,105,36,176,60,76,75,60,115,100,62,69,19,38,21,76,75,65,47,103,71,36,37,91,78,88,90,39,123,28,220,17,98,29,23,291,223,187,33,137,39,335,99,113,57,199,21,43,69,95,55,188,35,43,13,55,55,11,213,75,40,55,119,42,88,95,49,105,59,110,63,90,141,35,76,47,72,241,94,81,159,103,43,91,33,85,71,205,16,71,12,11,40,107,70,164,203,99,76,64,44,63,227,108,50,44,87,76,25,39,63,510,12,62,112,32,76,14,324,53,42,19,298,119,100,60,17,239,93,128,136,75,18,161,60,114,234,67,60,21,71,208,163,261,24,236,89,77,235,85,156,24,74,24,269,61,93,89,89,151,270,115,30,37,26,34,52,47,85,107,64,238,45,20,46,80,125,29,69,79,55,388,102,142,30,27,18,24,57,103,125,36,83,34,15,35,45,44,56,47,57,27,81,80,72,17,22,124,48,75,56,70,26,39,42,31,40,55,103,68,137,33,33,136,38,114,120,684,58,60,55,17,150,223,122,89,152,19,90,28,118,40,37,117,70,68,76,29,116,21,50,44,101,52,96,54,234,98,36,59,127,30,104,134,13,76,53,94,21,40,43,11,60,251,58,126,68,49,77,89,527,507,42,87,21,102,53,34,50,25,58,350,323,105,82,58,68,40,64,54,87,19,66,38,40,56,105,120,81,33,222,39,96,45,68,84,17,78,192,96,235,76,23,115,101,27,185,102,147,44,82,37,154,28,52,47,28,192,26,84,19,31,59,64,30,37,403,66,18,17,62,202,110,137,28,27,69,105,55,36,19,31,88,66,62,55,89,15,43,150,45,56,68,33,211,159,15,49,570,164,189,320,65,30,65,70,73,41,42,57,20,158,116,99,33,42,62,111,18,100,56,129,50,61,34,40,19,164,103,76,60,264,18,141,73,19,88,38,203,129,37,95,168,15,509,88,69,110,13,93,37,162,45,88,231,97,82,97,80,13,51,39,62,61,432,71,41,267,12,225,40,140,83,142,132,50,156,56,46,29,61,80,208,173,97,124,10,50,161,28,17,24,65,44,59,25,29,10,185,71,34,136,80,58,82,17,76,89,51,419,27,56,65,105,50,33,30,27,67,290,19,143,17,279,197,67,105,19,43,65,178,431,15,144,115,44,78,27,210,354,36,18,852,143,67,592,10,127,15,97,174,70,25,125,153,60,90,105,91,57,54,38,27,95,57,15,374,52,159,103,51,93,126,49,63,73,79,68,60,12,68,47,44,29,177,111,48,10,74,95,252,83,51,117,35,231,116,162,240,33,68,994,18,48,131,70,147,40,18,153,19,43,262,65,57,19,27,54,94,98,25,77,128,12,146,58,118,56,51,27,86,132,37,33,20,28,84,187,119,42,198,16,22,29,107,16,68,22,24,39,154,32,121,64,77,149,86,74,66,38,74,82,96,65,190,47,84,70,477,100,53,40,131,198,46,21,66,25,124,14,88,63,100,21,37,61,65,18,49,47,36,54,80,62,22,93,64,21,39,34,61,45,28,75,94,102,146,97,175,30,37,78,82,49,39,137,98,40,57,103,15,41,28,167,56,126,38,199,70,62,80,79,113,161,26,47,12,43,94,104,40,158,32,69,70,71,35,149,48,307,10,79,37,99,162,52,202,53,114,118,105,93,37,39,65,60,33,102,112,17,98,22,22,61,36,57,116,102,49,97,182,78,58,47,29,120,24,39,62,139,95,106,55,238,83,290,31,45,74,20,59,27,33,81,98,57,110,130,72,40,66,320,17,39,15,42,120,25,20,13,89,47,49,28,73,91,97,121,88,436,43,314,121,225,15,46,270,413,96,187,21,15,124,56,18,35,58,36,38,72,42,33,18,96,44,62,193,211,257,57,58,25,13,137,93,49,82,40,66,156,140,18,491,133,24,146,74,149,28,113,39,57,21,36,401,61,29,22,250,83,61,66,35,34,59,23,45,52,46,23,41,60,65,98,130,210,231,181,67,16,101,160,55,58,143,30,32,50,135,95,20,27,123,138,88,93,23,114,37,43,74,202,26,128,34,52,33,71,26,41,49,29,11,39,80,41,152,160,67,51,219,48,145,24,15,103,226,63,93,95,273,138,53,89,86,18,70,48,21,160,224,683,70,64,63,32,65,79,59,39,26,53,188,29,57,126,76,25,28,207,74,32,55,70,158,150,50,132,56,30,19,38,50,184,83,113,120,16,22,65,38,38,36,53,114,152,107,82,197,63,78,119,124,171,64,20,46,63,31,189,69,44,51,102,69,55,119,107,11,94,20,150,38,43,259,45,54,12,61,184,100,238,204,48,101,72,596,65,44,98,63,38,70,224,297,110,36,69,252,219,100,57,65,26,39,65,41,70,23,174,12,60,33,18,51,34,36,239,190,15,199,129,159,159,34,164,124,18,50,76,40,80,43,13,211,177,46,32,161,116,54,30,35],\"y0\":\" \",\"yaxis\":\"y\",\"type\":\"box\"}],                        {\"template\":{\"data\":{\"histogram2dcontour\":[{\"type\":\"histogram2dcontour\",\"colorbar\":{\"outlinewidth\":0,\"ticks\":\"\"},\"colorscale\":[[0.0,\"#0d0887\"],[0.1111111111111111,\"#46039f\"],[0.2222222222222222,\"#7201a8\"],[0.3333333333333333,\"#9c179e\"],[0.4444444444444444,\"#bd3786\"],[0.5555555555555556,\"#d8576b\"],[0.6666666666666666,\"#ed7953\"],[0.7777777777777778,\"#fb9f3a\"],[0.8888888888888888,\"#fdca26\"],[1.0,\"#f0f921\"]]}],\"choropleth\":[{\"type\":\"choropleth\",\"colorbar\":{\"outlinewidth\":0,\"ticks\":\"\"}}],\"histogram2d\":[{\"type\":\"histogram2d\",\"colorbar\":{\"outlinewidth\":0,\"ticks\":\"\"},\"colorscale\":[[0.0,\"#0d0887\"],[0.1111111111111111,\"#46039f\"],[0.2222222222222222,\"#7201a8\"],[0.3333333333333333,\"#9c179e\"],[0.4444444444444444,\"#bd3786\"],[0.5555555555555556,\"#d8576b\"],[0.6666666666666666,\"#ed7953\"],[0.7777777777777778,\"#fb9f3a\"],[0.8888888888888888,\"#fdca26\"],[1.0,\"#f0f921\"]]}],\"heatmap\":[{\"type\":\"heatmap\",\"colorbar\":{\"outlinewidth\":0,\"ticks\":\"\"},\"colorscale\":[[0.0,\"#0d0887\"],[0.1111111111111111,\"#46039f\"],[0.2222222222222222,\"#7201a8\"],[0.3333333333333333,\"#9c179e\"],[0.4444444444444444,\"#bd3786\"],[0.5555555555555556,\"#d8576b\"],[0.6666666666666666,\"#ed7953\"],[0.7777777777777778,\"#fb9f3a\"],[0.8888888888888888,\"#fdca26\"],[1.0,\"#f0f921\"]]}],\"heatmapgl\":[{\"type\":\"heatmapgl\",\"colorbar\":{\"outlinewidth\":0,\"ticks\":\"\"},\"colorscale\":[[0.0,\"#0d0887\"],[0.1111111111111111,\"#46039f\"],[0.2222222222222222,\"#7201a8\"],[0.3333333333333333,\"#9c179e\"],[0.4444444444444444,\"#bd3786\"],[0.5555555555555556,\"#d8576b\"],[0.6666666666666666,\"#ed7953\"],[0.7777777777777778,\"#fb9f3a\"],[0.8888888888888888,\"#fdca26\"],[1.0,\"#f0f921\"]]}],\"contourcarpet\":[{\"type\":\"contourcarpet\",\"colorbar\":{\"outlinewidth\":0,\"ticks\":\"\"}}],\"contour\":[{\"type\":\"contour\",\"colorbar\":{\"outlinewidth\":0,\"ticks\":\"\"},\"colorscale\":[[0.0,\"#0d0887\"],[0.1111111111111111,\"#46039f\"],[0.2222222222222222,\"#7201a8\"],[0.3333333333333333,\"#9c179e\"],[0.4444444444444444,\"#bd3786\"],[0.5555555555555556,\"#d8576b\"],[0.6666666666666666,\"#ed7953\"],[0.7777777777777778,\"#fb9f3a\"],[0.8888888888888888,\"#fdca26\"],[1.0,\"#f0f921\"]]}],\"surface\":[{\"type\":\"surface\",\"colorbar\":{\"outlinewidth\":0,\"ticks\":\"\"},\"colorscale\":[[0.0,\"#0d0887\"],[0.1111111111111111,\"#46039f\"],[0.2222222222222222,\"#7201a8\"],[0.3333333333333333,\"#9c179e\"],[0.4444444444444444,\"#bd3786\"],[0.5555555555555556,\"#d8576b\"],[0.6666666666666666,\"#ed7953\"],[0.7777777777777778,\"#fb9f3a\"],[0.8888888888888888,\"#fdca26\"],[1.0,\"#f0f921\"]]}],\"mesh3d\":[{\"type\":\"mesh3d\",\"colorbar\":{\"outlinewidth\":0,\"ticks\":\"\"}}],\"scatter\":[{\"fillpattern\":{\"fillmode\":\"overlay\",\"size\":10,\"solidity\":0.2},\"type\":\"scatter\"}],\"parcoords\":[{\"type\":\"parcoords\",\"line\":{\"colorbar\":{\"outlinewidth\":0,\"ticks\":\"\"}}}],\"scatterpolargl\":[{\"type\":\"scatterpolargl\",\"marker\":{\"colorbar\":{\"outlinewidth\":0,\"ticks\":\"\"}}}],\"bar\":[{\"error_x\":{\"color\":\"#2a3f5f\"},\"error_y\":{\"color\":\"#2a3f5f\"},\"marker\":{\"line\":{\"color\":\"#E5ECF6\",\"width\":0.5},\"pattern\":{\"fillmode\":\"overlay\",\"size\":10,\"solidity\":0.2}},\"type\":\"bar\"}],\"scattergeo\":[{\"type\":\"scattergeo\",\"marker\":{\"colorbar\":{\"outlinewidth\":0,\"ticks\":\"\"}}}],\"scatterpolar\":[{\"type\":\"scatterpolar\",\"marker\":{\"colorbar\":{\"outlinewidth\":0,\"ticks\":\"\"}}}],\"histogram\":[{\"marker\":{\"pattern\":{\"fillmode\":\"overlay\",\"size\":10,\"solidity\":0.2}},\"type\":\"histogram\"}],\"scattergl\":[{\"type\":\"scattergl\",\"marker\":{\"colorbar\":{\"outlinewidth\":0,\"ticks\":\"\"}}}],\"scatter3d\":[{\"type\":\"scatter3d\",\"line\":{\"colorbar\":{\"outlinewidth\":0,\"ticks\":\"\"}},\"marker\":{\"colorbar\":{\"outlinewidth\":0,\"ticks\":\"\"}}}],\"scattermapbox\":[{\"type\":\"scattermapbox\",\"marker\":{\"colorbar\":{\"outlinewidth\":0,\"ticks\":\"\"}}}],\"scatterternary\":[{\"type\":\"scatterternary\",\"marker\":{\"colorbar\":{\"outlinewidth\":0,\"ticks\":\"\"}}}],\"scattercarpet\":[{\"type\":\"scattercarpet\",\"marker\":{\"colorbar\":{\"outlinewidth\":0,\"ticks\":\"\"}}}],\"carpet\":[{\"aaxis\":{\"endlinecolor\":\"#2a3f5f\",\"gridcolor\":\"white\",\"linecolor\":\"white\",\"minorgridcolor\":\"white\",\"startlinecolor\":\"#2a3f5f\"},\"baxis\":{\"endlinecolor\":\"#2a3f5f\",\"gridcolor\":\"white\",\"linecolor\":\"white\",\"minorgridcolor\":\"white\",\"startlinecolor\":\"#2a3f5f\"},\"type\":\"carpet\"}],\"table\":[{\"cells\":{\"fill\":{\"color\":\"#EBF0F8\"},\"line\":{\"color\":\"white\"}},\"header\":{\"fill\":{\"color\":\"#C8D4E3\"},\"line\":{\"color\":\"white\"}},\"type\":\"table\"}],\"barpolar\":[{\"marker\":{\"line\":{\"color\":\"#E5ECF6\",\"width\":0.5},\"pattern\":{\"fillmode\":\"overlay\",\"size\":10,\"solidity\":0.2}},\"type\":\"barpolar\"}],\"pie\":[{\"automargin\":true,\"type\":\"pie\"}]},\"layout\":{\"autotypenumbers\":\"strict\",\"colorway\":[\"#636efa\",\"#EF553B\",\"#00cc96\",\"#ab63fa\",\"#FFA15A\",\"#19d3f3\",\"#FF6692\",\"#B6E880\",\"#FF97FF\",\"#FECB52\"],\"font\":{\"color\":\"#2a3f5f\"},\"hovermode\":\"closest\",\"hoverlabel\":{\"align\":\"left\"},\"paper_bgcolor\":\"white\",\"plot_bgcolor\":\"#E5ECF6\",\"polar\":{\"bgcolor\":\"#E5ECF6\",\"angularaxis\":{\"gridcolor\":\"white\",\"linecolor\":\"white\",\"ticks\":\"\"},\"radialaxis\":{\"gridcolor\":\"white\",\"linecolor\":\"white\",\"ticks\":\"\"}},\"ternary\":{\"bgcolor\":\"#E5ECF6\",\"aaxis\":{\"gridcolor\":\"white\",\"linecolor\":\"white\",\"ticks\":\"\"},\"baxis\":{\"gridcolor\":\"white\",\"linecolor\":\"white\",\"ticks\":\"\"},\"caxis\":{\"gridcolor\":\"white\",\"linecolor\":\"white\",\"ticks\":\"\"}},\"coloraxis\":{\"colorbar\":{\"outlinewidth\":0,\"ticks\":\"\"}},\"colorscale\":{\"sequential\":[[0.0,\"#0d0887\"],[0.1111111111111111,\"#46039f\"],[0.2222222222222222,\"#7201a8\"],[0.3333333333333333,\"#9c179e\"],[0.4444444444444444,\"#bd3786\"],[0.5555555555555556,\"#d8576b\"],[0.6666666666666666,\"#ed7953\"],[0.7777777777777778,\"#fb9f3a\"],[0.8888888888888888,\"#fdca26\"],[1.0,\"#f0f921\"]],\"sequentialminus\":[[0.0,\"#0d0887\"],[0.1111111111111111,\"#46039f\"],[0.2222222222222222,\"#7201a8\"],[0.3333333333333333,\"#9c179e\"],[0.4444444444444444,\"#bd3786\"],[0.5555555555555556,\"#d8576b\"],[0.6666666666666666,\"#ed7953\"],[0.7777777777777778,\"#fb9f3a\"],[0.8888888888888888,\"#fdca26\"],[1.0,\"#f0f921\"]],\"diverging\":[[0,\"#8e0152\"],[0.1,\"#c51b7d\"],[0.2,\"#de77ae\"],[0.3,\"#f1b6da\"],[0.4,\"#fde0ef\"],[0.5,\"#f7f7f7\"],[0.6,\"#e6f5d0\"],[0.7,\"#b8e186\"],[0.8,\"#7fbc41\"],[0.9,\"#4d9221\"],[1,\"#276419\"]]},\"xaxis\":{\"gridcolor\":\"white\",\"linecolor\":\"white\",\"ticks\":\"\",\"title\":{\"standoff\":15},\"zerolinecolor\":\"white\",\"automargin\":true,\"zerolinewidth\":2},\"yaxis\":{\"gridcolor\":\"white\",\"linecolor\":\"white\",\"ticks\":\"\",\"title\":{\"standoff\":15},\"zerolinecolor\":\"white\",\"automargin\":true,\"zerolinewidth\":2},\"scene\":{\"xaxis\":{\"backgroundcolor\":\"#E5ECF6\",\"gridcolor\":\"white\",\"linecolor\":\"white\",\"showbackground\":true,\"ticks\":\"\",\"zerolinecolor\":\"white\",\"gridwidth\":2},\"yaxis\":{\"backgroundcolor\":\"#E5ECF6\",\"gridcolor\":\"white\",\"linecolor\":\"white\",\"showbackground\":true,\"ticks\":\"\",\"zerolinecolor\":\"white\",\"gridwidth\":2},\"zaxis\":{\"backgroundcolor\":\"#E5ECF6\",\"gridcolor\":\"white\",\"linecolor\":\"white\",\"showbackground\":true,\"ticks\":\"\",\"zerolinecolor\":\"white\",\"gridwidth\":2}},\"shapedefaults\":{\"line\":{\"color\":\"#2a3f5f\"}},\"annotationdefaults\":{\"arrowcolor\":\"#2a3f5f\",\"arrowhead\":0,\"arrowwidth\":1},\"geo\":{\"bgcolor\":\"white\",\"landcolor\":\"#E5ECF6\",\"subunitcolor\":\"white\",\"showland\":true,\"showlakes\":true,\"lakecolor\":\"white\"},\"title\":{\"x\":0.05},\"mapbox\":{\"style\":\"light\"}}},\"xaxis\":{\"anchor\":\"y\",\"domain\":[0.0,1.0],\"title\":{\"text\":\"variable\"}},\"yaxis\":{\"anchor\":\"x\",\"domain\":[0.0,1.0],\"title\":{\"text\":\"value\"}},\"legend\":{\"tracegroupgap\":0},\"margin\":{\"t\":60},\"boxmode\":\"group\"},                        {\"responsive\": true}                    ).then(function(){\n",
              "                            \n",
              "var gd = document.getElementById('e1358e95-0eac-426c-80a1-2588a891a650');\n",
              "var x = new MutationObserver(function (mutations, observer) {{\n",
              "        var display = window.getComputedStyle(gd).display;\n",
              "        if (!display || display === 'none') {{\n",
              "            console.log([gd, 'removed!']);\n",
              "            Plotly.purge(gd);\n",
              "            observer.disconnect();\n",
              "        }}\n",
              "}});\n",
              "\n",
              "// Listen for the removal of the full notebook cells\n",
              "var notebookContainer = gd.closest('#notebook-container');\n",
              "if (notebookContainer) {{\n",
              "    x.observe(notebookContainer, {childList: true});\n",
              "}}\n",
              "\n",
              "// Listen for the clearing of the current output cell\n",
              "var outputEl = gd.closest('.output');\n",
              "if (outputEl) {{\n",
              "    x.observe(outputEl, {childList: true});\n",
              "}}\n",
              "\n",
              "                        })                };                            </script>        </div>\n",
              "</body>\n",
              "</html>"
            ]
          },
          "metadata": {}
        }
      ]
    },
    {
      "cell_type": "code",
      "source": [
        "data['review_length'] = data['review_text_correct'].str.split().apply(len)\n",
        "# Calculate the first quartile (Q1) and third quartile (Q3)\n",
        "q1 = data['review_length'].quantile(0.25) # q1 = 49\n",
        "q3 = data['review_length'].quantile(0.75) # q3 = 161\n",
        "# Calculate the Interquartile Range (IQR)\n",
        "iqr = q3 - q1\n",
        "# Define the upper and lower fences for outlier detection\n",
        "upper_fence_iqr = q3 + 1.5 * iqr # upper_fence_iqr = 329\n",
        "lower_fence_iqr = q1 - 1.5 * iqr # lower_fence_iqr = -119\n",
        "# Identify outliers based on the IQR method\n",
        "outliers_iqr = data[(data['review_length'] > upper_fence_iqr) | (data['review_length'] < lower_fence_iqr)]\n",
        "# Remove outliers\n",
        "data_after_iqr_removal = data[~data.index.isin(outliers_iqr.index)]\n",
        "\n",
        "# Evaluate Method 2 (IQR)\n",
        "print(\"Outlier removal using Interquartile Range (IQR)\")\n",
        "print(\"Number of rows after IQR removal:\", len(data_after_iqr_removal))\n",
        "print(\"Number of rows removed:\", len(outliers_iqr))\n",
        "print()"
      ],
      "metadata": {
        "colab": {
          "base_uri": "https://localhost:8080/"
        },
        "id": "B5ZzePQlXZA1",
        "outputId": "c1a7fce9-f457-4cb3-8b8a-612f2bf5bef4"
      },
      "execution_count": null,
      "outputs": [
        {
          "output_type": "stream",
          "name": "stdout",
          "text": [
            "Method 2: Outlier removal using Interquartile Range (IQR)\n",
            "Number of rows after IQR removal: 7360\n",
            "Number of rows removed: 640\n",
            "\n"
          ]
        }
      ]
    },
    {
      "cell_type": "markdown",
      "source": [
        "Outlier removal to eliminate really short or wrong reviews using Median Absolute Deviation (MAD)\n",
        "The Median Absolute Deviation (MAD) is a robust method for detecting outliers in data\n",
        " 1. Calculate the Length of Each Reviews\n",
        " 2. Calculate the Median and MAD\n",
        " 3. Identify Outliers (a threshold (usually 2.5 or 3 times the MAD) to identify outliers)\n",
        " 4. Filter Out Outliers\n"
      ],
      "metadata": {
        "id": "r2q6HhCr3YxD"
      }
    },
    {
      "cell_type": "code",
      "source": [
        "\n",
        "\n",
        "# Method 1: Outlier removal using Median Absolute Deviation (MAD)\n",
        "\n",
        "# Calculate the median of review lengths\n",
        "median_review_length = data['review_length'].median() # median = 90\n",
        "# Calculate the Median Absolute Deviation (MAD)\n",
        "mad = np.abs(data['review_length'] - median_review_length).median()\n",
        "# Define a threshold for identifying outliers\n",
        "threshold = 2.5  # can adjust this threshold based on needs\n",
        "\n",
        "# Define the upper and lower fences for outlier detection\n",
        "upper_fence_mad = median_review_length + threshold * mad\n",
        "lower_fence_mad = median_review_length - threshold * mad\n",
        "# Identify outliers based on the MAD method\n",
        "outliers_mad = data[(data['review_length'] > upper_fence_mad) | (data['review_length'] < lower_fence_mad)]\n",
        "# Remove outliers\n",
        "data_after_mad_removal = data[~data.index.isin(outliers_mad.index)]\n",
        "\n",
        "# Evaluate Method 1 (MAD)\n",
        "print(\"Outlier removal using Median Absolute Deviation (MAD)\")\n",
        "print(\"Number of rows after MAD removal:\", len(data_after_mad_removal))\n",
        "print(\"Number of rows removed:\", len(outliers_mad))\n",
        "print()"
      ],
      "metadata": {
        "colab": {
          "base_uri": "https://localhost:8080/"
        },
        "id": "I1uEMps8CkHZ",
        "outputId": "e7e3e0fb-0836-4d99-b7cf-2bf76937022a"
      },
      "execution_count": 5,
      "outputs": [
        {
          "output_type": "stream",
          "name": "stdout",
          "text": [
            "Method 1: Outlier removal using Median Absolute Deviation (MAD)\n",
            "Number of rows after MAD removal: 6857\n",
            "Number of rows removed: 1143\n",
            "\n"
          ]
        }
      ]
    },
    {
      "cell_type": "markdown",
      "source": [
        "Uses the NLTK library to perform sentiment analysis on text data, identifying and filtering out reviews with\n",
        "nonsensical or spam-like reviews\n",
        "\n",
        "If the threshold (compound) is too low (e.g., -0.9): Only a very small number of extremely negative reviews will be detected,\n",
        "potentially missing less negative but still significant reviews.\n",
        "If the threshold is too high (e.g., 0): More reviews will be detected, including those that may be only slightly negative,\n",
        "increasing the number of false positives."
      ],
      "metadata": {
        "id": "4cQM0JA13Kr1"
      }
    },
    {
      "cell_type": "code",
      "source": [
        "#Cleaning the data from punctuation\n",
        "def remove_punctuation(text):\n",
        "    return re.sub(r'[^\\w\\s]', '', text)\n",
        "\n",
        "# Clean 'review_text_correct' column\n",
        "data['review_text_correct'] = data['review_text_correct'].apply(remove_punctuation)\n",
        "\n",
        "# Count the number of each type of review (positive/negative) remaining\n",
        "total_reviews = data['type'].value_counts()\n",
        "\n",
        "print('Total reviews: ', str(len(data)))\n",
        "print(total_reviews)"
      ],
      "metadata": {
        "id": "w05ddxdKG3Dj",
        "colab": {
          "base_uri": "https://localhost:8080/"
        },
        "outputId": "b05f1909-3560-4bb7-c1de-67e6c055f9e7"
      },
      "execution_count": 6,
      "outputs": [
        {
          "output_type": "stream",
          "name": "stdout",
          "text": [
            "Total reviews:  7853\n",
            "type\n",
            "1    3971\n",
            "0    3882\n",
            "Name: count, dtype: int64\n"
          ]
        }
      ]
    },
    {
      "cell_type": "code",
      "source": [
        "import nltk\n",
        "nltk.download('vader_lexicon')\n",
        "from nltk.sentiment import SentimentIntensityAnalyzer\n",
        "\n",
        "# Instantiate the sentiment analyzer\n",
        "sia = SentimentIntensityAnalyzer()\n",
        "\n",
        "# Define a function to detect anomalies based on sentiment analysis\n",
        "def detect_anomalies(text):\n",
        "    # Return True if the sentiment is significantly negative, else False\n",
        "    return sia.polarity_scores(text)['compound'] < -0.5\n",
        "\n",
        "# Filter out reviews identified as anomalies\n",
        "filtered_data_nlp = data[~data['review_text_correct'].apply(detect_anomalies)]\n",
        "\n",
        "# Evaluate the effectiveness of NLP-based anomaly detection\n",
        "num_removed_reviews = len(data) - len(filtered_data_nlp)\n",
        "print(\"NLTK NLP-based Anomaly Detection\")\n",
        "print(f\"Number of reviews before filtering: {len(data)}\")\n",
        "print(f\"Number of reviews after filtering: {len(filtered_data_nlp)}\")\n"
      ],
      "metadata": {
        "colab": {
          "base_uri": "https://localhost:8080/"
        },
        "id": "FDY7Jl0ZWCO_",
        "outputId": "05a8ec4f-0253-4b36-e3e6-88e877a26911"
      },
      "execution_count": 7,
      "outputs": [
        {
          "output_type": "stream",
          "name": "stderr",
          "text": [
            "[nltk_data] Downloading package vader_lexicon to /root/nltk_data...\n"
          ]
        },
        {
          "output_type": "stream",
          "name": "stdout",
          "text": [
            "NLP-based Anomaly Detection\n",
            "Number of reviews before filtering: 7853\n",
            "Number of reviews after filtering: 6530\n"
          ]
        }
      ]
    },
    {
      "cell_type": "code",
      "source": [
        "!pip install scikit-learn\n",
        "from sklearn.model_selection import train_test_split\n",
        "# Splitting the data\n",
        "# Training data is 60%, Validation data is 20%, Test data is 20%\n",
        "\n",
        "# Split the data into training (60%) and remaining data (40%)\n",
        "train_data, remaining_data = train_test_split(data, test_size=0.4, random_state=42)\n",
        "# Split the remaining data into validation (50%) and test data (50%)\n",
        "val_data, test_data = train_test_split(remaining_data, test_size=0.5, random_state=42)\n",
        "# Print the sizes of the resulting datasets\n",
        "print(\"Training data size:\", len(train_data))\n",
        "print(\"Validation data size:\", len(val_data))\n",
        "print(\"Test data size:\", len(test_data))"
      ],
      "metadata": {
        "colab": {
          "base_uri": "https://localhost:8080/"
        },
        "id": "kw2qKPR0XLZO",
        "outputId": "dc9fb4d5-2a96-4a23-fa56-b607bf0d0c30"
      },
      "execution_count": null,
      "outputs": [
        {
          "output_type": "stream",
          "name": "stdout",
          "text": [
            "Requirement already satisfied: scikit-learn in /usr/local/lib/python3.10/dist-packages (1.3.2)\n",
            "Requirement already satisfied: numpy<2.0,>=1.17.3 in /usr/local/lib/python3.10/dist-packages (from scikit-learn) (1.26.4)\n",
            "Requirement already satisfied: scipy>=1.5.0 in /usr/local/lib/python3.10/dist-packages (from scikit-learn) (1.13.1)\n",
            "Requirement already satisfied: joblib>=1.1.1 in /usr/local/lib/python3.10/dist-packages (from scikit-learn) (1.4.2)\n",
            "Requirement already satisfied: threadpoolctl>=2.0.0 in /usr/local/lib/python3.10/dist-packages (from scikit-learn) (3.5.0)\n",
            "Training data size: 4711\n",
            "Validation data size: 1571\n",
            "Test data size: 1571\n"
          ]
        }
      ]
    },
    {
      "cell_type": "markdown",
      "source": [
        "Model based on pretrained 'distilroberta-base' model"
      ],
      "metadata": {
        "id": "wWFV8SDr4vSo"
      }
    },
    {
      "cell_type": "code",
      "source": [
        "import torch\n",
        "import torch.nn as nn\n",
        "!pip install transformers\n",
        "from transformers import RobertaModel, AutoTokenizer, AutoModelForSequenceClassification, AdamW, get_linear_schedule_with_warmup\n",
        "from torch.utils.data import DataLoader, Dataset\n",
        "from tqdm import tqdm\n",
        "\n",
        "# Define the device\n",
        "device = torch.device(\"cuda\" if torch.cuda.is_available() else \"cpu\")\n",
        "\n",
        "# Define the RoBERTa model class\n",
        "class VSmegaClassifier(nn.Module):\n",
        "    def __init__(self):\n",
        "        super(VSmegaClassifier, self).__init__()\n",
        "        self.roberta = AutoModelForSequenceClassification.from_pretrained('distilroberta-base')\n",
        "\n",
        "    def forward(self, input_ids, attention_mask):\n",
        "        outputs = self.roberta(input_ids=input_ids, attention_mask=attention_mask)\n",
        "        return outputs.logits\n",
        "\n",
        "# Custom dataset class\n",
        "class CustomDataset(Dataset):\n",
        "    def __init__(self, data, tokenizer, max_length):\n",
        "        self.data = data\n",
        "        self.tokenizer = tokenizer\n",
        "        self.max_length = max_length\n",
        "\n",
        "    def __len__(self):\n",
        "        return len(self.data)\n",
        "\n",
        "    def __getitem__(self, idx):\n",
        "        review = self.data.iloc[idx]['review_text_correct']\n",
        "        label = self.data.iloc[idx]['type']\n",
        "        encoding = self.tokenizer(review, padding='max_length', truncation=True, max_length=self.max_length, return_tensors='pt')\n",
        "        return {\n",
        "            'input_ids': encoding['input_ids'].flatten(),\n",
        "            'attention_mask': encoding['attention_mask'].flatten(),\n",
        "            'label': torch.tensor(label, dtype=torch.float)\n",
        "        }\n",
        "\n",
        "# Load tokenizer and model\n",
        "tokenizer = AutoTokenizer.from_pretrained('roberta-base')\n",
        "model = VSmegaClassifier()\n",
        "# Move the model to the device\n",
        "model.to(device)\n",
        "\n",
        "# Define training parameters\n",
        "batch_size = 24\n",
        "epochs = 8\n",
        "learning_rate = 2e-5\n",
        "max_length = 256\n",
        "\n",
        "# Splitting the data\n",
        "# Training data is 60%, Validation data is 20%, Test data is 20%\n",
        "train_data, remaining_data = train_test_split(data, test_size=0.4, random_state=42)\n",
        "val_data, test_data = train_test_split(remaining_data, test_size=0.5, random_state=42)\n",
        "\n",
        "\n",
        "# Create datasets and data loaders\n",
        "train_dataset = CustomDataset(train_data, tokenizer, max_length=max_length)\n",
        "val_dataset = CustomDataset(val_data, tokenizer, max_length=max_length)\n",
        "test_dataset = CustomDataset(test_data, tokenizer, max_length=max_length)\n",
        "\n",
        "train_loader = DataLoader(train_dataset, batch_size=batch_size, shuffle=True)\n",
        "val_loader = DataLoader(val_dataset, batch_size=batch_size)\n",
        "test_loader = DataLoader(test_dataset, batch_size=batch_size)\n",
        "\n",
        "# Define loss function and optimizer\n",
        "criterion = nn.CrossEntropyLoss()\n",
        "optimizer = AdamW(model.parameters(), lr=learning_rate)\n",
        "\n",
        "# Define learning rate schedule and warm-up steps\n",
        "total_steps = len(train_loader) * epochs\n",
        "scheduler = get_linear_schedule_with_warmup(optimizer, num_warmup_steps=total_steps//10, num_training_steps=total_steps)\n",
        "\n",
        "# Training loop with gradient clipping and scheduler step\n",
        "for epoch in range(epochs):\n",
        "    model.train()\n",
        "    running_loss = 0.0\n",
        "    for batch in tqdm(train_loader, desc=f'Epoch {epoch + 1}/{epochs}'):\n",
        "        input_ids = batch['input_ids'].to(device)\n",
        "        attention_mask = batch['attention_mask'].to(device)\n",
        "        labels = batch['label'].to(device)\n",
        "\n",
        "        optimizer.zero_grad()\n",
        "\n",
        "        with torch.cuda.amp.autocast():  # Mixed Precision Training\n",
        "            outputs = model(input_ids, attention_mask)\n",
        "            loss = criterion(outputs, labels.long())\n",
        "\n",
        "        loss.backward()\n",
        "        torch.nn.utils.clip_grad_norm_(model.parameters(), max_norm=1.0)  # Gradient clipping\n",
        "        optimizer.step()\n",
        "        scheduler.step()\n",
        "\n",
        "        running_loss += loss.item()\n",
        "\n",
        "    epoch_loss = running_loss / len(train_loader)\n",
        "    print(f'Training Loss: {epoch_loss:.4f}')\n",
        "\n",
        "    # Validation loop\n",
        "    model.eval()\n",
        "    val_predictions = []\n",
        "    val_labels = []\n",
        "    with torch.no_grad():\n",
        "        for batch in tqdm(val_loader, desc=f'Validation'):\n",
        "            input_ids = batch['input_ids'].to(device)\n",
        "            attention_mask = batch['attention_mask'].to(device)\n",
        "            labels = batch['label'].to(device)\n",
        "\n",
        "            outputs = model(input_ids, attention_mask)\n",
        "            predictions = torch.argmax(outputs, dim=1).flatten().cpu().numpy()\n",
        "            val_predictions.extend(predictions)\n",
        "            val_labels.extend(labels.cpu().numpy())\n",
        "\n",
        "    val_accuracy = accuracy_score(val_labels, val_predictions)\n",
        "    print(f'Validation Accuracy: {val_accuracy:.4f}')\n",
        "\n",
        "# Test loop\n",
        "model.eval()\n",
        "test_predictions = []\n",
        "test_labels = []\n",
        "with torch.no_grad():\n",
        "    for batch in tqdm(test_loader, desc=f'Testing'):\n",
        "        input_ids = batch['input_ids'].to(device)\n",
        "        attention_mask = batch['attention_mask'].to(device)\n",
        "        labels = batch['label'].to(device)\n",
        "\n",
        "        outputs = model(input_ids, attention_mask)\n",
        "        predictions = torch.argmax(outputs, dim=1).flatten().cpu().numpy()\n",
        "        test_predictions.extend(predictions)\n",
        "        test_labels.extend(labels.cpu().numpy())\n",
        "\n",
        "test_accuracy = accuracy_score(test_labels, test_predictions)\n",
        "print(f'\\nTest Accuracy: {test_accuracy:.4f}')"
      ],
      "metadata": {
        "colab": {
          "base_uri": "https://localhost:8080/",
          "height": 1000,
          "referenced_widgets": [
            "6c3977898c954c21b0fc5e368bbfe484",
            "c5292a75ecb64995a4b8b6f6e0d56bc1",
            "0052398248364921a552bedb6cb3f71f",
            "723a8f6968d14416b592c6d785304f2b",
            "9916c4e9fe0d4b1590660819d13c188b",
            "ec34228f103445ee8aadb25edcfad082",
            "ed688407269e4c94a1547411d71d1676",
            "ad307c1d4aa643eb8adcc4d6b9356b07",
            "ee38f3f1d59f48dd91e05f30a08d5a50",
            "bc2c96a5066c403fb9a5b894b47c1ee0",
            "67e64418ef97483094c846ee311720b5",
            "d30d9be1f7d4489997ed51e66e822537",
            "cfa47d02d76a480a9ac7fd171bf36d16",
            "d281e42bfa294085b29c563f5c0d3ba3",
            "4625b9f2083c43e88ae93bafd1545bc4",
            "b934d3412c4e40df9ed3cd73756d5af0",
            "2e883f46849d48b79aa4e3193cb21efc",
            "9a08bb26eef84be48c0ef0f51a51643f",
            "26774b8795cd4f9d8d9c0c138390d5f6",
            "5aca782d14324d8c9e68cb517f43c698",
            "0e5dafaa01e94ce1aae100d6d4b9cc3b",
            "08c2d14d884e40dfae65baf1d67d69f1"
          ]
        },
        "id": "_2kkCyq1XnXu",
        "outputId": "57b5f349-e780-4db0-a0f1-c83a596910e1"
      },
      "execution_count": 9,
      "outputs": [
        {
          "output_type": "stream",
          "name": "stdout",
          "text": [
            "Requirement already satisfied: transformers in /usr/local/lib/python3.10/dist-packages (4.42.4)\n",
            "Requirement already satisfied: filelock in /usr/local/lib/python3.10/dist-packages (from transformers) (3.15.4)\n",
            "Requirement already satisfied: huggingface-hub<1.0,>=0.23.2 in /usr/local/lib/python3.10/dist-packages (from transformers) (0.23.5)\n",
            "Requirement already satisfied: numpy<2.0,>=1.17 in /usr/local/lib/python3.10/dist-packages (from transformers) (1.26.4)\n",
            "Requirement already satisfied: packaging>=20.0 in /usr/local/lib/python3.10/dist-packages (from transformers) (24.1)\n",
            "Requirement already satisfied: pyyaml>=5.1 in /usr/local/lib/python3.10/dist-packages (from transformers) (6.0.2)\n",
            "Requirement already satisfied: regex!=2019.12.17 in /usr/local/lib/python3.10/dist-packages (from transformers) (2024.5.15)\n",
            "Requirement already satisfied: requests in /usr/local/lib/python3.10/dist-packages (from transformers) (2.32.3)\n",
            "Requirement already satisfied: safetensors>=0.4.1 in /usr/local/lib/python3.10/dist-packages (from transformers) (0.4.4)\n",
            "Requirement already satisfied: tokenizers<0.20,>=0.19 in /usr/local/lib/python3.10/dist-packages (from transformers) (0.19.1)\n",
            "Requirement already satisfied: tqdm>=4.27 in /usr/local/lib/python3.10/dist-packages (from transformers) (4.66.5)\n",
            "Requirement already satisfied: fsspec>=2023.5.0 in /usr/local/lib/python3.10/dist-packages (from huggingface-hub<1.0,>=0.23.2->transformers) (2024.6.1)\n",
            "Requirement already satisfied: typing-extensions>=3.7.4.3 in /usr/local/lib/python3.10/dist-packages (from huggingface-hub<1.0,>=0.23.2->transformers) (4.12.2)\n",
            "Requirement already satisfied: charset-normalizer<4,>=2 in /usr/local/lib/python3.10/dist-packages (from requests->transformers) (3.3.2)\n",
            "Requirement already satisfied: idna<4,>=2.5 in /usr/local/lib/python3.10/dist-packages (from requests->transformers) (3.7)\n",
            "Requirement already satisfied: urllib3<3,>=1.21.1 in /usr/local/lib/python3.10/dist-packages (from requests->transformers) (2.0.7)\n",
            "Requirement already satisfied: certifi>=2017.4.17 in /usr/local/lib/python3.10/dist-packages (from requests->transformers) (2024.7.4)\n"
          ]
        },
        {
          "output_type": "display_data",
          "data": {
            "text/plain": [
              "config.json:   0%|          | 0.00/480 [00:00<?, ?B/s]"
            ],
            "application/vnd.jupyter.widget-view+json": {
              "version_major": 2,
              "version_minor": 0,
              "model_id": "6c3977898c954c21b0fc5e368bbfe484"
            }
          },
          "metadata": {}
        },
        {
          "output_type": "display_data",
          "data": {
            "text/plain": [
              "model.safetensors:   0%|          | 0.00/331M [00:00<?, ?B/s]"
            ],
            "application/vnd.jupyter.widget-view+json": {
              "version_major": 2,
              "version_minor": 0,
              "model_id": "d30d9be1f7d4489997ed51e66e822537"
            }
          },
          "metadata": {}
        },
        {
          "output_type": "stream",
          "name": "stderr",
          "text": [
            "Some weights of RobertaForSequenceClassification were not initialized from the model checkpoint at distilroberta-base and are newly initialized: ['classifier.dense.bias', 'classifier.dense.weight', 'classifier.out_proj.bias', 'classifier.out_proj.weight']\n",
            "You should probably TRAIN this model on a down-stream task to be able to use it for predictions and inference.\n",
            "/usr/local/lib/python3.10/dist-packages/transformers/optimization.py:591: FutureWarning:\n",
            "\n",
            "This implementation of AdamW is deprecated and will be removed in a future version. Use the PyTorch implementation torch.optim.AdamW instead, or set `no_deprecation_warning=True` to disable this warning\n",
            "\n",
            "Epoch 1/8: 100%|██████████| 197/197 [00:48<00:00,  4.03it/s]\n"
          ]
        },
        {
          "output_type": "stream",
          "name": "stdout",
          "text": [
            "Training Loss: 0.5106\n"
          ]
        },
        {
          "output_type": "stream",
          "name": "stderr",
          "text": [
            "Validation: 100%|██████████| 66/66 [00:12<00:00,  5.25it/s]\n"
          ]
        },
        {
          "output_type": "stream",
          "name": "stdout",
          "text": [
            "Validation Accuracy: 0.8848\n"
          ]
        },
        {
          "output_type": "stream",
          "name": "stderr",
          "text": [
            "Epoch 2/8: 100%|██████████| 197/197 [00:40<00:00,  4.90it/s]\n"
          ]
        },
        {
          "output_type": "stream",
          "name": "stdout",
          "text": [
            "Training Loss: 0.2522\n"
          ]
        },
        {
          "output_type": "stream",
          "name": "stderr",
          "text": [
            "Validation: 100%|██████████| 66/66 [00:13<00:00,  4.86it/s]\n"
          ]
        },
        {
          "output_type": "stream",
          "name": "stdout",
          "text": [
            "Validation Accuracy: 0.9236\n"
          ]
        },
        {
          "output_type": "stream",
          "name": "stderr",
          "text": [
            "Epoch 3/8: 100%|██████████| 197/197 [00:42<00:00,  4.64it/s]\n"
          ]
        },
        {
          "output_type": "stream",
          "name": "stdout",
          "text": [
            "Training Loss: 0.1676\n"
          ]
        },
        {
          "output_type": "stream",
          "name": "stderr",
          "text": [
            "Validation: 100%|██████████| 66/66 [00:13<00:00,  5.03it/s]\n"
          ]
        },
        {
          "output_type": "stream",
          "name": "stdout",
          "text": [
            "Validation Accuracy: 0.9185\n"
          ]
        },
        {
          "output_type": "stream",
          "name": "stderr",
          "text": [
            "Epoch 4/8: 100%|██████████| 197/197 [00:40<00:00,  4.86it/s]\n"
          ]
        },
        {
          "output_type": "stream",
          "name": "stdout",
          "text": [
            "Training Loss: 0.1083\n"
          ]
        },
        {
          "output_type": "stream",
          "name": "stderr",
          "text": [
            "Validation: 100%|██████████| 66/66 [00:13<00:00,  5.06it/s]\n"
          ]
        },
        {
          "output_type": "stream",
          "name": "stdout",
          "text": [
            "Validation Accuracy: 0.9173\n"
          ]
        },
        {
          "output_type": "stream",
          "name": "stderr",
          "text": [
            "Epoch 5/8: 100%|██████████| 197/197 [00:43<00:00,  4.55it/s]\n"
          ]
        },
        {
          "output_type": "stream",
          "name": "stdout",
          "text": [
            "Training Loss: 0.0753\n"
          ]
        },
        {
          "output_type": "stream",
          "name": "stderr",
          "text": [
            "Validation: 100%|██████████| 66/66 [00:12<00:00,  5.09it/s]\n"
          ]
        },
        {
          "output_type": "stream",
          "name": "stdout",
          "text": [
            "Validation Accuracy: 0.9204\n"
          ]
        },
        {
          "output_type": "stream",
          "name": "stderr",
          "text": [
            "Epoch 6/8: 100%|██████████| 197/197 [00:40<00:00,  4.86it/s]\n"
          ]
        },
        {
          "output_type": "stream",
          "name": "stdout",
          "text": [
            "Training Loss: 0.0432\n"
          ]
        },
        {
          "output_type": "stream",
          "name": "stderr",
          "text": [
            "Validation: 100%|██████████| 66/66 [00:14<00:00,  4.68it/s]\n"
          ]
        },
        {
          "output_type": "stream",
          "name": "stdout",
          "text": [
            "Validation Accuracy: 0.9211\n"
          ]
        },
        {
          "output_type": "stream",
          "name": "stderr",
          "text": [
            "Epoch 7/8: 100%|██████████| 197/197 [00:40<00:00,  4.86it/s]\n"
          ]
        },
        {
          "output_type": "stream",
          "name": "stdout",
          "text": [
            "Training Loss: 0.0271\n"
          ]
        },
        {
          "output_type": "stream",
          "name": "stderr",
          "text": [
            "Validation: 100%|██████████| 66/66 [00:12<00:00,  5.10it/s]\n"
          ]
        },
        {
          "output_type": "stream",
          "name": "stdout",
          "text": [
            "Validation Accuracy: 0.9217\n"
          ]
        },
        {
          "output_type": "stream",
          "name": "stderr",
          "text": [
            "Epoch 8/8: 100%|██████████| 197/197 [00:40<00:00,  4.87it/s]\n"
          ]
        },
        {
          "output_type": "stream",
          "name": "stdout",
          "text": [
            "Training Loss: 0.0194\n"
          ]
        },
        {
          "output_type": "stream",
          "name": "stderr",
          "text": [
            "Validation: 100%|██████████| 66/66 [00:13<00:00,  5.07it/s]\n"
          ]
        },
        {
          "output_type": "stream",
          "name": "stdout",
          "text": [
            "Validation Accuracy: 0.9230\n"
          ]
        },
        {
          "output_type": "stream",
          "name": "stderr",
          "text": [
            "Testing: 100%|██████████| 66/66 [00:13<00:00,  5.06it/s]"
          ]
        },
        {
          "output_type": "stream",
          "name": "stdout",
          "text": [
            "\n",
            "Test Accuracy: 0.9223\n"
          ]
        },
        {
          "output_type": "stream",
          "name": "stderr",
          "text": [
            "\n"
          ]
        }
      ]
    },
    {
      "cell_type": "markdown",
      "source": [],
      "metadata": {
        "id": "MY4f3LTuhS_2"
      }
    },
    {
      "cell_type": "code",
      "source": [
        "from huggingface_hub import login\n",
        "\n",
        "login(token=\"your token\")\n"
      ],
      "metadata": {
        "colab": {
          "base_uri": "https://localhost:8080/"
        },
        "id": "j3OnceU7c0nM",
        "outputId": "71d98ab3-1c44-424a-b612-3a89598ed634"
      },
      "execution_count": 2,
      "outputs": [
        {
          "output_type": "stream",
          "name": "stdout",
          "text": [
            "The token has not been saved to the git credentials helper. Pass `add_to_git_credential=True` in this function directly or `--add-to-git-credential` if using via `huggingface-cli` if you want to set the git credential as well.\n",
            "Token is valid (permission: fineGrained).\n",
            "Your token has been saved to /root/.cache/huggingface/token\n",
            "Login successful\n"
          ]
        }
      ]
    },
    {
      "cell_type": "code",
      "source": [
        "import seaborn as sb\n",
        "# Show the test accuracy\n",
        "print(f'Test Accuracy: {test_accuracy:.4f}')\n",
        "\n",
        "# Create a confusion matrix\n",
        "conf_matrix = confusion_matrix(test_labels, test_predictions)\n",
        "\n",
        "# Plot the confusion matrix as a heatmap\n",
        "confusionMatrixPlot = sb.heatmap(conf_matrix, annot = True, fmt = 'g', cmap = 'pink')"
      ],
      "metadata": {
        "colab": {
          "base_uri": "https://localhost:8080/",
          "height": 447
        },
        "id": "onjnqjRsnd6d",
        "outputId": "b3a1accf-615c-4128-f696-da954d551754"
      },
      "execution_count": 13,
      "outputs": [
        {
          "output_type": "stream",
          "name": "stdout",
          "text": [
            "Test Accuracy: 0.9223\n"
          ]
        },
        {
          "output_type": "display_data",
          "data": {
            "text/plain": [
              "<Figure size 640x480 with 2 Axes>"
            ],
            "image/png": "[encoded data removed]"
          },
          "metadata": {}
        }
      ]
    },
    {
      "cell_type": "code",
      "source": [
        "# Save the fine-tuned model to the folder\n",
        "model.roberta.save_pretrained('VSmegaClassifier')\n",
        "\n",
        "# Save the tokenizer to the same folder\n",
        "tokenizer.save_pretrained('VSmegaClassifier')\n",
        "\n",
        "#import shutil\n",
        "#from google.colab import files\n",
        "#shutil.make_archive('VSmegaClassifier', 'zip', 'VSmegaClassifier')\n",
        "\n",
        "#files.download('VSmegaClassifier.zip')"
      ],
      "metadata": {
        "id": "J5AvELDVnzq7",
        "colab": {
          "base_uri": "https://localhost:8080/"
        },
        "outputId": "67c610ee-be61-434d-8e7a-99d4d5c7d413"
      },
      "execution_count": 14,
      "outputs": [
        {
          "output_type": "execute_result",
          "data": {
            "text/plain": [
              "('VSmegaClassifier/tokenizer_config.json',\n",
              " 'VSmegaClassifier/special_tokens_map.json',\n",
              " 'VSmegaClassifier/vocab.json',\n",
              " 'VSmegaClassifier/merges.txt',\n",
              " 'VSmegaClassifier/added_tokens.json',\n",
              " 'VSmegaClassifier/tokenizer.json')"
            ]
          },
          "metadata": {},
          "execution_count": 14
        }
      ]
    },
    {
      "cell_type": "code",
      "source": [
        "from google.colab import drive\n",
        "!mkdir -p /content/drive/MyDrive/VSmegaClassifier/\n",
        "\n",
        "# save model and tokenizer to Google Drive\n",
        "!cp -r VSmegaClassifier/* /content/drive/MyDrive/VSmegaClassifier/\n"
      ],
      "metadata": {
        "id": "EjeIjGLOqxKi"
      },
      "execution_count": 15,
      "outputs": []
    }
  ]
}